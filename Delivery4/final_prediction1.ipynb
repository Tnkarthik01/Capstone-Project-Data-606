{
 "cells": [
  {
   "cell_type": "code",
   "execution_count": 1,
   "metadata": {},
   "outputs": [],
   "source": [
    "import findspark\n",
    "import imblearn\n",
    "\n",
    "findspark.init()\n",
    "import pyspark"
   ]
  },
  {
   "cell_type": "code",
   "execution_count": 2,
   "metadata": {},
   "outputs": [],
   "source": [
    "from pyspark.sql import SparkSession\n",
    "import pandas as pd\n",
    "# Disable warnings, set Matplotlib inline plotting and load Pandas package\n",
    "import warnings\n",
    "warnings.filterwarnings('ignore')\n",
    "import matplotlib.pyplot as plt\n",
    "%matplotlib inline"
   ]
  },
  {
   "cell_type": "code",
   "execution_count": 3,
   "metadata": {},
   "outputs": [],
   "source": [
    "# Importing DataSets"
   ]
  },
  {
   "cell_type": "code",
   "execution_count": 5,
   "metadata": {},
   "outputs": [],
   "source": [
    "import pyspark.sql.functions as F\n",
    "from pyspark.sql.functions import udf\n",
    "from pyspark.sql.types import IntegerType\n",
    "MAX_MEMORY = \"5g\"\n",
    "pd.set_option('display.width', 400)\n",
    "pd.set_option('display.max_columns', 30)\n",
    "spark = SparkSession.builder.appName('Capstone Project 1').config(\"spark.executor.memory\", MAX_MEMORY).config(\"spark.driver.memory\", MAX_MEMORY).config(\"spark.storage.memoryFraction\",1.0).config(\"spark.executor.cores\",2).getOrCreate()\n",
    "orders= spark.read.csv(r\"D:\\TN\\Capstone\\Datasets\\orders.csv\", header = True, inferSchema = True)\n",
    "prior =spark.read.csv(r\"D:\\TN\\Capstone\\Datasets\\order_products__prior.csv\", header = True, inferSchema = True) "
   ]
  },
  {
   "cell_type": "code",
   "execution_count": 6,
   "metadata": {},
   "outputs": [],
   "source": [
    "#prior.show()"
   ]
  },
  {
   "cell_type": "code",
   "execution_count": 7,
   "metadata": {},
   "outputs": [],
   "source": [
    "from pyspark.sql.window import Window\n",
    "from pyspark.sql.functions import rank, col\n",
    "\n",
    "window1 = Window.partitionBy(prior['order_id'])\n",
    "\n",
    "prior = prior.select('order_id',F.max('add_to_cart_order').over(window1).alias(\"product_count\")).dropDuplicates()\n",
    "\n"
   ]
  },
  {
   "cell_type": "code",
   "execution_count": null,
   "metadata": {},
   "outputs": [],
   "source": []
  },
  {
   "cell_type": "code",
   "execution_count": 8,
   "metadata": {},
   "outputs": [],
   "source": [
    "prior=prior.dropDuplicates()"
   ]
  },
  {
   "cell_type": "code",
   "execution_count": 9,
   "metadata": {},
   "outputs": [],
   "source": [
    "#prior.show()"
   ]
  },
  {
   "cell_type": "code",
   "execution_count": 10,
   "metadata": {},
   "outputs": [],
   "source": [
    "df = orders.join(prior, on = 'order_id', how='left')"
   ]
  },
  {
   "cell_type": "code",
   "execution_count": 11,
   "metadata": {},
   "outputs": [],
   "source": [
    "#df.where(df[\"user_id\"]==1).show()"
   ]
  },
  {
   "cell_type": "code",
   "execution_count": 12,
   "metadata": {},
   "outputs": [],
   "source": [
    "#df_train=df.where(df[\"product_count\"].isNull())"
   ]
  },
  {
   "cell_type": "code",
   "execution_count": 13,
   "metadata": {},
   "outputs": [],
   "source": [
    "#df_train = df_train.select(\"user_id\",\"days_since_prior_order\")"
   ]
  },
  {
   "cell_type": "code",
   "execution_count": 14,
   "metadata": {},
   "outputs": [],
   "source": [
    "#df=df.where(df[\"product_count\"].isNotNull())"
   ]
  },
  {
   "cell_type": "code",
   "execution_count": null,
   "metadata": {},
   "outputs": [],
   "source": [
    "print (\"Rows     : \" ,df.count())\n",
    "print (\"Columns  : \" ,len(df.columns))"
   ]
  },
  {
   "cell_type": "code",
   "execution_count": 15,
   "metadata": {},
   "outputs": [
    {
     "data": {
      "text/plain": [
       "[('order_id', 'int'),\n",
       " ('user_id', 'int'),\n",
       " ('eval_set', 'string'),\n",
       " ('order_number', 'int'),\n",
       " ('order_dow', 'int'),\n",
       " ('order_hour_of_day', 'int'),\n",
       " ('days_since_prior_order', 'double'),\n",
       " ('product_count', 'int')]"
      ]
     },
     "execution_count": 15,
     "metadata": {},
     "output_type": "execute_result"
    }
   ],
   "source": [
    "df.dtypes"
   ]
  },
  {
   "cell_type": "code",
   "execution_count": 16,
   "metadata": {},
   "outputs": [],
   "source": [
    "df = df.select('order_id','user_id','order_number','days_since_prior_order','product_count','order_dow','order_hour_of_day').dropDuplicates()\n"
   ]
  },
  {
   "cell_type": "code",
   "execution_count": 17,
   "metadata": {},
   "outputs": [],
   "source": [
    "window1 = Window.partitionBy(df['user_id']).orderBy(df['order_number'].desc())\n",
    "window2 = Window.partitionBy(df['user_id'])"
   ]
  },
  {
   "cell_type": "code",
   "execution_count": 18,
   "metadata": {},
   "outputs": [
    {
     "data": {
      "text/plain": [
       "[('order_id', 'int'),\n",
       " ('user_id', 'int'),\n",
       " ('order_number', 'int'),\n",
       " ('days_since_prior_order', 'double'),\n",
       " ('product_count', 'int'),\n",
       " ('order_dow', 'int'),\n",
       " ('order_hour_of_day', 'int')]"
      ]
     },
     "execution_count": 18,
     "metadata": {},
     "output_type": "execute_result"
    }
   ],
   "source": [
    "\n",
    "df.dtypes"
   ]
  },
  {
   "cell_type": "code",
   "execution_count": 19,
   "metadata": {},
   "outputs": [],
   "source": [
    "df = df.withColumn('rank',rank().over(window1))\n",
    "df_train = df.filter(col('rank')==1)\n",
    "df_train = df_train.select(\"user_id\",\"days_since_prior_order\")\n",
    "df = df.where(df['rank']>1)\n"
   ]
  },
  {
   "cell_type": "code",
   "execution_count": 20,
   "metadata": {},
   "outputs": [],
   "source": [
    "#df.show()"
   ]
  },
  {
   "cell_type": "code",
   "execution_count": 21,
   "metadata": {},
   "outputs": [],
   "source": [
    "df=df.withColumn('total_orders', F.max('order_number').over(window2))\n",
    "df=df.withColumn('visit_duration', F.sum('days_since_prior_order').over(window2))"
   ]
  },
  {
   "cell_type": "code",
   "execution_count": 22,
   "metadata": {},
   "outputs": [],
   "source": [
    "col_1 = ['user_id','order_dow']\n",
    "col_3 =['user_id','dow_count']\n",
    "col_2 = ['user_id','order_hour_of_day']\n",
    "col_4 =['user_id','hod_count']\n",
    "window3 = Window.partitionBy([col(x) for x in col_1])\n",
    "window4 = Window.partitionBy([col(x) for x in col_2])\n",
    "\n",
    "df = df.withColumn('dow_count',F.count(\"order_dow\").over(window3))\n",
    "df = df.withColumn('hod_count',F.count(\"order_hour_of_day\").over(window4))\n",
    "df = df.orderBy(col_3, ascending=False).dropDuplicates()\n",
    "df = df.withColumn(\"favorite_day_of_week\",F.first(\"order_dow\").over(window2))\n",
    "df = df.orderBy(col_4, ascending=False).dropDuplicates()\n",
    "df = df.withColumn(\"favorite_hour_of_day\",F.first(\"order_hour_of_day\").over(window2))\n"
   ]
  },
  {
   "cell_type": "code",
   "execution_count": 23,
   "metadata": {},
   "outputs": [
    {
     "data": {
      "text/plain": [
       "[('order_id', 'int'),\n",
       " ('user_id', 'int'),\n",
       " ('order_number', 'int'),\n",
       " ('days_since_prior_order', 'double'),\n",
       " ('product_count', 'int'),\n",
       " ('order_dow', 'int'),\n",
       " ('order_hour_of_day', 'int'),\n",
       " ('rank', 'int'),\n",
       " ('total_orders', 'int'),\n",
       " ('visit_duration', 'double'),\n",
       " ('dow_count', 'bigint'),\n",
       " ('hod_count', 'bigint'),\n",
       " ('favorite_day_of_week', 'int'),\n",
       " ('favorite_hour_of_day', 'int')]"
      ]
     },
     "execution_count": 23,
     "metadata": {},
     "output_type": "execute_result"
    }
   ],
   "source": [
    "df.dtypes"
   ]
  },
  {
   "cell_type": "code",
   "execution_count": 24,
   "metadata": {},
   "outputs": [],
   "source": [
    "df = df.filter(col('total_orders')>3)"
   ]
  },
  {
   "cell_type": "code",
   "execution_count": 25,
   "metadata": {},
   "outputs": [],
   "source": [
    "\n",
    "\n",
    "df_2=df.filter(col('rank')<= 11)\n",
    "df_2=df_2.withColumn('avg_prod_count', F.round(F.avg(\"product_count\").over(window2)))\n",
    "\n"
   ]
  },
  {
   "cell_type": "code",
   "execution_count": 26,
   "metadata": {},
   "outputs": [
    {
     "data": {
      "text/plain": [
       "[('order_id', 'int'),\n",
       " ('user_id', 'int'),\n",
       " ('order_number', 'int'),\n",
       " ('days_since_prior_order', 'double'),\n",
       " ('product_count', 'int'),\n",
       " ('order_dow', 'int'),\n",
       " ('order_hour_of_day', 'int'),\n",
       " ('rank', 'int'),\n",
       " ('total_orders', 'int'),\n",
       " ('visit_duration', 'double'),\n",
       " ('dow_count', 'bigint'),\n",
       " ('hod_count', 'bigint'),\n",
       " ('favorite_day_of_week', 'int'),\n",
       " ('favorite_hour_of_day', 'int')]"
      ]
     },
     "execution_count": 26,
     "metadata": {},
     "output_type": "execute_result"
    }
   ],
   "source": [
    "df.dtypes"
   ]
  },
  {
   "cell_type": "code",
   "execution_count": 26,
   "metadata": {},
   "outputs": [],
   "source": [
    "#df_2=df_2.withColumn('avg_prod_count_scaled', (df_2['avg_prod_count']-3))"
   ]
  },
  {
   "cell_type": "code",
   "execution_count": 27,
   "metadata": {},
   "outputs": [],
   "source": [
    "#df_2.where(col('total_orders')>3).show()\n"
   ]
  },
  {
   "cell_type": "code",
   "execution_count": 28,
   "metadata": {},
   "outputs": [],
   "source": [
    "#df_2 = df_2.select(\"user_id\",\"avg_prod_count_scaled\")"
   ]
  },
  {
   "cell_type": "code",
   "execution_count": 29,
   "metadata": {},
   "outputs": [],
   "source": [
    "#df_3 = df.join(df_2,on='user_id',how='inner')"
   ]
  },
  {
   "cell_type": "code",
   "execution_count": 27,
   "metadata": {},
   "outputs": [],
   "source": [
    "df_3 = df_2.select(\"order_id\",\"user_id\",\"order_number\",\"days_since_prior_order\",\"product_count\",\"avg_prod_count\",\"total_orders\",\"visit_duration\",\"rank\",\"favorite_day_of_week\",\"favorite_hour_of_day\").dropDuplicates()"
   ]
  },
  {
   "cell_type": "code",
   "execution_count": 31,
   "metadata": {},
   "outputs": [],
   "source": [
    "#df_3 = df_3.where(df_3['product_count']>=df_3['avg_prod_count_scaled'])"
   ]
  },
  {
   "cell_type": "code",
   "execution_count": 32,
   "metadata": {},
   "outputs": [],
   "source": [
    "#df_3 = df_3.withColumn('rank',rank().over(window1))\n",
    "#df_3=df_3.filter(col('rank')<= 10)"
   ]
  },
  {
   "cell_type": "code",
   "execution_count": 28,
   "metadata": {},
   "outputs": [],
   "source": [
    "#data cleaning\n",
    "df_3 = df_3.where(df_3['days_since_prior_order']!=0)\n",
    "df_3 = df_3.where(df_3['days_since_prior_order'].isNotNull()) "
   ]
  },
  {
   "cell_type": "code",
   "execution_count": 29,
   "metadata": {},
   "outputs": [],
   "source": [
    "df_3=df_3.withColumn('frequency', F.round(F.avg('days_since_prior_order').over(window2)))"
   ]
  },
  {
   "cell_type": "code",
   "execution_count": 30,
   "metadata": {},
   "outputs": [],
   "source": [
    "df_3 = df_3.filter(col('total_orders')>3)"
   ]
  },
  {
   "cell_type": "code",
   "execution_count": 31,
   "metadata": {},
   "outputs": [],
   "source": [
    "window3=Window.partitionBy('user_id').orderBy('rank')\n",
    "df_3=df_3.withColumn(\"recency\",F.first(\"days_since_prior_order\").over(window3))\n",
    "df_3 = df_3.filter(col(\"rank\")>2)\n",
    "df_3=df_3.withColumn(\"days_since_prior_1_order\",F.first(\"days_since_prior_order\").over(window3))\n",
    "df_3 = df_3.filter(col(\"rank\")>3)\n",
    "df_3=df_3.withColumn(\"days_since_prior_2_order\",F.first(\"days_since_prior_order\").over(window3))\n"
   ]
  },
  {
   "cell_type": "code",
   "execution_count": 32,
   "metadata": {},
   "outputs": [],
   "source": [
    "df_3 = df_3.withColumn(\"latest_order_product_count\", F.first(\"product_count\").over(window3))"
   ]
  },
  {
   "cell_type": "code",
   "execution_count": 33,
   "metadata": {},
   "outputs": [
    {
     "data": {
      "text/plain": [
       "[('order_id', 'int'),\n",
       " ('user_id', 'int'),\n",
       " ('order_number', 'int'),\n",
       " ('days_since_prior_order', 'double'),\n",
       " ('product_count', 'int'),\n",
       " ('avg_prod_count', 'double'),\n",
       " ('total_orders', 'int'),\n",
       " ('visit_duration', 'double'),\n",
       " ('rank', 'int'),\n",
       " ('favorite_day_of_week', 'int'),\n",
       " ('favorite_hour_of_day', 'int'),\n",
       " ('frequency', 'double'),\n",
       " ('recency', 'double'),\n",
       " ('days_since_prior_1_order', 'double'),\n",
       " ('days_since_prior_2_order', 'double'),\n",
       " ('latest_order_product_count', 'int')]"
      ]
     },
     "execution_count": 33,
     "metadata": {},
     "output_type": "execute_result"
    }
   ],
   "source": [
    "df_3.dtypes"
   ]
  },
  {
   "cell_type": "code",
   "execution_count": 35,
   "metadata": {},
   "outputs": [],
   "source": [
    "df_3.toPandas().to_csv(\"user_order_data.csv\")"
   ]
  },
  {
   "cell_type": "code",
   "execution_count": 39,
   "metadata": {},
   "outputs": [],
   "source": [
    "df_3 = df_3.drop(\"order_id\",\"order_number\",\"days_since_prior_order\",\"product_count\",\"rank\").dropDuplicates()"
   ]
  },
  {
   "cell_type": "code",
   "execution_count": 40,
   "metadata": {},
   "outputs": [
    {
     "data": {
      "text/plain": [
       "[('user_id', 'int'),\n",
       " ('avg_prod_count', 'double'),\n",
       " ('total_orders', 'int'),\n",
       " ('visit_duration', 'double'),\n",
       " ('favorite_day_of_week', 'int'),\n",
       " ('favorite_hour_of_day', 'int'),\n",
       " ('frequency', 'double'),\n",
       " ('recency', 'double'),\n",
       " ('days_since_prior_1_order', 'double'),\n",
       " ('days_since_prior_2_order', 'double'),\n",
       " ('latest_order_product_count', 'int')]"
      ]
     },
     "execution_count": 40,
     "metadata": {},
     "output_type": "execute_result"
    }
   ],
   "source": [
    "df_3.dtypes"
   ]
  },
  {
   "cell_type": "code",
   "execution_count": 41,
   "metadata": {},
   "outputs": [],
   "source": [
    "df = df_3.join(df_train, on = 'user_id', how='inner').dropDuplicates()"
   ]
  },
  {
   "cell_type": "code",
   "execution_count": 42,
   "metadata": {},
   "outputs": [
    {
     "data": {
      "text/plain": [
       "DataFrame[user_id: int, avg_prod_count: double, total_orders: int, visit_duration: double, favorite_day_of_week: int, favorite_hour_of_day: int, frequency: double, recency: double, days_since_prior_1_order: double, days_since_prior_2_order: double, latest_order_product_count: int, days_since_prior_order: double]"
      ]
     },
     "execution_count": 42,
     "metadata": {},
     "output_type": "execute_result"
    }
   ],
   "source": [
    "df.cache()"
   ]
  },
  {
   "cell_type": "code",
   "execution_count": 44,
   "metadata": {},
   "outputs": [],
   "source": [
    "#print (\"Rows     : \" ,df.count())\n",
    "#print (\"Columns  : \" ,len(df.columns))"
   ]
  },
  {
   "cell_type": "code",
   "execution_count": 45,
   "metadata": {},
   "outputs": [],
   "source": [
    "df = df.dropDuplicates()"
   ]
  },
  {
   "cell_type": "code",
   "execution_count": 46,
   "metadata": {},
   "outputs": [],
   "source": [
    "df.toPandas().to_csv(\"final_prediction_1.csv\")"
   ]
  },
  {
   "cell_type": "code",
   "execution_count": null,
   "metadata": {},
   "outputs": [],
   "source": [
    "from pyspark.sql.types import StringType\n",
    "# Converting label days_since_prior_order to categorical column\n",
    "def purchase_interval(r):\n",
    "    if r <= 15:\n",
    "        return \"Class0\"\n",
    "    elif r > 15:\n",
    "        return \"Class1\"\n",
    "\n",
    "\n",
    "ol_val = udf(purchase_interval, StringType())\n",
    "\n",
    "df = df.withColumn(\"purchase_interval\",F.lit(ol_val(df.days_since_prior_order)))\n",
    "df = df.withColumn(\"prior_1_purchase_interval\",F.lit(ol_val(df.recency)))\n",
    "df = df.withColumn(\"prior_2_purchase_interval\",F.lit(ol_val(df.days_since_prior_1_order)))\n",
    "df = df.withColumn(\"prior_3_purchase_interval\",F.lit(ol_val(df.days_since_prior_2_order)))\n"
   ]
  },
  {
   "cell_type": "code",
   "execution_count": null,
   "metadata": {},
   "outputs": [],
   "source": [
    "#removing outliers (visit duration should be atleast 2 times greater than the total orders as frequency usually won't be 1 day or 0 day)\n",
    "df = df.filter(col('visit_duration')>(2*col('total_orders')))"
   ]
  },
  {
   "cell_type": "code",
   "execution_count": 47,
   "metadata": {},
   "outputs": [
    {
     "name": "stdout",
     "output_type": "stream",
     "text": [
      "                            0\n",
      "user_id                     0\n",
      "avg_prod_count              0\n",
      "total_orders                0\n",
      "visit_duration              0\n",
      "favorite_day_of_week        0\n",
      "favorite_hour_of_day        0\n",
      "frequency                   0\n",
      "recency                     0\n",
      "days_since_prior_1_order    0\n",
      "days_since_prior_2_order    0\n",
      "latest_order_product_count  0\n",
      "days_since_prior_order      0\n",
      "purchase_interval           0\n",
      "prior_1_purchase_interval   0\n",
      "prior_2_purchase_interval   0\n",
      "prior_3_purchase_interval   0\n"
     ]
    }
   ],
   "source": [
    "#checking for missing values\n",
    "print(df.select([F.count(F.when(F.isnan(c) | F.col(c).isNull(), c)).alias(c) for c in df.columns]).toPandas().transpose())\n",
    "#df = df.na.fill(30)\n",
    "#print(df.select([F.count(F.when(F.isnan(c) | F.col(c).isNull(), c)).alias(c) for c in df.columns]).toPandas().transpose())"
   ]
  },
  {
   "cell_type": "code",
   "execution_count": 48,
   "metadata": {},
   "outputs": [
    {
     "data": {
      "text/plain": [
       "[('user_id', 'int'),\n",
       " ('avg_prod_count', 'double'),\n",
       " ('total_orders', 'int'),\n",
       " ('visit_duration', 'double'),\n",
       " ('favorite_day_of_week', 'int'),\n",
       " ('favorite_hour_of_day', 'int'),\n",
       " ('frequency', 'double'),\n",
       " ('recency', 'double'),\n",
       " ('days_since_prior_1_order', 'double'),\n",
       " ('days_since_prior_2_order', 'double'),\n",
       " ('latest_order_product_count', 'int'),\n",
       " ('days_since_prior_order', 'double'),\n",
       " ('purchase_interval', 'string'),\n",
       " ('prior_1_purchase_interval', 'string'),\n",
       " ('prior_2_purchase_interval', 'string'),\n",
       " ('prior_3_purchase_interval', 'string')]"
      ]
     },
     "execution_count": 48,
     "metadata": {},
     "output_type": "execute_result"
    }
   ],
   "source": [
    "df.dtypes"
   ]
  },
  {
   "cell_type": "code",
   "execution_count": 49,
   "metadata": {},
   "outputs": [],
   "source": [
    "\n",
    "r_quartile = df.approxQuantile(\"recency\", [0.25, 0.5, 0.75], 0)\n",
    "f_quartile = df.approxQuantile(\"frequency\", [0.25, 0.5, 0.75], 0)\n",
    "e_quartile = df.approxQuantile(\"visit_duration\", [0.25, 0.5, 0.75], 0)"
   ]
  },
  {
   "cell_type": "code",
   "execution_count": 50,
   "metadata": {},
   "outputs": [],
   "source": [
    "from pyspark.sql.functions import when,concat\n",
    "df = df.withColumn(\"r_quartile\", when(col(\"Recency\") >= r_quartile[2] , 1).when(col(\"Recency\") >= r_quartile[1] , 2).when(col(\"Recency\") >= r_quartile[0] , 3).otherwise(4))\n",
    "df = df.withColumn(\"f_quartile\", when(col(\"Frequency\") >= f_quartile[2] , 1).when(col(\"Frequency\") >= f_quartile[1] , 2).when(col(\"Frequency\") >= f_quartile[0] , 3).otherwise(4))\n",
    "df = df.withColumn(\"e_quartile\", when(col(\"Visit_duration\") >= e_quartile[2] , 1).when(col(\"Visit_duration\") >= e_quartile[1] , 2).when(col(\"Visit_duration\") >= e_quartile[0] , 3).otherwise(4))\n",
    "\n",
    "\n",
    "df = df.withColumn(\"RFE_Score\", concat(col(\"r_quartile\"), col(\"f_quartile\"), col(\"e_quartile\")))\n"
   ]
  },
  {
   "cell_type": "code",
   "execution_count": 51,
   "metadata": {},
   "outputs": [
    {
     "data": {
      "text/plain": [
       "'dataset_size= df.count()\\nl0=df.select(\"purchase_interval\").where(df[\\'purchase_interval\\'] == \\'Class0\\').count()\\nl1=dataset_size-l0\\n\\nprint(\"class0: \",l0)\\nprint(\"class1: \",l1)\\n'"
      ]
     },
     "execution_count": 51,
     "metadata": {},
     "output_type": "execute_result"
    }
   ],
   "source": [
    "'''dataset_size= df.count()\n",
    "l0=df.select(\"purchase_interval\").where(df['purchase_interval'] == 'Class0').count()\n",
    "l1=dataset_size-l0\n",
    "\n",
    "print(\"class0: \",l0)\n",
    "print(\"class1: \",l1)\n",
    "'''"
   ]
  },
  {
   "cell_type": "code",
   "execution_count": 52,
   "metadata": {},
   "outputs": [],
   "source": [
    "#df = df.select(\"user_id\",\"recency\",\"frequency\",\"total_orders\",\"visit_duration\",\"r_quartile\",\"f_quartile\",\"e_quartile\",\"RFE_Score\",\"prior_1_purchase_interval\",\"prior_2_purchase_interval\",\"prior_3_purchase_interval\",\"days_since_prior_1_order\",\"days_since_prior_2_order\",\"purchase_interval\",\"days_since_prior_order\")"
   ]
  },
  {
   "cell_type": "code",
   "execution_count": 53,
   "metadata": {},
   "outputs": [],
   "source": [
    "#df.show(5)"
   ]
  },
  {
   "cell_type": "code",
   "execution_count": 54,
   "metadata": {},
   "outputs": [],
   "source": [
    "\n",
    "df_p = df.toPandas()"
   ]
  },
  {
   "cell_type": "code",
   "execution_count": 60,
   "metadata": {},
   "outputs": [
    {
     "data": {
      "text/plain": [
       "(181386, 20)"
      ]
     },
     "execution_count": 60,
     "metadata": {},
     "output_type": "execute_result"
    }
   ],
   "source": [
    "df_p.shape"
   ]
  },
  {
   "cell_type": "code",
   "execution_count": 56,
   "metadata": {},
   "outputs": [
    {
     "data": {
      "text/plain": [
       "Index(['user_id', 'avg_prod_count', 'total_orders', 'visit_duration', 'favorite_day_of_week', 'favorite_hour_of_day', 'frequency', 'recency', 'days_since_prior_1_order', 'days_since_prior_2_order', 'latest_order_product_count', 'days_since_prior_order', 'purchase_interval', 'prior_1_purchase_interval', 'prior_2_purchase_interval', 'prior_3_purchase_interval', 'r_quartile', 'f_quartile',\n",
       "       'e_quartile', 'RFE_Score'],\n",
       "      dtype='object')"
      ]
     },
     "execution_count": 56,
     "metadata": {},
     "output_type": "execute_result"
    }
   ],
   "source": [
    "df_p.keys()"
   ]
  },
  {
   "cell_type": "code",
   "execution_count": 57,
   "metadata": {},
   "outputs": [
    {
     "data": {
      "text/plain": [
       "<matplotlib.legend.Legend at 0x262fc47ca88>"
      ]
     },
     "execution_count": 57,
     "metadata": {},
     "output_type": "execute_result"
    },
    {
     "data": {
      "image/png": "[encoded data removed]",
      "text/plain": [
       "<Figure size 360x360 with 1 Axes>"
      ]
     },
     "metadata": {
      "needs_background": "light"
     },
     "output_type": "display_data"
    }
   ],
   "source": [
    "import seaborn as sns\n",
    "# Use the 'hue' argument to provide a factor variable\n",
    "sns.lmplot( x=\"total_orders\", y=\"visit_duration\", data=df_p, fit_reg=False, hue='prior_1_purchase_interval', legend=False)\n",
    " \n",
    "# Move the legend to an empty part of the plot\n",
    "plt.legend(loc='lower right')\n"
   ]
  },
  {
   "cell_type": "code",
   "execution_count": 58,
   "metadata": {},
   "outputs": [],
   "source": [
    "# label encoding the data \n",
    "from sklearn.preprocessing import LabelEncoder \n",
    "  \n",
    "le = LabelEncoder() \n",
    "  \n",
    "\n",
    "\n",
    "df_p['prior_1_purchase_interval']= le.fit_transform(df_p['prior_1_purchase_interval']) \n",
    "df_p['purchase_interval']= le.fit_transform(df_p['purchase_interval']) \n",
    "df_p['prior_2_purchase_interval']= le.fit_transform(df_p['prior_2_purchase_interval']) \n",
    "df_p['prior_3_purchase_interval']= le.fit_transform(df_p['prior_3_purchase_interval']) \n",
    "df_p['RFE_Score'] = le.fit_transform(df_p['RFE_Score'])"
   ]
  },
  {
   "cell_type": "code",
   "execution_count": 61,
   "metadata": {},
   "outputs": [],
   "source": [
    "import numpy as np\n",
    "df_p['total_orders_log'] = np.log(df_p.total_orders)\n",
    "df_p['visit_duration_log'] = np.log(df_p.visit_duration)\n",
    "df_p['avg_product_count_log'] = np.log(df_p.avg_prod_count)\n",
    "df_p['latest_order_product_count_log'] = np.log(df_p.latest_order_product_count)\n"
   ]
  },
  {
   "cell_type": "code",
   "execution_count": 62,
   "metadata": {},
   "outputs": [
    {
     "data": {
      "text/plain": [
       "['user_id',\n",
       " 'avg_prod_count',\n",
       " 'total_orders',\n",
       " 'visit_duration',\n",
       " 'favorite_day_of_week',\n",
       " 'favorite_hour_of_day',\n",
       " 'frequency',\n",
       " 'recency',\n",
       " 'days_since_prior_1_order',\n",
       " 'days_since_prior_2_order',\n",
       " 'latest_order_product_count',\n",
       " 'days_since_prior_order',\n",
       " 'purchase_interval',\n",
       " 'prior_1_purchase_interval',\n",
       " 'prior_2_purchase_interval',\n",
       " 'prior_3_purchase_interval',\n",
       " 'r_quartile',\n",
       " 'f_quartile',\n",
       " 'e_quartile',\n",
       " 'RFE_Score',\n",
       " 'total_orders_log',\n",
       " 'visit_duration_log',\n",
       " 'avg_product_count_log',\n",
       " 'latest_order_product_count_log']"
      ]
     },
     "execution_count": 62,
     "metadata": {},
     "output_type": "execute_result"
    }
   ],
   "source": [
    "cols = df_p.columns.tolist()\n",
    "cols"
   ]
  },
  {
   "cell_type": "code",
   "execution_count": 63,
   "metadata": {},
   "outputs": [],
   "source": [
    "cols = ['user_id',\n",
    " 'avg_prod_count',\n",
    " 'total_orders',\n",
    " 'visit_duration',\n",
    " 'favorite_day_of_week',\n",
    " 'favorite_hour_of_day',\n",
    " 'frequency',\n",
    " 'recency',\n",
    " 'days_since_prior_1_order',\n",
    " 'days_since_prior_2_order',\n",
    " 'latest_order_product_count',\n",
    " 'days_since_prior_order',\n",
    " 'prior_1_purchase_interval',\n",
    " 'prior_2_purchase_interval',\n",
    " 'prior_3_purchase_interval',\n",
    " 'r_quartile',\n",
    " 'f_quartile',\n",
    " 'e_quartile',\n",
    " 'RFE_Score',\n",
    " 'total_orders_log',\n",
    " 'visit_duration_log',\n",
    " 'avg_product_count_log',\n",
    " 'latest_order_product_count_log',\n",
    " 'purchase_interval']"
   ]
  },
  {
   "cell_type": "code",
   "execution_count": 64,
   "metadata": {},
   "outputs": [
    {
     "data": {
      "text/plain": [
       "['user_id',\n",
       " 'avg_prod_count',\n",
       " 'total_orders',\n",
       " 'visit_duration',\n",
       " 'favorite_day_of_week',\n",
       " 'favorite_hour_of_day',\n",
       " 'frequency',\n",
       " 'recency',\n",
       " 'days_since_prior_1_order',\n",
       " 'days_since_prior_2_order',\n",
       " 'latest_order_product_count',\n",
       " 'days_since_prior_order',\n",
       " 'prior_1_purchase_interval',\n",
       " 'prior_2_purchase_interval',\n",
       " 'prior_3_purchase_interval',\n",
       " 'r_quartile',\n",
       " 'f_quartile',\n",
       " 'e_quartile',\n",
       " 'RFE_Score',\n",
       " 'total_orders_log',\n",
       " 'visit_duration_log',\n",
       " 'avg_product_count_log',\n",
       " 'latest_order_product_count_log',\n",
       " 'purchase_interval']"
      ]
     },
     "execution_count": 64,
     "metadata": {},
     "output_type": "execute_result"
    }
   ],
   "source": [
    "df_p = df_p[cols]\n",
    "cols\n"
   ]
  },
  {
   "cell_type": "code",
   "execution_count": 65,
   "metadata": {},
   "outputs": [],
   "source": [
    "data = df_p.drop(['days_since_prior_order','total_orders','visit_duration','avg_prod_count','latest_order_product_count'],axis =1)"
   ]
  },
  {
   "cell_type": "code",
   "execution_count": 66,
   "metadata": {},
   "outputs": [
    {
     "data": {
      "text/plain": [
       "Index(['user_id', 'favorite_day_of_week', 'favorite_hour_of_day', 'frequency', 'recency', 'days_since_prior_1_order', 'days_since_prior_2_order', 'prior_1_purchase_interval', 'prior_2_purchase_interval', 'prior_3_purchase_interval', 'r_quartile', 'f_quartile', 'e_quartile', 'RFE_Score', 'total_orders_log', 'visit_duration_log', 'avg_product_count_log', 'latest_order_product_count_log',\n",
       "       'purchase_interval'],\n",
       "      dtype='object')"
      ]
     },
     "execution_count": 66,
     "metadata": {},
     "output_type": "execute_result"
    }
   ],
   "source": [
    "data.keys()"
   ]
  },
  {
   "cell_type": "code",
   "execution_count": 67,
   "metadata": {},
   "outputs": [
    {
     "data": {
      "text/html": [
       "<div>\n",
       "<style scoped>\n",
       "    .dataframe tbody tr th:only-of-type {\n",
       "        vertical-align: middle;\n",
       "    }\n",
       "\n",
       "    .dataframe tbody tr th {\n",
       "        vertical-align: top;\n",
       "    }\n",
       "\n",
       "    .dataframe thead th {\n",
       "        text-align: right;\n",
       "    }\n",
       "</style>\n",
       "<table border=\"1\" class=\"dataframe\">\n",
       "  <thead>\n",
       "    <tr style=\"text-align: right;\">\n",
       "      <th></th>\n",
       "      <th>user_id</th>\n",
       "      <th>favorite_day_of_week</th>\n",
       "      <th>favorite_hour_of_day</th>\n",
       "      <th>frequency</th>\n",
       "      <th>recency</th>\n",
       "      <th>days_since_prior_1_order</th>\n",
       "      <th>days_since_prior_2_order</th>\n",
       "      <th>prior_1_purchase_interval</th>\n",
       "      <th>prior_2_purchase_interval</th>\n",
       "      <th>prior_3_purchase_interval</th>\n",
       "      <th>r_quartile</th>\n",
       "      <th>f_quartile</th>\n",
       "      <th>e_quartile</th>\n",
       "      <th>RFE_Score</th>\n",
       "      <th>total_orders_log</th>\n",
       "      <th>visit_duration_log</th>\n",
       "      <th>avg_product_count_log</th>\n",
       "      <th>latest_order_product_count_log</th>\n",
       "      <th>purchase_interval</th>\n",
       "    </tr>\n",
       "  </thead>\n",
       "  <tbody>\n",
       "    <tr>\n",
       "      <td>count</td>\n",
       "      <td>181386.000000</td>\n",
       "      <td>181386.000000</td>\n",
       "      <td>181386.000000</td>\n",
       "      <td>181386.000000</td>\n",
       "      <td>181386.000000</td>\n",
       "      <td>181386.000000</td>\n",
       "      <td>181386.000000</td>\n",
       "      <td>181386.000000</td>\n",
       "      <td>181386.000000</td>\n",
       "      <td>181386.000000</td>\n",
       "      <td>181386.000000</td>\n",
       "      <td>181386.000000</td>\n",
       "      <td>181386.000000</td>\n",
       "      <td>181386.000000</td>\n",
       "      <td>181386.000000</td>\n",
       "      <td>181386.000000</td>\n",
       "      <td>181386.000000</td>\n",
       "      <td>181386.000000</td>\n",
       "      <td>181386.000000</td>\n",
       "    </tr>\n",
       "    <tr>\n",
       "      <td>mean</td>\n",
       "      <td>103154.640954</td>\n",
       "      <td>2.485037</td>\n",
       "      <td>12.665983</td>\n",
       "      <td>14.902523</td>\n",
       "      <td>15.826067</td>\n",
       "      <td>15.255091</td>\n",
       "      <td>14.922001</td>\n",
       "      <td>0.436081</td>\n",
       "      <td>0.412110</td>\n",
       "      <td>0.397010</td>\n",
       "      <td>2.474971</td>\n",
       "      <td>2.448265</td>\n",
       "      <td>2.497729</td>\n",
       "      <td>30.890317</td>\n",
       "      <td>2.493562</td>\n",
       "      <td>4.940680</td>\n",
       "      <td>2.139356</td>\n",
       "      <td>2.028896</td>\n",
       "      <td>0.470185</td>\n",
       "    </tr>\n",
       "    <tr>\n",
       "      <td>std</td>\n",
       "      <td>59519.795007</td>\n",
       "      <td>2.139362</td>\n",
       "      <td>3.899291</td>\n",
       "      <td>6.804205</td>\n",
       "      <td>10.220146</td>\n",
       "      <td>10.060850</td>\n",
       "      <td>10.012101</td>\n",
       "      <td>0.495899</td>\n",
       "      <td>0.492216</td>\n",
       "      <td>0.489279</td>\n",
       "      <td>1.099772</td>\n",
       "      <td>1.099256</td>\n",
       "      <td>1.118779</td>\n",
       "      <td>20.436349</td>\n",
       "      <td>0.803405</td>\n",
       "      <td>0.697365</td>\n",
       "      <td>0.646096</td>\n",
       "      <td>0.840828</td>\n",
       "      <td>0.499112</td>\n",
       "    </tr>\n",
       "    <tr>\n",
       "      <td>min</td>\n",
       "      <td>1.000000</td>\n",
       "      <td>0.000000</td>\n",
       "      <td>0.000000</td>\n",
       "      <td>1.000000</td>\n",
       "      <td>1.000000</td>\n",
       "      <td>1.000000</td>\n",
       "      <td>1.000000</td>\n",
       "      <td>0.000000</td>\n",
       "      <td>0.000000</td>\n",
       "      <td>0.000000</td>\n",
       "      <td>1.000000</td>\n",
       "      <td>1.000000</td>\n",
       "      <td>1.000000</td>\n",
       "      <td>0.000000</td>\n",
       "      <td>1.386294</td>\n",
       "      <td>2.197225</td>\n",
       "      <td>0.000000</td>\n",
       "      <td>0.000000</td>\n",
       "      <td>0.000000</td>\n",
       "    </tr>\n",
       "    <tr>\n",
       "      <td>25%</td>\n",
       "      <td>51638.000000</td>\n",
       "      <td>1.000000</td>\n",
       "      <td>10.000000</td>\n",
       "      <td>9.000000</td>\n",
       "      <td>7.000000</td>\n",
       "      <td>7.000000</td>\n",
       "      <td>7.000000</td>\n",
       "      <td>0.000000</td>\n",
       "      <td>0.000000</td>\n",
       "      <td>0.000000</td>\n",
       "      <td>1.000000</td>\n",
       "      <td>1.000000</td>\n",
       "      <td>1.000000</td>\n",
       "      <td>11.000000</td>\n",
       "      <td>1.791759</td>\n",
       "      <td>4.477337</td>\n",
       "      <td>1.791759</td>\n",
       "      <td>1.609438</td>\n",
       "      <td>0.000000</td>\n",
       "    </tr>\n",
       "    <tr>\n",
       "      <td>50%</td>\n",
       "      <td>103183.500000</td>\n",
       "      <td>2.000000</td>\n",
       "      <td>12.000000</td>\n",
       "      <td>15.000000</td>\n",
       "      <td>14.000000</td>\n",
       "      <td>13.000000</td>\n",
       "      <td>12.000000</td>\n",
       "      <td>0.000000</td>\n",
       "      <td>0.000000</td>\n",
       "      <td>0.000000</td>\n",
       "      <td>2.000000</td>\n",
       "      <td>2.000000</td>\n",
       "      <td>2.000000</td>\n",
       "      <td>31.000000</td>\n",
       "      <td>2.397895</td>\n",
       "      <td>5.023881</td>\n",
       "      <td>2.197225</td>\n",
       "      <td>2.079442</td>\n",
       "      <td>0.000000</td>\n",
       "    </tr>\n",
       "    <tr>\n",
       "      <td>75%</td>\n",
       "      <td>154704.750000</td>\n",
       "      <td>4.000000</td>\n",
       "      <td>15.000000</td>\n",
       "      <td>20.000000</td>\n",
       "      <td>29.000000</td>\n",
       "      <td>27.000000</td>\n",
       "      <td>26.000000</td>\n",
       "      <td>1.000000</td>\n",
       "      <td>1.000000</td>\n",
       "      <td>1.000000</td>\n",
       "      <td>3.000000</td>\n",
       "      <td>3.000000</td>\n",
       "      <td>3.000000</td>\n",
       "      <td>47.000000</td>\n",
       "      <td>3.044522</td>\n",
       "      <td>5.533389</td>\n",
       "      <td>2.564949</td>\n",
       "      <td>2.639057</td>\n",
       "      <td>1.000000</td>\n",
       "    </tr>\n",
       "    <tr>\n",
       "      <td>max</td>\n",
       "      <td>206209.000000</td>\n",
       "      <td>6.000000</td>\n",
       "      <td>23.000000</td>\n",
       "      <td>30.000000</td>\n",
       "      <td>30.000000</td>\n",
       "      <td>30.000000</td>\n",
       "      <td>30.000000</td>\n",
       "      <td>1.000000</td>\n",
       "      <td>1.000000</td>\n",
       "      <td>1.000000</td>\n",
       "      <td>4.000000</td>\n",
       "      <td>4.000000</td>\n",
       "      <td>4.000000</td>\n",
       "      <td>63.000000</td>\n",
       "      <td>4.595120</td>\n",
       "      <td>5.899897</td>\n",
       "      <td>4.143135</td>\n",
       "      <td>4.624973</td>\n",
       "      <td>1.000000</td>\n",
       "    </tr>\n",
       "  </tbody>\n",
       "</table>\n",
       "</div>"
      ],
      "text/plain": [
       "             user_id  favorite_day_of_week  favorite_hour_of_day      frequency        recency  days_since_prior_1_order  days_since_prior_2_order  prior_1_purchase_interval  prior_2_purchase_interval  prior_3_purchase_interval     r_quartile     f_quartile     e_quartile      RFE_Score  total_orders_log  visit_duration_log  avg_product_count_log  latest_order_product_count_log  \\\n",
       "count  181386.000000         181386.000000         181386.000000  181386.000000  181386.000000             181386.000000             181386.000000              181386.000000              181386.000000              181386.000000  181386.000000  181386.000000  181386.000000  181386.000000     181386.000000       181386.000000          181386.000000                   181386.000000   \n",
       "mean   103154.640954              2.485037             12.665983      14.902523      15.826067                 15.255091                 14.922001                   0.436081                   0.412110                   0.397010       2.474971       2.448265       2.497729      30.890317          2.493562            4.940680               2.139356                        2.028896   \n",
       "std     59519.795007              2.139362              3.899291       6.804205      10.220146                 10.060850                 10.012101                   0.495899                   0.492216                   0.489279       1.099772       1.099256       1.118779      20.436349          0.803405            0.697365               0.646096                        0.840828   \n",
       "min         1.000000              0.000000              0.000000       1.000000       1.000000                  1.000000                  1.000000                   0.000000                   0.000000                   0.000000       1.000000       1.000000       1.000000       0.000000          1.386294            2.197225               0.000000                        0.000000   \n",
       "25%     51638.000000              1.000000             10.000000       9.000000       7.000000                  7.000000                  7.000000                   0.000000                   0.000000                   0.000000       1.000000       1.000000       1.000000      11.000000          1.791759            4.477337               1.791759                        1.609438   \n",
       "50%    103183.500000              2.000000             12.000000      15.000000      14.000000                 13.000000                 12.000000                   0.000000                   0.000000                   0.000000       2.000000       2.000000       2.000000      31.000000          2.397895            5.023881               2.197225                        2.079442   \n",
       "75%    154704.750000              4.000000             15.000000      20.000000      29.000000                 27.000000                 26.000000                   1.000000                   1.000000                   1.000000       3.000000       3.000000       3.000000      47.000000          3.044522            5.533389               2.564949                        2.639057   \n",
       "max    206209.000000              6.000000             23.000000      30.000000      30.000000                 30.000000                 30.000000                   1.000000                   1.000000                   1.000000       4.000000       4.000000       4.000000      63.000000          4.595120            5.899897               4.143135                        4.624973   \n",
       "\n",
       "       purchase_interval  \n",
       "count      181386.000000  \n",
       "mean            0.470185  \n",
       "std             0.499112  \n",
       "min             0.000000  \n",
       "25%             0.000000  \n",
       "50%             0.000000  \n",
       "75%             1.000000  \n",
       "max             1.000000  "
      ]
     },
     "execution_count": 67,
     "metadata": {},
     "output_type": "execute_result"
    }
   ],
   "source": [
    "data.describe()"
   ]
  },
  {
   "cell_type": "code",
   "execution_count": 68,
   "metadata": {},
   "outputs": [
    {
     "data": {
      "text/html": [
       "<div>\n",
       "<style scoped>\n",
       "    .dataframe tbody tr th:only-of-type {\n",
       "        vertical-align: middle;\n",
       "    }\n",
       "\n",
       "    .dataframe tbody tr th {\n",
       "        vertical-align: top;\n",
       "    }\n",
       "\n",
       "    .dataframe thead th {\n",
       "        text-align: right;\n",
       "    }\n",
       "</style>\n",
       "<table border=\"1\" class=\"dataframe\">\n",
       "  <thead>\n",
       "    <tr style=\"text-align: right;\">\n",
       "      <th></th>\n",
       "      <th>user_id</th>\n",
       "      <th>favorite_day_of_week</th>\n",
       "      <th>favorite_hour_of_day</th>\n",
       "      <th>frequency</th>\n",
       "      <th>recency</th>\n",
       "      <th>days_since_prior_1_order</th>\n",
       "      <th>days_since_prior_2_order</th>\n",
       "      <th>prior_1_purchase_interval</th>\n",
       "      <th>prior_2_purchase_interval</th>\n",
       "      <th>prior_3_purchase_interval</th>\n",
       "      <th>r_quartile</th>\n",
       "      <th>f_quartile</th>\n",
       "      <th>e_quartile</th>\n",
       "      <th>RFE_Score</th>\n",
       "      <th>total_orders_log</th>\n",
       "      <th>visit_duration_log</th>\n",
       "      <th>avg_product_count_log</th>\n",
       "      <th>latest_order_product_count_log</th>\n",
       "      <th>purchase_interval</th>\n",
       "    </tr>\n",
       "  </thead>\n",
       "  <tbody>\n",
       "    <tr>\n",
       "      <td>0</td>\n",
       "      <td>148</td>\n",
       "      <td>6</td>\n",
       "      <td>13</td>\n",
       "      <td>7.0</td>\n",
       "      <td>30.0</td>\n",
       "      <td>1.0</td>\n",
       "      <td>3.0</td>\n",
       "      <td>1</td>\n",
       "      <td>0</td>\n",
       "      <td>0</td>\n",
       "      <td>1</td>\n",
       "      <td>4</td>\n",
       "      <td>4</td>\n",
       "      <td>15</td>\n",
       "      <td>1.945910</td>\n",
       "      <td>3.737670</td>\n",
       "      <td>2.708050</td>\n",
       "      <td>2.708050</td>\n",
       "      <td>1</td>\n",
       "    </tr>\n",
       "    <tr>\n",
       "      <td>1</td>\n",
       "      <td>463</td>\n",
       "      <td>1</td>\n",
       "      <td>17</td>\n",
       "      <td>18.0</td>\n",
       "      <td>4.0</td>\n",
       "      <td>17.0</td>\n",
       "      <td>30.0</td>\n",
       "      <td>0</td>\n",
       "      <td>1</td>\n",
       "      <td>1</td>\n",
       "      <td>4</td>\n",
       "      <td>2</td>\n",
       "      <td>3</td>\n",
       "      <td>54</td>\n",
       "      <td>1.945910</td>\n",
       "      <td>4.682131</td>\n",
       "      <td>2.484907</td>\n",
       "      <td>2.995732</td>\n",
       "      <td>1</td>\n",
       "    </tr>\n",
       "    <tr>\n",
       "      <td>2</td>\n",
       "      <td>471</td>\n",
       "      <td>0</td>\n",
       "      <td>14</td>\n",
       "      <td>11.0</td>\n",
       "      <td>16.0</td>\n",
       "      <td>5.0</td>\n",
       "      <td>16.0</td>\n",
       "      <td>1</td>\n",
       "      <td>0</td>\n",
       "      <td>1</td>\n",
       "      <td>2</td>\n",
       "      <td>3</td>\n",
       "      <td>4</td>\n",
       "      <td>27</td>\n",
       "      <td>1.791759</td>\n",
       "      <td>4.007333</td>\n",
       "      <td>3.044522</td>\n",
       "      <td>3.091042</td>\n",
       "      <td>0</td>\n",
       "    </tr>\n",
       "    <tr>\n",
       "      <td>3</td>\n",
       "      <td>496</td>\n",
       "      <td>3</td>\n",
       "      <td>12</td>\n",
       "      <td>2.0</td>\n",
       "      <td>1.0</td>\n",
       "      <td>2.0</td>\n",
       "      <td>1.0</td>\n",
       "      <td>0</td>\n",
       "      <td>0</td>\n",
       "      <td>0</td>\n",
       "      <td>4</td>\n",
       "      <td>4</td>\n",
       "      <td>1</td>\n",
       "      <td>60</td>\n",
       "      <td>4.406719</td>\n",
       "      <td>5.627621</td>\n",
       "      <td>1.609438</td>\n",
       "      <td>1.609438</td>\n",
       "      <td>0</td>\n",
       "    </tr>\n",
       "    <tr>\n",
       "      <td>4</td>\n",
       "      <td>833</td>\n",
       "      <td>1</td>\n",
       "      <td>12</td>\n",
       "      <td>21.0</td>\n",
       "      <td>30.0</td>\n",
       "      <td>6.0</td>\n",
       "      <td>13.0</td>\n",
       "      <td>1</td>\n",
       "      <td>0</td>\n",
       "      <td>0</td>\n",
       "      <td>1</td>\n",
       "      <td>1</td>\n",
       "      <td>2</td>\n",
       "      <td>1</td>\n",
       "      <td>2.397895</td>\n",
       "      <td>5.351858</td>\n",
       "      <td>2.995732</td>\n",
       "      <td>2.639057</td>\n",
       "      <td>1</td>\n",
       "    </tr>\n",
       "  </tbody>\n",
       "</table>\n",
       "</div>"
      ],
      "text/plain": [
       "   user_id  favorite_day_of_week  favorite_hour_of_day  frequency  recency  days_since_prior_1_order  days_since_prior_2_order  prior_1_purchase_interval  prior_2_purchase_interval  prior_3_purchase_interval  r_quartile  f_quartile  e_quartile  RFE_Score  total_orders_log  visit_duration_log  avg_product_count_log  latest_order_product_count_log  purchase_interval\n",
       "0      148                     6                    13        7.0     30.0                       1.0                       3.0                          1                          0                          0           1           4           4         15          1.945910            3.737670               2.708050                        2.708050                  1\n",
       "1      463                     1                    17       18.0      4.0                      17.0                      30.0                          0                          1                          1           4           2           3         54          1.945910            4.682131               2.484907                        2.995732                  1\n",
       "2      471                     0                    14       11.0     16.0                       5.0                      16.0                          1                          0                          1           2           3           4         27          1.791759            4.007333               3.044522                        3.091042                  0\n",
       "3      496                     3                    12        2.0      1.0                       2.0                       1.0                          0                          0                          0           4           4           1         60          4.406719            5.627621               1.609438                        1.609438                  0\n",
       "4      833                     1                    12       21.0     30.0                       6.0                      13.0                          1                          0                          0           1           1           2          1          2.397895            5.351858               2.995732                        2.639057                  1"
      ]
     },
     "execution_count": 68,
     "metadata": {},
     "output_type": "execute_result"
    }
   ],
   "source": [
    "data.head()"
   ]
  },
  {
   "cell_type": "markdown",
   "metadata": {},
   "source": [
    "from sklearn.preprocessing import PolynomialFeatures\n",
    "poly = PolynomialFeatures(degree=3, interaction_only=True)\n",
    "polynomials = pd.DataFrame(poly.fit_transform(data_X))"
   ]
  },
  {
   "cell_type": "markdown",
   "metadata": {},
   "source": [
    "data_1 = pd.concat([data, polynomials], axis=1)"
   ]
  },
  {
   "cell_type": "markdown",
   "metadata": {},
   "source": [
    "data_1= data_1.drop([0,1,2,3,4,5],axis=1)"
   ]
  },
  {
   "cell_type": "markdown",
   "metadata": {},
   "source": [
    "data_1.head(5)"
   ]
  },
  {
   "cell_type": "code",
   "execution_count": 69,
   "metadata": {},
   "outputs": [
    {
     "data": {
      "text/plain": [
       "19"
      ]
     },
     "execution_count": 69,
     "metadata": {},
     "output_type": "execute_result"
    }
   ],
   "source": [
    "len(data.keys())"
   ]
  },
  {
   "cell_type": "code",
   "execution_count": 140,
   "metadata": {},
   "outputs": [],
   "source": [
    "features = ['user_id', 'avg_product_count_log', 'total_orders_log', 'visit_duration_log', 'favorite_day_of_week', 'favorite_hour_of_day', 'frequency', 'recency', 'days_since_prior_1_order', 'days_since_prior_2_order', 'latest_order_product_count_log', 'prior_1_purchase_interval', 'prior_2_purchase_interval', 'prior_3_purchase_interval', 'r_quartile', 'f_quartile', 'e_quartile', 'RFE_Score']\n",
    "target = ['purchase_interval']"
   ]
  },
  {
   "cell_type": "code",
   "execution_count": 70,
   "metadata": {},
   "outputs": [],
   "source": [
    "array = data.values\n",
    "X = array[:,0:18]\n",
    "y = array[:,18]"
   ]
  },
  {
   "cell_type": "code",
   "execution_count": 71,
   "metadata": {},
   "outputs": [
    {
     "data": {
      "text/plain": [
       "array([1., 1., 0., ..., 1., 1., 1.])"
      ]
     },
     "execution_count": 71,
     "metadata": {},
     "output_type": "execute_result"
    }
   ],
   "source": [
    "y"
   ]
  },
  {
   "cell_type": "code",
   "execution_count": 72,
   "metadata": {},
   "outputs": [
    {
     "name": "stdout",
     "output_type": "stream",
     "text": [
      "class0:  96101\n",
      "class1:  85285\n"
     ]
    }
   ],
   "source": [
    "from collections import Counter\n",
    "counter = Counter(y)\n",
    "print(\"class0: \",counter[0.])\n",
    "print(\"class1: \",counter[1.])"
   ]
  },
  {
   "cell_type": "code",
   "execution_count": 73,
   "metadata": {},
   "outputs": [],
   "source": [
    "from sklearn.preprocessing import StandardScaler\n",
    "sc = StandardScaler()\n",
    "X= sc.fit_transform(X)\n"
   ]
  },
  {
   "cell_type": "code",
   "execution_count": 74,
   "metadata": {},
   "outputs": [
    {
     "data": {
      "text/plain": [
       "array([[-1.73063306,  1.64299986,  0.08566118, ..., -1.72508588,\n",
       "         0.88020268,  0.8077239 ],\n",
       "       [-1.72534069, -0.69415143,  1.11149145, ..., -0.37075232,\n",
       "         0.53482984,  1.14986643],\n",
       "       [-1.72520628, -1.16158169,  0.34211874, ..., -1.33839529,\n",
       "         1.40098121,  1.26321957],\n",
       "       ...,\n",
       "       [ 1.72874659,  0.24070909,  1.11149145, ..., -1.33839529,\n",
       "        -0.53799618, -0.09869521],\n",
       "       [ 1.73002348, -0.22672117,  0.08566118, ...,  0.83854924,\n",
       "        -0.29940781,  0.54233753],\n",
       "       [ 1.73124997,  1.1755696 ,  0.85503388, ..., -0.51008263,\n",
       "        -0.53799618, -0.49886427]])"
      ]
     },
     "execution_count": 74,
     "metadata": {},
     "output_type": "execute_result"
    }
   ],
   "source": [
    "X"
   ]
  },
  {
   "cell_type": "code",
   "execution_count": null,
   "metadata": {},
   "outputs": [],
   "source": [
    "from collections import Counter\n",
    "counter = Counter(y)\n",
    "print(counter)"
   ]
  },
  {
   "cell_type": "code",
   "execution_count": 97,
   "metadata": {},
   "outputs": [],
   "source": [
    "#train test split\n",
    "from sklearn.model_selection import train_test_split\n",
    "X_train, X_test, Y_train, Y_test = train_test_split(X, y, test_size=0.20, random_state=1)"
   ]
  },
  {
   "cell_type": "code",
   "execution_count": 100,
   "metadata": {},
   "outputs": [
    {
     "name": "stdout",
     "output_type": "stream",
     "text": [
      "0.702042616533892\n",
      "[[51539 25365]\n",
      " [17871 50333]]\n",
      "              precision    recall  f1-score   support\n",
      "\n",
      "         0.0       0.74      0.67      0.70     76904\n",
      "         1.0       0.66      0.74      0.70     68204\n",
      "\n",
      "    accuracy                           0.70    145108\n",
      "   macro avg       0.70      0.70      0.70    145108\n",
      "weighted avg       0.71      0.70      0.70    145108\n",
      "\n"
     ]
    }
   ],
   "source": [
    "from xgboost import XGBClassifier\n",
    "from sklearn import metrics\n",
    "xgb= XGBClassifier(random_state = 1,scale_pos_weight = 0.9, max_depth = 8)\n",
    "xgbmodel = xgb.fit(X_train, Y_train)\n",
    "prediction_1 = xgbmodel.predict(X_train)\n",
    "\n",
    "# Evaluate predictions\n",
    "print(metrics.accuracy_score(Y_train, prediction_1))\n",
    "print(metrics.confusion_matrix(Y_train, prediction_1))\n",
    "print(metrics.classification_report(Y_train, prediction_1))"
   ]
  },
  {
   "cell_type": "code",
   "execution_count": 101,
   "metadata": {},
   "outputs": [
    {
     "name": "stdout",
     "output_type": "stream",
     "text": [
      "0.6999834610507746\n",
      "[[12754  6443]\n",
      " [ 4441 12640]]\n",
      "              precision    recall  f1-score   support\n",
      "\n",
      "         0.0       0.74      0.66      0.70     19197\n",
      "         1.0       0.66      0.74      0.70     17081\n",
      "\n",
      "    accuracy                           0.70     36278\n",
      "   macro avg       0.70      0.70      0.70     36278\n",
      "weighted avg       0.70      0.70      0.70     36278\n",
      "\n"
     ]
    }
   ],
   "source": [
    "prediction_2 = xgbmodel.predict(X_test)\n",
    "# Evaluate predictions\n",
    "print(metrics.accuracy_score(Y_test, prediction_2))\n",
    "print(metrics.confusion_matrix(Y_test, prediction_2))\n",
    "print(metrics.classification_report(Y_test, prediction_2))"
   ]
  },
  {
   "cell_type": "code",
   "execution_count": 102,
   "metadata": {},
   "outputs": [
    {
     "name": "stdout",
     "output_type": "stream",
     "text": [
      "Accuracy: 70.00%\n"
     ]
    }
   ],
   "source": [
    "# make predictions for test data and evaluate\n",
    "accuracy = metrics.accuracy_score(Y_test, prediction_2)\n",
    "print(\"Accuracy: %.2f%%\" % (accuracy * 100.0))"
   ]
  },
  {
   "cell_type": "code",
   "execution_count": 103,
   "metadata": {},
   "outputs": [
    {
     "name": "stdout",
     "output_type": "stream",
     "text": [
      "[0.02680067 0.0201005  0.02847571 0.14070351 0.05527638 0.06700168\n",
      " 0.05695142 0.         0.         0.         0.         0.\n",
      " 0.         0.04355109 0.1524288  0.2964824  0.05862647 0.05360134]\n"
     ]
    },
    {
     "data": {
      "image/png": "[encoded data removed]",
      "text/plain": [
       "<Figure size 432x288 with 1 Axes>"
      ]
     },
     "metadata": {
      "needs_background": "light"
     },
     "output_type": "display_data"
    }
   ],
   "source": [
    "import matplotlib.pyplot as plt\n",
    "# feature importance\n",
    "print(xgbmodel.feature_importances_)\n",
    "# plot\n",
    "plt.bar(range(len(xgbmodel.feature_importances_)), xgbmodel.feature_importances_)\n",
    "plt.show()"
   ]
  },
  {
   "cell_type": "code",
   "execution_count": 104,
   "metadata": {},
   "outputs": [],
   "source": [
    "features = ['user_id', 'avg_prod_count', 'total_orders', 'visit_duration', 'favorite_day_of_week', 'favorite_hour_of_day', 'frequency', 'recency', 'days_since_prior_1_order', 'days_since_prior_2_order', 'latest_order_product_count', 'prior_1_purchase_interval', 'prior_2_purchase_interval', 'prior_3_purchase_interval', 'r_quartile', 'f_quartile', 'e_quartile', 'RFE_Score']\n",
    "target = ['purchase_interval']"
   ]
  },
  {
   "cell_type": "code",
   "execution_count": 105,
   "metadata": {},
   "outputs": [
    {
     "data": {
      "image/png": "[encoded data removed]",
      "text/plain": [
       "<Figure size 432x288 with 1 Axes>"
      ]
     },
     "metadata": {
      "needs_background": "light"
     },
     "output_type": "display_data"
    }
   ],
   "source": [
    "from xgboost import plot_importance\n",
    "# plot feature importance\n",
    "plot_importance(xgbmodel)\n",
    "plt.show()\n"
   ]
  },
  {
   "cell_type": "code",
   "execution_count": 106,
   "metadata": {},
   "outputs": [
    {
     "data": {
      "text/plain": [
       "'0.80'"
      ]
     },
     "execution_count": 106,
     "metadata": {},
     "output_type": "execute_result"
    }
   ],
   "source": [
    "import xgboost as xgb\n",
    "\n",
    "xgb.__version__"
   ]
  },
  {
   "cell_type": "code",
   "execution_count": 87,
   "metadata": {},
   "outputs": [
    {
     "name": "stdout",
     "output_type": "stream",
     "text": [
      "Thresh=0.000, n=18, Accuracy: 70.00%\n",
      "Thresh=0.000, n=18, Accuracy: 70.00%\n",
      "Thresh=0.000, n=18, Accuracy: 70.00%\n",
      "Thresh=0.000, n=18, Accuracy: 70.00%\n",
      "Thresh=0.000, n=18, Accuracy: 70.00%\n",
      "Thresh=0.000, n=18, Accuracy: 70.00%\n",
      "Thresh=0.020, n=12, Accuracy: 70.00%\n",
      "Thresh=0.027, n=11, Accuracy: 69.95%\n",
      "Thresh=0.028, n=10, Accuracy: 69.95%\n",
      "Thresh=0.044, n=9, Accuracy: 70.01%\n",
      "Thresh=0.054, n=8, Accuracy: 69.94%\n",
      "Thresh=0.055, n=7, Accuracy: 69.90%\n",
      "Thresh=0.057, n=6, Accuracy: 69.09%\n",
      "Thresh=0.059, n=5, Accuracy: 69.02%\n",
      "Thresh=0.067, n=4, Accuracy: 68.93%\n",
      "Thresh=0.141, n=3, Accuracy: 68.76%\n",
      "Thresh=0.152, n=2, Accuracy: 68.42%\n",
      "Thresh=0.296, n=1, Accuracy: 61.26%\n"
     ]
    }
   ],
   "source": [
    "# Fit model using each importance as a threshold\n",
    "\n",
    "from numpy import sort\n",
    "from sklearn.metrics import accuracy_score\n",
    "from sklearn.feature_selection import SelectFromModel\n",
    "thresholds = sort(xgbmodel.feature_importances_)\n",
    "for thresh in thresholds:\n",
    "    # select features using threshold\n",
    "    selection = SelectFromModel(xgbmodel, threshold=thresh, prefit=True)\n",
    "    select_X_train = selection.transform(X_train)\n",
    "    # train model\n",
    "    selection_model = XGBClassifier()\n",
    "    selection_model.fit(select_X_train, Y_train)\n",
    "    # eval model\n",
    "    select_X_test = selection.transform(X_test)\n",
    "    predictions = selection_model.predict(select_X_test)\n",
    "    accuracy = accuracy_score(Y_test, predictions)\n",
    "    print(\"Thresh=%.3f, n=%d, Accuracy: %.2f%%\" % (thresh, select_X_train.shape[1], accuracy*100.0))"
   ]
  },
  {
   "cell_type": "code",
   "execution_count": 130,
   "metadata": {},
   "outputs": [
    {
     "name": "stdout",
     "output_type": "stream",
     "text": [
      "0.7208906469663975\n",
      "[[55422 21482]\n",
      " [19019 49185]]\n",
      "              precision    recall  f1-score   support\n",
      "\n",
      "         0.0       0.74      0.72      0.73     76904\n",
      "         1.0       0.70      0.72      0.71     68204\n",
      "\n",
      "    accuracy                           0.72    145108\n",
      "   macro avg       0.72      0.72      0.72    145108\n",
      "weighted avg       0.72      0.72      0.72    145108\n",
      "\n"
     ]
    }
   ],
   "source": [
    "\n",
    "from sklearn import metrics\n",
    "xgb= XGBClassifier(random_state = 1, threshold = 0.044,scale_pos_weight=0.9,max_depth = 8)\n",
    "xgbmodel = xgb.fit(X_train, Y_train)\n",
    "prediction_1 = xgbmodel.predict(X_train)\n",
    "\n",
    "# Evaluate predictions\n",
    "print(metrics.accuracy_score(Y_train, prediction_1))\n",
    "print(metrics.confusion_matrix(Y_train, prediction_1))\n",
    "print(metrics.classification_report(Y_train, prediction_1))"
   ]
  },
  {
   "cell_type": "code",
   "execution_count": 131,
   "metadata": {},
   "outputs": [
    {
     "name": "stdout",
     "output_type": "stream",
     "text": [
      "0.7003142400352831\n",
      "[[13444  5753]\n",
      " [ 5119 11962]]\n",
      "              precision    recall  f1-score   support\n",
      "\n",
      "         0.0       0.72      0.70      0.71     19197\n",
      "         1.0       0.68      0.70      0.69     17081\n",
      "\n",
      "    accuracy                           0.70     36278\n",
      "   macro avg       0.70      0.70      0.70     36278\n",
      "weighted avg       0.70      0.70      0.70     36278\n",
      "\n"
     ]
    }
   ],
   "source": [
    "prediction_2 = xgbmodel.predict(X_test)\n",
    "# Evaluate predictions\n",
    "print(metrics.accuracy_score(Y_test, prediction_2))\n",
    "print(metrics.confusion_matrix(Y_test, prediction_2))\n",
    "print(metrics.classification_report(Y_test, prediction_2))"
   ]
  },
  {
   "cell_type": "code",
   "execution_count": 133,
   "metadata": {},
   "outputs": [
    {
     "name": "stdout",
     "output_type": "stream",
     "text": [
      "Accuracy: 69.89% (0.49%)\n"
     ]
    }
   ],
   "source": [
    "#evaluation using K-fold crossvalidation\n",
    "# CV model\n",
    "from sklearn.model_selection import KFold\n",
    "from sklearn.model_selection import cross_val_score\n",
    "kfold = KFold(n_splits=10, random_state=1)\n",
    "results = cross_val_score(xgbmodel, X_train, Y_train, cv=kfold)\n",
    "print(\"Accuracy: %.2f%% (%.2f%%)\" % (results.mean()*100, results.std()*100))\n"
   ]
  },
  {
   "cell_type": "code",
   "execution_count": 134,
   "metadata": {},
   "outputs": [
    {
     "name": "stdout",
     "output_type": "stream",
     "text": [
      "0.7167752748282668\n",
      "[[68866 27235]\n",
      " [24138 61147]]\n",
      "              precision    recall  f1-score   support\n",
      "\n",
      "         0.0       0.74      0.72      0.73     96101\n",
      "         1.0       0.69      0.72      0.70     85285\n",
      "\n",
      "    accuracy                           0.72    181386\n",
      "   macro avg       0.72      0.72      0.72    181386\n",
      "weighted avg       0.72      0.72      0.72    181386\n",
      "\n"
     ]
    }
   ],
   "source": [
    "prediction_together = xgbmodel.predict(X)\n",
    "probability = xgbmodel.predict_proba(X)\n",
    "# Evaluate predictions\n",
    "print(metrics.accuracy_score(y, prediction_together))\n",
    "print(metrics.confusion_matrix(y, prediction_together))\n",
    "print(metrics.classification_report(y, prediction_together))"
   ]
  },
  {
   "cell_type": "code",
   "execution_count": 135,
   "metadata": {},
   "outputs": [],
   "source": [
    "prediction = prediction_together.tolist()\n",
    "probabilities = probability.tolist()\n"
   ]
  },
  {
   "cell_type": "code",
   "execution_count": 136,
   "metadata": {},
   "outputs": [],
   "source": [
    "data['prediction_purchase_interval'] = prediction\n",
    "data['probability'] = probabilities"
   ]
  },
  {
   "cell_type": "code",
   "execution_count": 148,
   "metadata": {},
   "outputs": [
    {
     "data": {
      "text/html": [
       "<div>\n",
       "<style scoped>\n",
       "    .dataframe tbody tr th:only-of-type {\n",
       "        vertical-align: middle;\n",
       "    }\n",
       "\n",
       "    .dataframe tbody tr th {\n",
       "        vertical-align: top;\n",
       "    }\n",
       "\n",
       "    .dataframe thead th {\n",
       "        text-align: right;\n",
       "    }\n",
       "</style>\n",
       "<table border=\"1\" class=\"dataframe\">\n",
       "  <thead>\n",
       "    <tr style=\"text-align: right;\">\n",
       "      <th></th>\n",
       "      <th>user_id</th>\n",
       "      <th>frequency</th>\n",
       "      <th>recency</th>\n",
       "      <th>purchase_interval</th>\n",
       "      <th>prediction_purchase_interval</th>\n",
       "      <th>probability</th>\n",
       "    </tr>\n",
       "  </thead>\n",
       "  <tbody>\n",
       "    <tr>\n",
       "      <td>6</td>\n",
       "      <td>1238</td>\n",
       "      <td>11.0</td>\n",
       "      <td>8.0</td>\n",
       "      <td>1</td>\n",
       "      <td>0.0</td>\n",
       "      <td>[0.66220623254776, 0.33779376745224]</td>\n",
       "    </tr>\n",
       "    <tr>\n",
       "      <td>7</td>\n",
       "      <td>1342</td>\n",
       "      <td>7.0</td>\n",
       "      <td>2.0</td>\n",
       "      <td>1</td>\n",
       "      <td>0.0</td>\n",
       "      <td>[0.6062015295028687, 0.39379850029945374]</td>\n",
       "    </tr>\n",
       "    <tr>\n",
       "      <td>8</td>\n",
       "      <td>1580</td>\n",
       "      <td>22.0</td>\n",
       "      <td>30.0</td>\n",
       "      <td>0</td>\n",
       "      <td>1.0</td>\n",
       "      <td>[0.3222254514694214, 0.6777745485305786]</td>\n",
       "    </tr>\n",
       "    <tr>\n",
       "      <td>20</td>\n",
       "      <td>3918</td>\n",
       "      <td>20.0</td>\n",
       "      <td>14.0</td>\n",
       "      <td>0</td>\n",
       "      <td>1.0</td>\n",
       "      <td>[0.3916028141975403, 0.6083971858024597]</td>\n",
       "    </tr>\n",
       "    <tr>\n",
       "      <td>21</td>\n",
       "      <td>4101</td>\n",
       "      <td>14.0</td>\n",
       "      <td>10.0</td>\n",
       "      <td>0</td>\n",
       "      <td>1.0</td>\n",
       "      <td>[0.49824708700180054, 0.5017529129981995]</td>\n",
       "    </tr>\n",
       "    <tr>\n",
       "      <td>...</td>\n",
       "      <td>...</td>\n",
       "      <td>...</td>\n",
       "      <td>...</td>\n",
       "      <td>...</td>\n",
       "      <td>...</td>\n",
       "      <td>...</td>\n",
       "    </tr>\n",
       "    <tr>\n",
       "      <td>181357</td>\n",
       "      <td>198617</td>\n",
       "      <td>30.0</td>\n",
       "      <td>30.0</td>\n",
       "      <td>0</td>\n",
       "      <td>1.0</td>\n",
       "      <td>[0.2280600666999817, 0.7719399333000183]</td>\n",
       "    </tr>\n",
       "    <tr>\n",
       "      <td>181360</td>\n",
       "      <td>199524</td>\n",
       "      <td>16.0</td>\n",
       "      <td>22.0</td>\n",
       "      <td>0</td>\n",
       "      <td>1.0</td>\n",
       "      <td>[0.405803382396698, 0.594196617603302]</td>\n",
       "    </tr>\n",
       "    <tr>\n",
       "      <td>181368</td>\n",
       "      <td>201024</td>\n",
       "      <td>9.0</td>\n",
       "      <td>30.0</td>\n",
       "      <td>1</td>\n",
       "      <td>0.0</td>\n",
       "      <td>[0.5466443300247192, 0.4533556401729584]</td>\n",
       "    </tr>\n",
       "    <tr>\n",
       "      <td>181378</td>\n",
       "      <td>203543</td>\n",
       "      <td>16.0</td>\n",
       "      <td>21.0</td>\n",
       "      <td>0</td>\n",
       "      <td>1.0</td>\n",
       "      <td>[0.4363967776298523, 0.5636032223701477]</td>\n",
       "    </tr>\n",
       "    <tr>\n",
       "      <td>181380</td>\n",
       "      <td>204248</td>\n",
       "      <td>13.0</td>\n",
       "      <td>10.0</td>\n",
       "      <td>0</td>\n",
       "      <td>1.0</td>\n",
       "      <td>[0.4697303771972656, 0.5302696228027344]</td>\n",
       "    </tr>\n",
       "  </tbody>\n",
       "</table>\n",
       "<p>51373 rows × 6 columns</p>\n",
       "</div>"
      ],
      "text/plain": [
       "        user_id  frequency  recency  purchase_interval  prediction_purchase_interval                                probability\n",
       "6          1238       11.0      8.0                  1                           0.0       [0.66220623254776, 0.33779376745224]\n",
       "7          1342        7.0      2.0                  1                           0.0  [0.6062015295028687, 0.39379850029945374]\n",
       "8          1580       22.0     30.0                  0                           1.0   [0.3222254514694214, 0.6777745485305786]\n",
       "20         3918       20.0     14.0                  0                           1.0   [0.3916028141975403, 0.6083971858024597]\n",
       "21         4101       14.0     10.0                  0                           1.0  [0.49824708700180054, 0.5017529129981995]\n",
       "...         ...        ...      ...                ...                           ...                                        ...\n",
       "181357   198617       30.0     30.0                  0                           1.0   [0.2280600666999817, 0.7719399333000183]\n",
       "181360   199524       16.0     22.0                  0                           1.0     [0.405803382396698, 0.594196617603302]\n",
       "181368   201024        9.0     30.0                  1                           0.0   [0.5466443300247192, 0.4533556401729584]\n",
       "181378   203543       16.0     21.0                  0                           1.0   [0.4363967776298523, 0.5636032223701477]\n",
       "181380   204248       13.0     10.0                  0                           1.0   [0.4697303771972656, 0.5302696228027344]\n",
       "\n",
       "[51373 rows x 6 columns]"
      ]
     },
     "execution_count": 148,
     "metadata": {},
     "output_type": "execute_result"
    }
   ],
   "source": [
    "data_1 = data[data[\"purchase_interval\"] != data[\"prediction_purchase_interval\"]]\n",
    "data_1[['user_id','frequency','recency','purchase_interval','prediction_purchase_interval','probability']]\n"
   ]
  },
  {
   "cell_type": "code",
   "execution_count": 149,
   "metadata": {},
   "outputs": [
    {
     "data": {
      "text/html": [
       "<div>\n",
       "<style scoped>\n",
       "    .dataframe tbody tr th:only-of-type {\n",
       "        vertical-align: middle;\n",
       "    }\n",
       "\n",
       "    .dataframe tbody tr th {\n",
       "        vertical-align: top;\n",
       "    }\n",
       "\n",
       "    .dataframe thead th {\n",
       "        text-align: right;\n",
       "    }\n",
       "</style>\n",
       "<table border=\"1\" class=\"dataframe\">\n",
       "  <thead>\n",
       "    <tr style=\"text-align: right;\">\n",
       "      <th></th>\n",
       "      <th>user_id</th>\n",
       "      <th>favorite_day_of_week</th>\n",
       "      <th>favorite_hour_of_day</th>\n",
       "      <th>frequency</th>\n",
       "      <th>recency</th>\n",
       "      <th>days_since_prior_1_order</th>\n",
       "      <th>days_since_prior_2_order</th>\n",
       "      <th>prior_1_purchase_interval</th>\n",
       "      <th>prior_2_purchase_interval</th>\n",
       "      <th>prior_3_purchase_interval</th>\n",
       "      <th>r_quartile</th>\n",
       "      <th>f_quartile</th>\n",
       "      <th>e_quartile</th>\n",
       "      <th>RFE_Score</th>\n",
       "      <th>total_orders_log</th>\n",
       "      <th>visit_duration_log</th>\n",
       "      <th>avg_product_count_log</th>\n",
       "      <th>latest_order_product_count_log</th>\n",
       "      <th>purchase_interval</th>\n",
       "      <th>prediction_purchase_interval</th>\n",
       "    </tr>\n",
       "  </thead>\n",
       "  <tbody>\n",
       "    <tr>\n",
       "      <td>user_id</td>\n",
       "      <td>1.000000</td>\n",
       "      <td>-0.004359</td>\n",
       "      <td>0.001314</td>\n",
       "      <td>0.003790</td>\n",
       "      <td>0.002566</td>\n",
       "      <td>0.003382</td>\n",
       "      <td>0.003320</td>\n",
       "      <td>0.004122</td>\n",
       "      <td>0.002773</td>\n",
       "      <td>0.001939</td>\n",
       "      <td>-0.002600</td>\n",
       "      <td>-0.003469</td>\n",
       "      <td>0.003759</td>\n",
       "      <td>-0.002779</td>\n",
       "      <td>-0.004226</td>\n",
       "      <td>-0.003583</td>\n",
       "      <td>-0.001523</td>\n",
       "      <td>-0.000777</td>\n",
       "      <td>0.003031</td>\n",
       "      <td>0.004962</td>\n",
       "    </tr>\n",
       "    <tr>\n",
       "      <td>favorite_day_of_week</td>\n",
       "      <td>-0.004359</td>\n",
       "      <td>1.000000</td>\n",
       "      <td>-0.000614</td>\n",
       "      <td>-0.000171</td>\n",
       "      <td>-0.000427</td>\n",
       "      <td>-0.000178</td>\n",
       "      <td>-0.000152</td>\n",
       "      <td>0.003794</td>\n",
       "      <td>0.003607</td>\n",
       "      <td>0.003884</td>\n",
       "      <td>0.003380</td>\n",
       "      <td>0.003432</td>\n",
       "      <td>0.047449</td>\n",
       "      <td>0.006247</td>\n",
       "      <td>-0.034015</td>\n",
       "      <td>-0.049379</td>\n",
       "      <td>-0.061591</td>\n",
       "      <td>-0.050224</td>\n",
       "      <td>0.002879</td>\n",
       "      <td>0.008535</td>\n",
       "    </tr>\n",
       "    <tr>\n",
       "      <td>favorite_hour_of_day</td>\n",
       "      <td>0.001314</td>\n",
       "      <td>-0.000614</td>\n",
       "      <td>1.000000</td>\n",
       "      <td>-0.012349</td>\n",
       "      <td>0.000158</td>\n",
       "      <td>-0.002820</td>\n",
       "      <td>-0.006509</td>\n",
       "      <td>0.001934</td>\n",
       "      <td>-0.000221</td>\n",
       "      <td>-0.004172</td>\n",
       "      <td>0.002454</td>\n",
       "      <td>0.005382</td>\n",
       "      <td>-0.045792</td>\n",
       "      <td>0.000764</td>\n",
       "      <td>0.039362</td>\n",
       "      <td>0.050170</td>\n",
       "      <td>0.041546</td>\n",
       "      <td>0.032695</td>\n",
       "      <td>0.001486</td>\n",
       "      <td>0.000303</td>\n",
       "    </tr>\n",
       "    <tr>\n",
       "      <td>frequency</td>\n",
       "      <td>0.003790</td>\n",
       "      <td>-0.000171</td>\n",
       "      <td>-0.012349</td>\n",
       "      <td>1.000000</td>\n",
       "      <td>0.651389</td>\n",
       "      <td>0.673091</td>\n",
       "      <td>0.678301</td>\n",
       "      <td>0.582267</td>\n",
       "      <td>0.597312</td>\n",
       "      <td>0.601535</td>\n",
       "      <td>-0.632761</td>\n",
       "      <td>-0.949135</td>\n",
       "      <td>0.167209</td>\n",
       "      <td>-0.739886</td>\n",
       "      <td>-0.598335</td>\n",
       "      <td>-0.063593</td>\n",
       "      <td>-0.083791</td>\n",
       "      <td>-0.081886</td>\n",
       "      <td>0.425175</td>\n",
       "      <td>0.759184</td>\n",
       "    </tr>\n",
       "    <tr>\n",
       "      <td>recency</td>\n",
       "      <td>0.002566</td>\n",
       "      <td>-0.000427</td>\n",
       "      <td>0.000158</td>\n",
       "      <td>0.651389</td>\n",
       "      <td>1.000000</td>\n",
       "      <td>0.396098</td>\n",
       "      <td>0.352003</td>\n",
       "      <td>0.904542</td>\n",
       "      <td>0.349775</td>\n",
       "      <td>0.310046</td>\n",
       "      <td>-0.957798</td>\n",
       "      <td>-0.620645</td>\n",
       "      <td>0.115961</td>\n",
       "      <td>-0.951882</td>\n",
       "      <td>-0.391747</td>\n",
       "      <td>-0.041780</td>\n",
       "      <td>-0.061229</td>\n",
       "      <td>-0.073895</td>\n",
       "      <td>0.342317</td>\n",
       "      <td>0.649391</td>\n",
       "    </tr>\n",
       "    <tr>\n",
       "      <td>days_since_prior_1_order</td>\n",
       "      <td>0.003382</td>\n",
       "      <td>-0.000178</td>\n",
       "      <td>-0.002820</td>\n",
       "      <td>0.673091</td>\n",
       "      <td>0.396098</td>\n",
       "      <td>1.000000</td>\n",
       "      <td>0.390925</td>\n",
       "      <td>0.353759</td>\n",
       "      <td>0.901044</td>\n",
       "      <td>0.344243</td>\n",
       "      <td>-0.385883</td>\n",
       "      <td>-0.640901</td>\n",
       "      <td>0.096761</td>\n",
       "      <td>-0.464855</td>\n",
       "      <td>-0.386595</td>\n",
       "      <td>-0.024410</td>\n",
       "      <td>-0.062064</td>\n",
       "      <td>-0.070422</td>\n",
       "      <td>0.315066</td>\n",
       "      <td>0.593918</td>\n",
       "    </tr>\n",
       "    <tr>\n",
       "      <td>days_since_prior_2_order</td>\n",
       "      <td>0.003320</td>\n",
       "      <td>-0.000152</td>\n",
       "      <td>-0.006509</td>\n",
       "      <td>0.678301</td>\n",
       "      <td>0.352003</td>\n",
       "      <td>0.390925</td>\n",
       "      <td>1.000000</td>\n",
       "      <td>0.313241</td>\n",
       "      <td>0.346763</td>\n",
       "      <td>0.900631</td>\n",
       "      <td>-0.344763</td>\n",
       "      <td>-0.644313</td>\n",
       "      <td>0.092878</td>\n",
       "      <td>-0.430396</td>\n",
       "      <td>-0.387586</td>\n",
       "      <td>-0.022883</td>\n",
       "      <td>-0.056465</td>\n",
       "      <td>-0.021283</td>\n",
       "      <td>0.294995</td>\n",
       "      <td>0.541502</td>\n",
       "    </tr>\n",
       "    <tr>\n",
       "      <td>prior_1_purchase_interval</td>\n",
       "      <td>0.004122</td>\n",
       "      <td>0.003794</td>\n",
       "      <td>0.001934</td>\n",
       "      <td>0.582267</td>\n",
       "      <td>0.904542</td>\n",
       "      <td>0.353759</td>\n",
       "      <td>0.313241</td>\n",
       "      <td>1.000000</td>\n",
       "      <td>0.321644</td>\n",
       "      <td>0.280548</td>\n",
       "      <td>-0.842410</td>\n",
       "      <td>-0.560156</td>\n",
       "      <td>0.096481</td>\n",
       "      <td>-0.840582</td>\n",
       "      <td>-0.338874</td>\n",
       "      <td>-0.029625</td>\n",
       "      <td>-0.065352</td>\n",
       "      <td>-0.074799</td>\n",
       "      <td>0.308609</td>\n",
       "      <td>0.601677</td>\n",
       "    </tr>\n",
       "    <tr>\n",
       "      <td>prior_2_purchase_interval</td>\n",
       "      <td>0.002773</td>\n",
       "      <td>0.003607</td>\n",
       "      <td>-0.000221</td>\n",
       "      <td>0.597312</td>\n",
       "      <td>0.349775</td>\n",
       "      <td>0.901044</td>\n",
       "      <td>0.346763</td>\n",
       "      <td>0.321644</td>\n",
       "      <td>1.000000</td>\n",
       "      <td>0.314724</td>\n",
       "      <td>-0.336013</td>\n",
       "      <td>-0.574128</td>\n",
       "      <td>0.079834</td>\n",
       "      <td>-0.408475</td>\n",
       "      <td>-0.332272</td>\n",
       "      <td>-0.015646</td>\n",
       "      <td>-0.067505</td>\n",
       "      <td>-0.075266</td>\n",
       "      <td>0.282853</td>\n",
       "      <td>0.544591</td>\n",
       "    </tr>\n",
       "    <tr>\n",
       "      <td>prior_3_purchase_interval</td>\n",
       "      <td>0.001939</td>\n",
       "      <td>0.003884</td>\n",
       "      <td>-0.004172</td>\n",
       "      <td>0.601535</td>\n",
       "      <td>0.310046</td>\n",
       "      <td>0.344243</td>\n",
       "      <td>0.900631</td>\n",
       "      <td>0.280548</td>\n",
       "      <td>0.314724</td>\n",
       "      <td>1.000000</td>\n",
       "      <td>-0.300418</td>\n",
       "      <td>-0.576336</td>\n",
       "      <td>0.076409</td>\n",
       "      <td>-0.378490</td>\n",
       "      <td>-0.332793</td>\n",
       "      <td>-0.014107</td>\n",
       "      <td>-0.064899</td>\n",
       "      <td>-0.038342</td>\n",
       "      <td>0.262919</td>\n",
       "      <td>0.488833</td>\n",
       "    </tr>\n",
       "    <tr>\n",
       "      <td>r_quartile</td>\n",
       "      <td>-0.002600</td>\n",
       "      <td>0.003380</td>\n",
       "      <td>0.002454</td>\n",
       "      <td>-0.632761</td>\n",
       "      <td>-0.957798</td>\n",
       "      <td>-0.385883</td>\n",
       "      <td>-0.344763</td>\n",
       "      <td>-0.842410</td>\n",
       "      <td>-0.336013</td>\n",
       "      <td>-0.300418</td>\n",
       "      <td>1.000000</td>\n",
       "      <td>0.603924</td>\n",
       "      <td>-0.114769</td>\n",
       "      <td>0.984688</td>\n",
       "      <td>0.387184</td>\n",
       "      <td>0.041842</td>\n",
       "      <td>0.054225</td>\n",
       "      <td>0.065883</td>\n",
       "      <td>-0.332197</td>\n",
       "      <td>-0.622631</td>\n",
       "    </tr>\n",
       "    <tr>\n",
       "      <td>f_quartile</td>\n",
       "      <td>-0.003469</td>\n",
       "      <td>0.003432</td>\n",
       "      <td>0.005382</td>\n",
       "      <td>-0.949135</td>\n",
       "      <td>-0.620645</td>\n",
       "      <td>-0.640901</td>\n",
       "      <td>-0.644313</td>\n",
       "      <td>-0.560156</td>\n",
       "      <td>-0.574128</td>\n",
       "      <td>-0.576336</td>\n",
       "      <td>0.603924</td>\n",
       "      <td>1.000000</td>\n",
       "      <td>-0.153174</td>\n",
       "      <td>0.726770</td>\n",
       "      <td>0.569748</td>\n",
       "      <td>0.049625</td>\n",
       "      <td>0.077306</td>\n",
       "      <td>0.075975</td>\n",
       "      <td>-0.417006</td>\n",
       "      <td>-0.762020</td>\n",
       "    </tr>\n",
       "    <tr>\n",
       "      <td>e_quartile</td>\n",
       "      <td>0.003759</td>\n",
       "      <td>0.047449</td>\n",
       "      <td>-0.045792</td>\n",
       "      <td>0.167209</td>\n",
       "      <td>0.115961</td>\n",
       "      <td>0.096761</td>\n",
       "      <td>0.092878</td>\n",
       "      <td>0.096481</td>\n",
       "      <td>0.079834</td>\n",
       "      <td>0.076409</td>\n",
       "      <td>-0.114769</td>\n",
       "      <td>-0.153174</td>\n",
       "      <td>1.000000</td>\n",
       "      <td>-0.077032</td>\n",
       "      <td>-0.820804</td>\n",
       "      <td>-0.931418</td>\n",
       "      <td>-0.065395</td>\n",
       "      <td>-0.063955</td>\n",
       "      <td>0.171697</td>\n",
       "      <td>0.263770</td>\n",
       "    </tr>\n",
       "    <tr>\n",
       "      <td>RFE_Score</td>\n",
       "      <td>-0.002779</td>\n",
       "      <td>0.006247</td>\n",
       "      <td>0.000764</td>\n",
       "      <td>-0.739886</td>\n",
       "      <td>-0.951882</td>\n",
       "      <td>-0.464855</td>\n",
       "      <td>-0.430396</td>\n",
       "      <td>-0.840582</td>\n",
       "      <td>-0.408475</td>\n",
       "      <td>-0.378490</td>\n",
       "      <td>0.984688</td>\n",
       "      <td>0.726770</td>\n",
       "      <td>-0.077032</td>\n",
       "      <td>1.000000</td>\n",
       "      <td>0.411029</td>\n",
       "      <td>-0.004285</td>\n",
       "      <td>0.059742</td>\n",
       "      <td>0.069573</td>\n",
       "      <td>-0.366355</td>\n",
       "      <td>-0.685619</td>\n",
       "    </tr>\n",
       "    <tr>\n",
       "      <td>total_orders_log</td>\n",
       "      <td>-0.004226</td>\n",
       "      <td>-0.034015</td>\n",
       "      <td>0.039362</td>\n",
       "      <td>-0.598335</td>\n",
       "      <td>-0.391747</td>\n",
       "      <td>-0.386595</td>\n",
       "      <td>-0.387586</td>\n",
       "      <td>-0.338874</td>\n",
       "      <td>-0.332272</td>\n",
       "      <td>-0.332793</td>\n",
       "      <td>0.387184</td>\n",
       "      <td>0.569748</td>\n",
       "      <td>-0.820804</td>\n",
       "      <td>0.411029</td>\n",
       "      <td>1.000000</td>\n",
       "      <td>0.805571</td>\n",
       "      <td>0.081348</td>\n",
       "      <td>0.077888</td>\n",
       "      <td>-0.349112</td>\n",
       "      <td>-0.553427</td>\n",
       "    </tr>\n",
       "    <tr>\n",
       "      <td>visit_duration_log</td>\n",
       "      <td>-0.003583</td>\n",
       "      <td>-0.049379</td>\n",
       "      <td>0.050170</td>\n",
       "      <td>-0.063593</td>\n",
       "      <td>-0.041780</td>\n",
       "      <td>-0.024410</td>\n",
       "      <td>-0.022883</td>\n",
       "      <td>-0.029625</td>\n",
       "      <td>-0.015646</td>\n",
       "      <td>-0.014107</td>\n",
       "      <td>0.041842</td>\n",
       "      <td>0.049625</td>\n",
       "      <td>-0.931418</td>\n",
       "      <td>-0.004285</td>\n",
       "      <td>0.805571</td>\n",
       "      <td>1.000000</td>\n",
       "      <td>0.061354</td>\n",
       "      <td>0.057702</td>\n",
       "      <td>-0.128992</td>\n",
       "      <td>-0.165679</td>\n",
       "    </tr>\n",
       "    <tr>\n",
       "      <td>avg_product_count_log</td>\n",
       "      <td>-0.001523</td>\n",
       "      <td>-0.061591</td>\n",
       "      <td>0.041546</td>\n",
       "      <td>-0.083791</td>\n",
       "      <td>-0.061229</td>\n",
       "      <td>-0.062064</td>\n",
       "      <td>-0.056465</td>\n",
       "      <td>-0.065352</td>\n",
       "      <td>-0.067505</td>\n",
       "      <td>-0.064899</td>\n",
       "      <td>0.054225</td>\n",
       "      <td>0.077306</td>\n",
       "      <td>-0.065395</td>\n",
       "      <td>0.059742</td>\n",
       "      <td>0.081348</td>\n",
       "      <td>0.061354</td>\n",
       "      <td>1.000000</td>\n",
       "      <td>0.794060</td>\n",
       "      <td>-0.072615</td>\n",
       "      <td>-0.114952</td>\n",
       "    </tr>\n",
       "    <tr>\n",
       "      <td>latest_order_product_count_log</td>\n",
       "      <td>-0.000777</td>\n",
       "      <td>-0.050224</td>\n",
       "      <td>0.032695</td>\n",
       "      <td>-0.081886</td>\n",
       "      <td>-0.073895</td>\n",
       "      <td>-0.070422</td>\n",
       "      <td>-0.021283</td>\n",
       "      <td>-0.074799</td>\n",
       "      <td>-0.075266</td>\n",
       "      <td>-0.038342</td>\n",
       "      <td>0.065883</td>\n",
       "      <td>0.075975</td>\n",
       "      <td>-0.063955</td>\n",
       "      <td>0.069573</td>\n",
       "      <td>0.077888</td>\n",
       "      <td>0.057702</td>\n",
       "      <td>0.794060</td>\n",
       "      <td>1.000000</td>\n",
       "      <td>-0.072646</td>\n",
       "      <td>-0.132802</td>\n",
       "    </tr>\n",
       "    <tr>\n",
       "      <td>purchase_interval</td>\n",
       "      <td>0.003031</td>\n",
       "      <td>0.002879</td>\n",
       "      <td>0.001486</td>\n",
       "      <td>0.425175</td>\n",
       "      <td>0.342317</td>\n",
       "      <td>0.315066</td>\n",
       "      <td>0.294995</td>\n",
       "      <td>0.308609</td>\n",
       "      <td>0.282853</td>\n",
       "      <td>0.262919</td>\n",
       "      <td>-0.332197</td>\n",
       "      <td>-0.417006</td>\n",
       "      <td>0.171697</td>\n",
       "      <td>-0.366355</td>\n",
       "      <td>-0.349112</td>\n",
       "      <td>-0.128992</td>\n",
       "      <td>-0.072615</td>\n",
       "      <td>-0.072646</td>\n",
       "      <td>1.000000</td>\n",
       "      <td>0.432942</td>\n",
       "    </tr>\n",
       "    <tr>\n",
       "      <td>prediction_purchase_interval</td>\n",
       "      <td>0.004962</td>\n",
       "      <td>0.008535</td>\n",
       "      <td>0.000303</td>\n",
       "      <td>0.759184</td>\n",
       "      <td>0.649391</td>\n",
       "      <td>0.593918</td>\n",
       "      <td>0.541502</td>\n",
       "      <td>0.601677</td>\n",
       "      <td>0.544591</td>\n",
       "      <td>0.488833</td>\n",
       "      <td>-0.622631</td>\n",
       "      <td>-0.762020</td>\n",
       "      <td>0.263770</td>\n",
       "      <td>-0.685619</td>\n",
       "      <td>-0.553427</td>\n",
       "      <td>-0.165679</td>\n",
       "      <td>-0.114952</td>\n",
       "      <td>-0.132802</td>\n",
       "      <td>0.432942</td>\n",
       "      <td>1.000000</td>\n",
       "    </tr>\n",
       "  </tbody>\n",
       "</table>\n",
       "</div>"
      ],
      "text/plain": [
       "                                 user_id  favorite_day_of_week  favorite_hour_of_day  frequency   recency  days_since_prior_1_order  days_since_prior_2_order  prior_1_purchase_interval  prior_2_purchase_interval  prior_3_purchase_interval  r_quartile  f_quartile  e_quartile  RFE_Score  total_orders_log  visit_duration_log  avg_product_count_log  latest_order_product_count_log  purchase_interval  \\\n",
       "user_id                         1.000000             -0.004359              0.001314   0.003790  0.002566                  0.003382                  0.003320                   0.004122                   0.002773                   0.001939   -0.002600   -0.003469    0.003759  -0.002779         -0.004226           -0.003583              -0.001523                       -0.000777           0.003031   \n",
       "favorite_day_of_week           -0.004359              1.000000             -0.000614  -0.000171 -0.000427                 -0.000178                 -0.000152                   0.003794                   0.003607                   0.003884    0.003380    0.003432    0.047449   0.006247         -0.034015           -0.049379              -0.061591                       -0.050224           0.002879   \n",
       "favorite_hour_of_day            0.001314             -0.000614              1.000000  -0.012349  0.000158                 -0.002820                 -0.006509                   0.001934                  -0.000221                  -0.004172    0.002454    0.005382   -0.045792   0.000764          0.039362            0.050170               0.041546                        0.032695           0.001486   \n",
       "frequency                       0.003790             -0.000171             -0.012349   1.000000  0.651389                  0.673091                  0.678301                   0.582267                   0.597312                   0.601535   -0.632761   -0.949135    0.167209  -0.739886         -0.598335           -0.063593              -0.083791                       -0.081886           0.425175   \n",
       "recency                         0.002566             -0.000427              0.000158   0.651389  1.000000                  0.396098                  0.352003                   0.904542                   0.349775                   0.310046   -0.957798   -0.620645    0.115961  -0.951882         -0.391747           -0.041780              -0.061229                       -0.073895           0.342317   \n",
       "days_since_prior_1_order        0.003382             -0.000178             -0.002820   0.673091  0.396098                  1.000000                  0.390925                   0.353759                   0.901044                   0.344243   -0.385883   -0.640901    0.096761  -0.464855         -0.386595           -0.024410              -0.062064                       -0.070422           0.315066   \n",
       "days_since_prior_2_order        0.003320             -0.000152             -0.006509   0.678301  0.352003                  0.390925                  1.000000                   0.313241                   0.346763                   0.900631   -0.344763   -0.644313    0.092878  -0.430396         -0.387586           -0.022883              -0.056465                       -0.021283           0.294995   \n",
       "prior_1_purchase_interval       0.004122              0.003794              0.001934   0.582267  0.904542                  0.353759                  0.313241                   1.000000                   0.321644                   0.280548   -0.842410   -0.560156    0.096481  -0.840582         -0.338874           -0.029625              -0.065352                       -0.074799           0.308609   \n",
       "prior_2_purchase_interval       0.002773              0.003607             -0.000221   0.597312  0.349775                  0.901044                  0.346763                   0.321644                   1.000000                   0.314724   -0.336013   -0.574128    0.079834  -0.408475         -0.332272           -0.015646              -0.067505                       -0.075266           0.282853   \n",
       "prior_3_purchase_interval       0.001939              0.003884             -0.004172   0.601535  0.310046                  0.344243                  0.900631                   0.280548                   0.314724                   1.000000   -0.300418   -0.576336    0.076409  -0.378490         -0.332793           -0.014107              -0.064899                       -0.038342           0.262919   \n",
       "r_quartile                     -0.002600              0.003380              0.002454  -0.632761 -0.957798                 -0.385883                 -0.344763                  -0.842410                  -0.336013                  -0.300418    1.000000    0.603924   -0.114769   0.984688          0.387184            0.041842               0.054225                        0.065883          -0.332197   \n",
       "f_quartile                     -0.003469              0.003432              0.005382  -0.949135 -0.620645                 -0.640901                 -0.644313                  -0.560156                  -0.574128                  -0.576336    0.603924    1.000000   -0.153174   0.726770          0.569748            0.049625               0.077306                        0.075975          -0.417006   \n",
       "e_quartile                      0.003759              0.047449             -0.045792   0.167209  0.115961                  0.096761                  0.092878                   0.096481                   0.079834                   0.076409   -0.114769   -0.153174    1.000000  -0.077032         -0.820804           -0.931418              -0.065395                       -0.063955           0.171697   \n",
       "RFE_Score                      -0.002779              0.006247              0.000764  -0.739886 -0.951882                 -0.464855                 -0.430396                  -0.840582                  -0.408475                  -0.378490    0.984688    0.726770   -0.077032   1.000000          0.411029           -0.004285               0.059742                        0.069573          -0.366355   \n",
       "total_orders_log               -0.004226             -0.034015              0.039362  -0.598335 -0.391747                 -0.386595                 -0.387586                  -0.338874                  -0.332272                  -0.332793    0.387184    0.569748   -0.820804   0.411029          1.000000            0.805571               0.081348                        0.077888          -0.349112   \n",
       "visit_duration_log             -0.003583             -0.049379              0.050170  -0.063593 -0.041780                 -0.024410                 -0.022883                  -0.029625                  -0.015646                  -0.014107    0.041842    0.049625   -0.931418  -0.004285          0.805571            1.000000               0.061354                        0.057702          -0.128992   \n",
       "avg_product_count_log          -0.001523             -0.061591              0.041546  -0.083791 -0.061229                 -0.062064                 -0.056465                  -0.065352                  -0.067505                  -0.064899    0.054225    0.077306   -0.065395   0.059742          0.081348            0.061354               1.000000                        0.794060          -0.072615   \n",
       "latest_order_product_count_log -0.000777             -0.050224              0.032695  -0.081886 -0.073895                 -0.070422                 -0.021283                  -0.074799                  -0.075266                  -0.038342    0.065883    0.075975   -0.063955   0.069573          0.077888            0.057702               0.794060                        1.000000          -0.072646   \n",
       "purchase_interval               0.003031              0.002879              0.001486   0.425175  0.342317                  0.315066                  0.294995                   0.308609                   0.282853                   0.262919   -0.332197   -0.417006    0.171697  -0.366355         -0.349112           -0.128992              -0.072615                       -0.072646           1.000000   \n",
       "prediction_purchase_interval    0.004962              0.008535              0.000303   0.759184  0.649391                  0.593918                  0.541502                   0.601677                   0.544591                   0.488833   -0.622631   -0.762020    0.263770  -0.685619         -0.553427           -0.165679              -0.114952                       -0.132802           0.432942   \n",
       "\n",
       "                                prediction_purchase_interval  \n",
       "user_id                                             0.004962  \n",
       "favorite_day_of_week                                0.008535  \n",
       "favorite_hour_of_day                                0.000303  \n",
       "frequency                                           0.759184  \n",
       "recency                                             0.649391  \n",
       "days_since_prior_1_order                            0.593918  \n",
       "days_since_prior_2_order                            0.541502  \n",
       "prior_1_purchase_interval                           0.601677  \n",
       "prior_2_purchase_interval                           0.544591  \n",
       "prior_3_purchase_interval                           0.488833  \n",
       "r_quartile                                         -0.622631  \n",
       "f_quartile                                         -0.762020  \n",
       "e_quartile                                          0.263770  \n",
       "RFE_Score                                          -0.685619  \n",
       "total_orders_log                                   -0.553427  \n",
       "visit_duration_log                                 -0.165679  \n",
       "avg_product_count_log                              -0.114952  \n",
       "latest_order_product_count_log                     -0.132802  \n",
       "purchase_interval                                   0.432942  \n",
       "prediction_purchase_interval                        1.000000  "
      ]
     },
     "execution_count": 149,
     "metadata": {},
     "output_type": "execute_result"
    }
   ],
   "source": [
    "data_1.corr()"
   ]
  },
  {
   "cell_type": "code",
   "execution_count": null,
   "metadata": {},
   "outputs": [],
   "source": []
  }
 ],
 "metadata": {
  "kernelspec": {
   "display_name": "Python 3",
   "language": "python",
   "name": "python3"
  },
  "language_info": {
   "codemirror_mode": {
    "name": "ipython",
    "version": 3
   },
   "file_extension": ".py",
   "mimetype": "text/x-python",
   "name": "python",
   "nbconvert_exporter": "python",
   "pygments_lexer": "ipython3",
   "version": "3.7.4"
  }
 },
 "nbformat": 4,
 "nbformat_minor": 2
}
