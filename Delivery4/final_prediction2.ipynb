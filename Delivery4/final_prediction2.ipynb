{
 "cells": [
  {
   "cell_type": "code",
   "execution_count": 1,
   "metadata": {},
   "outputs": [],
   "source": [
    "import findspark\n",
    "\n",
    "findspark.init()\n",
    "import pyspark"
   ]
  },
  {
   "cell_type": "code",
   "execution_count": 2,
   "metadata": {},
   "outputs": [],
   "source": [
    "from pyspark.sql import SparkSession\n",
    "import pandas as pd\n",
    "# Disable warnings, set Matplotlib inline plotting and load Pandas package\n",
    "import warnings\n",
    "warnings.filterwarnings('ignore')\n",
    "import matplotlib.pyplot as plt\n",
    "%matplotlib inline\n"
   ]
  },
  {
   "cell_type": "code",
   "execution_count": 3,
   "metadata": {},
   "outputs": [],
   "source": [
    "from pyspark.sql.functions import col\n",
    "from pyspark.sql.window import Window"
   ]
  },
  {
   "cell_type": "code",
   "execution_count": 4,
   "metadata": {},
   "outputs": [],
   "source": [
    "import pyspark.sql.functions as F\n",
    "from pyspark.sql.functions import udf\n",
    "from pyspark.sql.types import StringType\n",
    "MAX_MEMORY = \"7g\"\n",
    "pd.set_option('display.width', 400)\n",
    "pd.set_option('display.max_columns', 30)\n",
    "spark = SparkSession.builder.appName('prediction_2_final').config(\"spark.executor.memory\", MAX_MEMORY).config(\"spark.driver.memory\", MAX_MEMORY).config(\"spark.storage.memoryFraction\",1.0).getOrCreate()\n"
   ]
  },
  {
   "cell_type": "code",
   "execution_count": 5,
   "metadata": {},
   "outputs": [],
   "source": [
    "spark.catalog.clearCache()\n",
    "orders= spark.read.csv(r\"D:\\TN\\Capstone\\Datasets\\orders.csv\", header = True, inferSchema = True)\n",
    "prior =spark.read.csv(r\"D:\\TN\\Capstone\\Datasets\\order_products__prior.csv\", header = True, inferSchema = True) \n",
    "train =spark.read.csv(r\"D:\\TN\\Capstone\\Datasets\\order_products__train.csv\", header = True, inferSchema = True) \n",
    "products = spark.read.csv(r\"D:\\TN\\Capstone\\Datasets\\products.csv\", header = True, inferSchema = True)\n",
    "dept = spark.read.csv(r\"D:\\TN\\Capstone\\Datasets\\departments.csv\", header = True, inferSchema = True)\n",
    "#orders.show(2)\n",
    "#prior.show(2)\n",
    "#train.show(2)\n",
    "#products.show(2)"
   ]
  },
  {
   "cell_type": "code",
   "execution_count": 6,
   "metadata": {},
   "outputs": [],
   "source": [
    "prior = prior.select('order_id','add_to_cart_order','reordered',prior.product_id.cast(StringType()).alias('product_id'))\n",
    "prior = prior.where(prior['reordered']==1)\n",
    "train = train.select('order_id','add_to_cart_order','reordered',train.product_id.cast(StringType()).alias('product_id'))\n",
    "train = train.where(train['reordered']==1)"
   ]
  },
  {
   "cell_type": "code",
   "execution_count": 7,
   "metadata": {},
   "outputs": [],
   "source": [
    "from pyspark.sql.window import Window\n",
    "from pyspark.sql.functions import rank, col\n",
    "\n",
    "window1 = Window.partitionBy(prior['order_id'])\n",
    "prior = prior.withColumn('product_count',F.max('add_to_cart_order').over(window1)).dropDuplicates()"
   ]
  },
  {
   "cell_type": "code",
   "execution_count": 8,
   "metadata": {},
   "outputs": [],
   "source": [
    "\n",
    "orders =orders.drop('order_dow','order_hour_of_day','eval_set','cluster')\n",
    "#orders.where(orders[\"user_id\"]==1).show()"
   ]
  },
  {
   "cell_type": "code",
   "execution_count": 9,
   "metadata": {},
   "outputs": [],
   "source": [
    "window_1 = Window.partitionBy(orders['user_id']).orderBy(orders['order_number'].desc())\n",
    "window_2 = Window.partitionBy(orders['user_id'])\n",
    "window_3 = window_1.rangeBetween(Window.unboundedPreceding, 0)\n",
    "orders = orders.withColumn('days_since_prior_order_running_total',F.sum('days_since_prior_order').over(window_3))\n",
    "#orders.where(orders[\"user_id\"]==1).show()\n",
    "#orders.show(2)\n"
   ]
  },
  {
   "cell_type": "code",
   "execution_count": 10,
   "metadata": {},
   "outputs": [],
   "source": [
    "\n",
    "orders_prior_df = prior.join(orders, on = 'order_id', how = 'inner')\n",
    "#orders_prior_df = orders_prior_df.where(orders_prior_df[\"reordered\"]=1)\n",
    "#orders_prior_df.show(2)\n",
    "orders_train_df = train.join(orders, on = 'order_id', how = 'inner')\n",
    "#orders_train_df.show(2)"
   ]
  },
  {
   "cell_type": "code",
   "execution_count": 11,
   "metadata": {},
   "outputs": [
    {
     "data": {
      "text/plain": [
       "[('order_id', 'int'),\n",
       " ('add_to_cart_order', 'int'),\n",
       " ('reordered', 'int'),\n",
       " ('product_id', 'string'),\n",
       " ('user_id', 'int'),\n",
       " ('order_number', 'int'),\n",
       " ('days_since_prior_order', 'double'),\n",
       " ('days_since_prior_order_running_total', 'double')]"
      ]
     },
     "execution_count": 11,
     "metadata": {},
     "output_type": "execute_result"
    }
   ],
   "source": [
    "orders_prior_df.dtypes\n",
    "orders_train_df.dtypes"
   ]
  },
  {
   "cell_type": "markdown",
   "metadata": {},
   "source": [
    "User_product features"
   ]
  },
  {
   "cell_type": "code",
   "execution_count": 12,
   "metadata": {},
   "outputs": [],
   "source": [
    "column_list = [\"user_id\",\"product_id\"]\n",
    "window = Window.partitionBy([col(x) for x in column_list])\n",
    "window_2 = Window.partitionBy([col(x) for x in column_list]).orderBy(orders_prior_df['order_number'].desc())\n",
    "window_4= Window.partitionBy('user_id')\n",
    "order_latest60 = orders_prior_df.where(col('days_since_prior_order_running_total')<=60)\n",
    "order_latest60 = order_latest60.withColumn('userprod_order_count_60', F.count('order_id').over(window))\n",
    "order_latest60 = order_latest60.withColumn('user_orders_in60', F.count('order_id').over(window_4))\n",
    "order_latest60 = order_latest60.withColumn('user_days_since_prior_order', F.min('days_since_prior_order_running_total').over(window_4))\n",
    "order_latest60 = order_latest60.withColumn('userprod_in60_reorder_rate', order_latest60 ['userprod_order_count_60']/order_latest60['user_orders_in60'])\n",
    "order_latest60 = order_latest60.withColumn('avg_prod_count', F.round(F.avg(\"product_count\").over(window_4)))"
   ]
  },
  {
   "cell_type": "code",
   "execution_count": 13,
   "metadata": {},
   "outputs": [
    {
     "data": {
      "text/plain": [
       "[('order_id', 'int'),\n",
       " ('add_to_cart_order', 'int'),\n",
       " ('reordered', 'int'),\n",
       " ('product_id', 'string'),\n",
       " ('product_count', 'int'),\n",
       " ('user_id', 'int'),\n",
       " ('order_number', 'int'),\n",
       " ('days_since_prior_order', 'double'),\n",
       " ('days_since_prior_order_running_total', 'double'),\n",
       " ('userprod_order_count_60', 'bigint'),\n",
       " ('user_orders_in60', 'bigint'),\n",
       " ('user_days_since_prior_order', 'double'),\n",
       " ('userprod_in60_reorder_rate', 'double'),\n",
       " ('avg_prod_count', 'double')]"
      ]
     },
     "execution_count": 13,
     "metadata": {},
     "output_type": "execute_result"
    }
   ],
   "source": [
    "order_latest60.dtypes"
   ]
  },
  {
   "cell_type": "code",
   "execution_count": 14,
   "metadata": {},
   "outputs": [],
   "source": [
    "#order_latest60.select('order_id','user_id','product_id','userprod_order_count_60','userprod_in60_reorder_rate').dropDuplicates().orderBy('user_id').show(50)"
   ]
  },
  {
   "cell_type": "code",
   "execution_count": 15,
   "metadata": {},
   "outputs": [],
   "source": [
    "order_latest60=order_latest60.select('order_id','user_id','product_id', 'order_number','user_days_since_prior_order','days_since_prior_order_running_total',F.round(F.avg('days_since_prior_order').over(window)).alias('user_prod_purchase_frequency'),F.round(F.avg('add_to_cart_order').over(window)).alias('avg_add_to_cart_order'),'userprod_order_count_60','userprod_in60_reorder_rate','avg_prod_count').orderBy(orders_prior_df['user_id']).dropDuplicates()"
   ]
  },
  {
   "cell_type": "code",
   "execution_count": 16,
   "metadata": {},
   "outputs": [],
   "source": [
    "#order_latest60.show()"
   ]
  },
  {
   "cell_type": "code",
   "execution_count": 17,
   "metadata": {},
   "outputs": [],
   "source": [
    "orders_train_df = orders_train_df.select('user_id','product_id','days_since_prior_order').dropDuplicates()"
   ]
  },
  {
   "cell_type": "code",
   "execution_count": 18,
   "metadata": {},
   "outputs": [],
   "source": [
    "from pyspark.sql.types import StringType\n",
    "# Converting label days_since_prior_order to categorical column\n",
    "def purchase_interval(r):\n",
    "    if r <= 15:\n",
    "        return \"Class0\"\n",
    "    elif r > 15:\n",
    "        return \"Class1\"\n",
    "\n",
    "\n",
    "ol_val = udf(purchase_interval, StringType())\n",
    "\n",
    "orders_train_df = orders_train_df.withColumn(\"predicted_purchase_interval\",F.lit(ol_val(orders_train_df.days_since_prior_order)))\n",
    "\n"
   ]
  },
  {
   "cell_type": "code",
   "execution_count": 19,
   "metadata": {},
   "outputs": [],
   "source": [
    "#orders_train_df.orderBy('user_id').show()"
   ]
  },
  {
   "cell_type": "code",
   "execution_count": 20,
   "metadata": {},
   "outputs": [],
   "source": [
    "#print(orders_train_df.select([F.count(F.when(F.isnan(c) | F.col(c).isNull(), c)).alias(c) for c in orders_train_df.columns]).toPandas().transpose())"
   ]
  },
  {
   "cell_type": "code",
   "execution_count": null,
   "metadata": {},
   "outputs": [],
   "source": []
  },
  {
   "cell_type": "code",
   "execution_count": 21,
   "metadata": {},
   "outputs": [],
   "source": [
    "train_users = orders_train_df.select('user_id')"
   ]
  },
  {
   "cell_type": "code",
   "execution_count": 22,
   "metadata": {},
   "outputs": [],
   "source": [
    "#train_users.show()"
   ]
  },
  {
   "cell_type": "code",
   "execution_count": 23,
   "metadata": {},
   "outputs": [],
   "source": [
    "x_df = order_latest60.join(train_users, on = 'user_id', how='inner')"
   ]
  },
  {
   "cell_type": "code",
   "execution_count": 24,
   "metadata": {},
   "outputs": [],
   "source": [
    "x_df = x_df.dropDuplicates()"
   ]
  },
  {
   "cell_type": "code",
   "execution_count": 25,
   "metadata": {},
   "outputs": [],
   "source": [
    "\n",
    "train_user_prod_df=orders_train_df.withColumn(\"list_of_products_in_latest_order\", F.concat_ws(\",\", \"product_id\")).select(\"user_id\", \"days_since_prior_order\",\"list_of_products_in_latest_order\").groupBy(\"user_id\").agg(F.collect_list(\"list_of_products_in_latest_order\").alias(\"latest_ordered_products\"))\n",
    "train_user_prod_df_1 = orders_train_df.join(train_user_prod_df, on ='user_id', how = 'inner')\n",
    "train_user_prod_df_2 = train_user_prod_df_1.select(\"user_id\",\"latest_ordered_products\",\"predicted_purchase_interval\")\n"
   ]
  },
  {
   "cell_type": "code",
   "execution_count": 26,
   "metadata": {},
   "outputs": [],
   "source": [
    "x_df=x_df.join(train_user_prod_df_2, on = 'user_id',how='inner')\n"
   ]
  },
  {
   "cell_type": "code",
   "execution_count": 27,
   "metadata": {},
   "outputs": [],
   "source": [
    "from pyspark.sql.types import IntegerType\n",
    "\n",
    "def in_cart(product_id,latest_ordered_products):\n",
    "   # Check for the case where there is no Array, otherwise we will get an Error\n",
    "   if latest_ordered_products == None:\n",
    "      return None\n",
    "   # Checking each and every Array element if it exists in 'FullAddress',\n",
    "   # and if a match is found, it's immediately returned.\n",
    "   for x in latest_ordered_products:\n",
    "      if x in product_id:\n",
    "         return 1\n",
    "   return 0\n",
    "simpleudf = udf(in_cart, IntegerType())\n",
    "x_df=x_df.withColumn(\"is_in_next_cart\",simpleudf(col('product_id'),col('latest_ordered_products')))\n"
   ]
  },
  {
   "cell_type": "code",
   "execution_count": 28,
   "metadata": {},
   "outputs": [],
   "source": [
    "x_df = x_df.dropDuplicates()"
   ]
  },
  {
   "cell_type": "code",
   "execution_count": 29,
   "metadata": {},
   "outputs": [],
   "source": [
    "#x_df.orderBy('user_id').show()"
   ]
  },
  {
   "cell_type": "code",
   "execution_count": 30,
   "metadata": {},
   "outputs": [],
   "source": [
    "from pyspark.sql.functions import dense_rank,col\n",
    "window_1 = Window.partitionBy(x_df['user_id']).orderBy(x_df['order_number'].desc())\n",
    "window_2 = Window.partitionBy([col(x) for x in column_list]).orderBy(x_df['order_number'].desc())\n",
    "x_df= x_df.withColumn('rank',dense_rank().over(window_1))\n",
    "x_df = x_df.withColumn(\"recency_userproduct\", F.min(\"days_since_prior_order_running_total\").over(window_2))\n"
   ]
  },
  {
   "cell_type": "code",
   "execution_count": 31,
   "metadata": {},
   "outputs": [],
   "source": [
    "order_prod_list = orders_prior_df.withColumn(\"products\", F.concat_ws(\",\", \"product_id\")).select(\"order_id\",\"user_id\", \"order_number\",'products').groupBy(\"order_id\").agg(F.collect_list(\"products\").alias(\"products\"))\n",
    "#order_prod_list.show(5)"
   ]
  },
  {
   "cell_type": "code",
   "execution_count": 32,
   "metadata": {},
   "outputs": [],
   "source": [
    "x_df = x_df.join(order_prod_list, on = 'order_id', how = 'inner')\n"
   ]
  },
  {
   "cell_type": "code",
   "execution_count": 33,
   "metadata": {},
   "outputs": [],
   "source": [
    "#user_prod_latest4_df.show()"
   ]
  },
  {
   "cell_type": "code",
   "execution_count": 34,
   "metadata": {},
   "outputs": [],
   "source": [
    "latest_prod = x_df.select(\"user_id\",\"products\").where(x_df[\"rank\"] == 1).dropDuplicates()\n",
    "latest_prod = latest_prod.withColumnRenamed(\"products\",\"latest1_products\")\n",
    "latest1_prod = x_df.select(\"user_id\",\"products\").where(x_df[\"rank\"] == 2).dropDuplicates()\n",
    "latest1_prod = latest1_prod.withColumnRenamed(\"products\",\"latest2_products\")\n"
   ]
  },
  {
   "cell_type": "code",
   "execution_count": 35,
   "metadata": {},
   "outputs": [],
   "source": [
    "latest2_prod = x_df.select(\"user_id\",\"products\").where(x_df[\"rank\"] == 3).dropDuplicates()\n",
    "latest2_prod = latest2_prod.withColumnRenamed(\"products\",\"latest3_products\")"
   ]
  },
  {
   "cell_type": "code",
   "execution_count": 36,
   "metadata": {},
   "outputs": [],
   "source": [
    "x_df = x_df.join(latest_prod, on = 'user_id', how = 'inner')\n",
    "x_df = x_df.join(latest1_prod, on = 'user_id', how = 'inner')\n",
    "\n",
    "#x_df.show(2)\n"
   ]
  },
  {
   "cell_type": "code",
   "execution_count": 37,
   "metadata": {},
   "outputs": [],
   "source": [
    "x_df = x_df.join(latest2_prod, on = 'user_id', how = 'inner')"
   ]
  },
  {
   "cell_type": "code",
   "execution_count": 38,
   "metadata": {},
   "outputs": [
    {
     "data": {
      "text/plain": [
       "[('user_id', 'int'),\n",
       " ('order_id', 'int'),\n",
       " ('product_id', 'string'),\n",
       " ('order_number', 'int'),\n",
       " ('user_days_since_prior_order', 'double'),\n",
       " ('days_since_prior_order_running_total', 'double'),\n",
       " ('user_prod_purchase_frequency', 'double'),\n",
       " ('avg_add_to_cart_order', 'double'),\n",
       " ('userprod_order_count_60', 'bigint'),\n",
       " ('userprod_in60_reorder_rate', 'double'),\n",
       " ('avg_prod_count', 'double'),\n",
       " ('latest_ordered_products', 'array<string>'),\n",
       " ('predicted_purchase_interval', 'string'),\n",
       " ('is_in_next_cart', 'int'),\n",
       " ('rank', 'int'),\n",
       " ('recency_userproduct', 'double'),\n",
       " ('products', 'array<string>'),\n",
       " ('latest1_products', 'array<string>'),\n",
       " ('latest2_products', 'array<string>'),\n",
       " ('latest3_products', 'array<string>'),\n",
       " ('is_in_latest1_order', 'int')]"
      ]
     },
     "execution_count": 38,
     "metadata": {},
     "output_type": "execute_result"
    }
   ],
   "source": [
    "x_df=x_df.withColumn(\"is_in_latest1_order\",simpleudf(col('product_id'),col('latest1_products')))\n",
    "x_df.dtypes"
   ]
  },
  {
   "cell_type": "code",
   "execution_count": 39,
   "metadata": {},
   "outputs": [],
   "source": [
    "#x_df.show(2)"
   ]
  },
  {
   "cell_type": "code",
   "execution_count": 40,
   "metadata": {},
   "outputs": [
    {
     "data": {
      "text/plain": [
       "[('user_id', 'int'),\n",
       " ('order_id', 'int'),\n",
       " ('product_id', 'string'),\n",
       " ('order_number', 'int'),\n",
       " ('user_days_since_prior_order', 'double'),\n",
       " ('days_since_prior_order_running_total', 'double'),\n",
       " ('user_prod_purchase_frequency', 'double'),\n",
       " ('avg_add_to_cart_order', 'double'),\n",
       " ('userprod_order_count_60', 'bigint'),\n",
       " ('userprod_in60_reorder_rate', 'double'),\n",
       " ('avg_prod_count', 'double'),\n",
       " ('latest_ordered_products', 'array<string>'),\n",
       " ('predicted_purchase_interval', 'string'),\n",
       " ('is_in_next_cart', 'int'),\n",
       " ('rank', 'int'),\n",
       " ('recency_userproduct', 'double'),\n",
       " ('products', 'array<string>'),\n",
       " ('latest1_products', 'array<string>'),\n",
       " ('latest2_products', 'array<string>'),\n",
       " ('latest3_products', 'array<string>'),\n",
       " ('is_in_latest1_order', 'int'),\n",
       " ('is_in_latest2_order', 'int')]"
      ]
     },
     "execution_count": 40,
     "metadata": {},
     "output_type": "execute_result"
    }
   ],
   "source": [
    "x_df=x_df.withColumn(\"is_in_latest2_order\",simpleudf(col('product_id'),col('latest2_products')))\n",
    "x_df.dtypes\n"
   ]
  },
  {
   "cell_type": "code",
   "execution_count": 41,
   "metadata": {},
   "outputs": [
    {
     "data": {
      "text/plain": [
       "[('user_id', 'int'),\n",
       " ('order_id', 'int'),\n",
       " ('product_id', 'string'),\n",
       " ('order_number', 'int'),\n",
       " ('user_days_since_prior_order', 'double'),\n",
       " ('days_since_prior_order_running_total', 'double'),\n",
       " ('user_prod_purchase_frequency', 'double'),\n",
       " ('avg_add_to_cart_order', 'double'),\n",
       " ('userprod_order_count_60', 'bigint'),\n",
       " ('userprod_in60_reorder_rate', 'double'),\n",
       " ('avg_prod_count', 'double'),\n",
       " ('latest_ordered_products', 'array<string>'),\n",
       " ('predicted_purchase_interval', 'string'),\n",
       " ('is_in_next_cart', 'int'),\n",
       " ('rank', 'int'),\n",
       " ('recency_userproduct', 'double'),\n",
       " ('products', 'array<string>'),\n",
       " ('latest1_products', 'array<string>'),\n",
       " ('latest2_products', 'array<string>'),\n",
       " ('latest3_products', 'array<string>'),\n",
       " ('is_in_latest1_order', 'int'),\n",
       " ('is_in_latest2_order', 'int'),\n",
       " ('is_in_latest3_order', 'int')]"
      ]
     },
     "execution_count": 41,
     "metadata": {},
     "output_type": "execute_result"
    }
   ],
   "source": [
    "x_df=x_df.withColumn(\"is_in_latest3_order\",simpleudf(col('product_id'),col('latest3_products')))\n",
    "x_df.dtypes"
   ]
  },
  {
   "cell_type": "markdown",
   "metadata": {},
   "source": [
    "#x_df.cache()"
   ]
  },
  {
   "cell_type": "markdown",
   "metadata": {},
   "source": [
    "x_df.orderBy(['user_id','product_id'],ascending = True).show()"
   ]
  },
  {
   "cell_type": "code",
   "execution_count": 42,
   "metadata": {},
   "outputs": [
    {
     "data": {
      "text/plain": [
       "[('user_id', 'int'),\n",
       " ('product_id', 'string'),\n",
       " ('user_days_since_prior_order', 'double'),\n",
       " ('user_prod_purchase_frequency', 'double'),\n",
       " ('avg_add_to_cart_order', 'double'),\n",
       " ('userprod_order_count_60', 'bigint'),\n",
       " ('userprod_in60_reorder_rate', 'double'),\n",
       " ('avg_prod_count', 'double'),\n",
       " ('predicted_purchase_interval', 'string'),\n",
       " ('is_in_next_cart', 'int'),\n",
       " ('recency_userproduct', 'double'),\n",
       " ('is_in_latest1_order', 'int'),\n",
       " ('is_in_latest2_order', 'int'),\n",
       " ('is_in_latest3_order', 'int')]"
      ]
     },
     "execution_count": 42,
     "metadata": {},
     "output_type": "execute_result"
    }
   ],
   "source": [
    "x_df=x_df.drop('latest1_products','latest2_products','latest3_products','latest_ordered_products','rank','products','order_number','order_id','days_since_prior_order_running_total').dropDuplicates()\n",
    "x_df.dtypes\n"
   ]
  },
  {
   "cell_type": "code",
   "execution_count": 43,
   "metadata": {},
   "outputs": [],
   "source": [
    "x_df=x_df.withColumn(\"productid\", x_df.product_id.cast(\"int\"))\n"
   ]
  },
  {
   "cell_type": "code",
   "execution_count": 44,
   "metadata": {},
   "outputs": [
    {
     "data": {
      "text/plain": [
       "[('user_id', 'int'),\n",
       " ('product_id', 'string'),\n",
       " ('user_days_since_prior_order', 'double'),\n",
       " ('user_prod_purchase_frequency', 'double'),\n",
       " ('avg_add_to_cart_order', 'double'),\n",
       " ('userprod_order_count_60', 'bigint'),\n",
       " ('userprod_in60_reorder_rate', 'double'),\n",
       " ('avg_prod_count', 'double'),\n",
       " ('predicted_purchase_interval', 'string'),\n",
       " ('is_in_next_cart', 'int'),\n",
       " ('recency_userproduct', 'double'),\n",
       " ('is_in_latest1_order', 'int'),\n",
       " ('is_in_latest2_order', 'int'),\n",
       " ('is_in_latest3_order', 'int'),\n",
       " ('productid', 'int')]"
      ]
     },
     "execution_count": 44,
     "metadata": {},
     "output_type": "execute_result"
    }
   ],
   "source": [
    "x_df.dtypes"
   ]
  },
  {
   "cell_type": "code",
   "execution_count": 45,
   "metadata": {},
   "outputs": [
    {
     "data": {
      "text/plain": [
       "[('user_id', 'int'),\n",
       " ('user_days_since_prior_order', 'double'),\n",
       " ('user_prod_purchase_frequency', 'double'),\n",
       " ('avg_add_to_cart_order', 'double'),\n",
       " ('userprod_order_count_60', 'bigint'),\n",
       " ('userprod_in60_reorder_rate', 'double'),\n",
       " ('avg_prod_count', 'double'),\n",
       " ('predicted_purchase_interval', 'string'),\n",
       " ('is_in_next_cart', 'int'),\n",
       " ('recency_userproduct', 'double'),\n",
       " ('is_in_latest1_order', 'int'),\n",
       " ('is_in_latest2_order', 'int'),\n",
       " ('is_in_latest3_order', 'int'),\n",
       " ('product_id', 'int')]"
      ]
     },
     "execution_count": 45,
     "metadata": {},
     "output_type": "execute_result"
    }
   ],
   "source": [
    "x_df = x_df.drop('product_id')\n",
    "x_df = x_df.withColumnRenamed(\"productid\",\"product_id\")\n",
    "x_df.dtypes"
   ]
  },
  {
   "cell_type": "code",
   "execution_count": 46,
   "metadata": {},
   "outputs": [
    {
     "data": {
      "text/plain": [
       "DataFrame[user_id: int, user_days_since_prior_order: double, user_prod_purchase_frequency: double, avg_add_to_cart_order: double, userprod_order_count_60: bigint, userprod_in60_reorder_rate: double, avg_prod_count: double, predicted_purchase_interval: string, is_in_next_cart: int, recency_userproduct: double, is_in_latest1_order: int, is_in_latest2_order: int, is_in_latest3_order: int, product_id: int]"
      ]
     },
     "execution_count": 46,
     "metadata": {},
     "output_type": "execute_result"
    }
   ],
   "source": [
    "x_df.cache()"
   ]
  },
  {
   "cell_type": "code",
   "execution_count": 47,
   "metadata": {},
   "outputs": [
    {
     "name": "stdout",
     "output_type": "stream",
     "text": [
      "                              0\n",
      "user_id                       0\n",
      "user_days_since_prior_order   0\n",
      "user_prod_purchase_frequency  0\n",
      "avg_add_to_cart_order         0\n",
      "userprod_order_count_60       0\n",
      "userprod_in60_reorder_rate    0\n",
      "avg_prod_count                0\n",
      "predicted_purchase_interval   0\n",
      "is_in_next_cart               0\n",
      "recency_userproduct           0\n",
      "is_in_latest1_order           0\n",
      "is_in_latest2_order           0\n",
      "is_in_latest3_order           0\n",
      "product_id                    0\n"
     ]
    }
   ],
   "source": [
    "#print(x_df.select([F.count(F.when(F.isnan(c) | F.col(c).isNull(), c)).alias(c) for c in x_df.columns]).toPandas().transpose())\n",
    "#x_df = x_df.na.fill(999)\n",
    "print(x_df.select([F.count(F.when(F.isnan(c) | F.col(c).isNull(), c)).alias(c) for c in x_df.columns]).toPandas().transpose())"
   ]
  },
  {
   "cell_type": "code",
   "execution_count": 48,
   "metadata": {},
   "outputs": [],
   "source": [
    "df_p = x_df.toPandas()"
   ]
  },
  {
   "cell_type": "code",
   "execution_count": 49,
   "metadata": {},
   "outputs": [],
   "source": [
    "df_p.to_csv(\"user_prod_data.csv\")"
   ]
  },
  {
   "cell_type": "code",
   "execution_count": 50,
   "metadata": {},
   "outputs": [
    {
     "data": {
      "text/plain": [
       "(1209131, 14)"
      ]
     },
     "execution_count": 50,
     "metadata": {},
     "output_type": "execute_result"
    }
   ],
   "source": [
    "df_p.shape"
   ]
  },
  {
   "cell_type": "code",
   "execution_count": 51,
   "metadata": {},
   "outputs": [
    {
     "data": {
      "text/plain": [
       "Index(['user_id', 'user_days_since_prior_order', 'user_prod_purchase_frequency', 'avg_add_to_cart_order', 'userprod_order_count_60', 'userprod_in60_reorder_rate', 'avg_prod_count', 'predicted_purchase_interval', 'is_in_next_cart', 'recency_userproduct', 'is_in_latest1_order', 'is_in_latest2_order', 'is_in_latest3_order', 'product_id'], dtype='object')"
      ]
     },
     "execution_count": 51,
     "metadata": {},
     "output_type": "execute_result"
    }
   ],
   "source": [
    "df_p.keys()"
   ]
  },
  {
   "cell_type": "code",
   "execution_count": 52,
   "metadata": {},
   "outputs": [
    {
     "data": {
      "text/html": [
       "<div>\n",
       "<style scoped>\n",
       "    .dataframe tbody tr th:only-of-type {\n",
       "        vertical-align: middle;\n",
       "    }\n",
       "\n",
       "    .dataframe tbody tr th {\n",
       "        vertical-align: top;\n",
       "    }\n",
       "\n",
       "    .dataframe thead th {\n",
       "        text-align: right;\n",
       "    }\n",
       "</style>\n",
       "<table border=\"1\" class=\"dataframe\">\n",
       "  <thead>\n",
       "    <tr style=\"text-align: right;\">\n",
       "      <th></th>\n",
       "      <th>user_id</th>\n",
       "      <th>user_days_since_prior_order</th>\n",
       "      <th>user_prod_purchase_frequency</th>\n",
       "      <th>avg_add_to_cart_order</th>\n",
       "      <th>userprod_order_count_60</th>\n",
       "      <th>userprod_in60_reorder_rate</th>\n",
       "      <th>avg_prod_count</th>\n",
       "      <th>is_in_next_cart</th>\n",
       "      <th>recency_userproduct</th>\n",
       "      <th>is_in_latest1_order</th>\n",
       "      <th>is_in_latest2_order</th>\n",
       "      <th>is_in_latest3_order</th>\n",
       "      <th>product_id</th>\n",
       "    </tr>\n",
       "  </thead>\n",
       "  <tbody>\n",
       "    <tr>\n",
       "      <td>count</td>\n",
       "      <td>1.209131e+06</td>\n",
       "      <td>1.209131e+06</td>\n",
       "      <td>1.209131e+06</td>\n",
       "      <td>1.209131e+06</td>\n",
       "      <td>1.209131e+06</td>\n",
       "      <td>1.209131e+06</td>\n",
       "      <td>1.209131e+06</td>\n",
       "      <td>1.209131e+06</td>\n",
       "      <td>1.209131e+06</td>\n",
       "      <td>1.209131e+06</td>\n",
       "      <td>1.209131e+06</td>\n",
       "      <td>1.209131e+06</td>\n",
       "      <td>1.209131e+06</td>\n",
       "    </tr>\n",
       "    <tr>\n",
       "      <td>mean</td>\n",
       "      <td>1.025426e+05</td>\n",
       "      <td>1.634347e+01</td>\n",
       "      <td>8.010228e+00</td>\n",
       "      <td>8.807827e+00</td>\n",
       "      <td>2.027368e+00</td>\n",
       "      <td>4.327571e-02</td>\n",
       "      <td>1.509498e+01</td>\n",
       "      <td>2.437982e-01</td>\n",
       "      <td>2.927936e+01</td>\n",
       "      <td>3.423045e-01</td>\n",
       "      <td>3.347073e-01</td>\n",
       "      <td>3.232594e-01</td>\n",
       "      <td>2.565433e+04</td>\n",
       "    </tr>\n",
       "    <tr>\n",
       "      <td>std</td>\n",
       "      <td>5.953408e+04</td>\n",
       "      <td>9.578907e+00</td>\n",
       "      <td>5.283646e+00</td>\n",
       "      <td>6.776144e+00</td>\n",
       "      <td>1.734785e+00</td>\n",
       "      <td>5.059348e-02</td>\n",
       "      <td>7.836154e+00</td>\n",
       "      <td>4.293726e-01</td>\n",
       "      <td>1.496162e+01</td>\n",
       "      <td>4.744811e-01</td>\n",
       "      <td>4.718882e-01</td>\n",
       "      <td>4.677210e-01</td>\n",
       "      <td>1.413186e+04</td>\n",
       "    </tr>\n",
       "    <tr>\n",
       "      <td>min</td>\n",
       "      <td>1.000000e+00</td>\n",
       "      <td>0.000000e+00</td>\n",
       "      <td>0.000000e+00</td>\n",
       "      <td>1.000000e+00</td>\n",
       "      <td>1.000000e+00</td>\n",
       "      <td>5.561735e-04</td>\n",
       "      <td>1.000000e+00</td>\n",
       "      <td>0.000000e+00</td>\n",
       "      <td>0.000000e+00</td>\n",
       "      <td>0.000000e+00</td>\n",
       "      <td>0.000000e+00</td>\n",
       "      <td>0.000000e+00</td>\n",
       "      <td>1.000000e+00</td>\n",
       "    </tr>\n",
       "    <tr>\n",
       "      <td>25%</td>\n",
       "      <td>5.114100e+04</td>\n",
       "      <td>9.000000e+00</td>\n",
       "      <td>5.000000e+00</td>\n",
       "      <td>4.000000e+00</td>\n",
       "      <td>1.000000e+00</td>\n",
       "      <td>1.515152e-02</td>\n",
       "      <td>9.000000e+00</td>\n",
       "      <td>0.000000e+00</td>\n",
       "      <td>1.700000e+01</td>\n",
       "      <td>0.000000e+00</td>\n",
       "      <td>0.000000e+00</td>\n",
       "      <td>0.000000e+00</td>\n",
       "      <td>1.351700e+04</td>\n",
       "    </tr>\n",
       "    <tr>\n",
       "      <td>50%</td>\n",
       "      <td>1.019200e+05</td>\n",
       "      <td>1.400000e+01</td>\n",
       "      <td>7.000000e+00</td>\n",
       "      <td>7.000000e+00</td>\n",
       "      <td>1.000000e+00</td>\n",
       "      <td>2.857143e-02</td>\n",
       "      <td>1.400000e+01</td>\n",
       "      <td>0.000000e+00</td>\n",
       "      <td>2.800000e+01</td>\n",
       "      <td>0.000000e+00</td>\n",
       "      <td>0.000000e+00</td>\n",
       "      <td>0.000000e+00</td>\n",
       "      <td>2.551300e+04</td>\n",
       "    </tr>\n",
       "    <tr>\n",
       "      <td>75%</td>\n",
       "      <td>1.541790e+05</td>\n",
       "      <td>2.100000e+01</td>\n",
       "      <td>1.000000e+01</td>\n",
       "      <td>1.200000e+01</td>\n",
       "      <td>2.000000e+00</td>\n",
       "      <td>5.263158e-02</td>\n",
       "      <td>1.900000e+01</td>\n",
       "      <td>0.000000e+00</td>\n",
       "      <td>4.100000e+01</td>\n",
       "      <td>1.000000e+00</td>\n",
       "      <td>1.000000e+00</td>\n",
       "      <td>1.000000e+00</td>\n",
       "      <td>3.824100e+04</td>\n",
       "    </tr>\n",
       "    <tr>\n",
       "      <td>max</td>\n",
       "      <td>2.062000e+05</td>\n",
       "      <td>6.000000e+01</td>\n",
       "      <td>3.000000e+01</td>\n",
       "      <td>9.900000e+01</td>\n",
       "      <td>8.000000e+01</td>\n",
       "      <td>1.000000e+00</td>\n",
       "      <td>7.800000e+01</td>\n",
       "      <td>1.000000e+00</td>\n",
       "      <td>6.000000e+01</td>\n",
       "      <td>1.000000e+00</td>\n",
       "      <td>1.000000e+00</td>\n",
       "      <td>1.000000e+00</td>\n",
       "      <td>4.968800e+04</td>\n",
       "    </tr>\n",
       "  </tbody>\n",
       "</table>\n",
       "</div>"
      ],
      "text/plain": [
       "            user_id  user_days_since_prior_order  user_prod_purchase_frequency  avg_add_to_cart_order  userprod_order_count_60  userprod_in60_reorder_rate  avg_prod_count  is_in_next_cart  recency_userproduct  is_in_latest1_order  is_in_latest2_order  is_in_latest3_order    product_id\n",
       "count  1.209131e+06                 1.209131e+06                  1.209131e+06           1.209131e+06             1.209131e+06                1.209131e+06    1.209131e+06     1.209131e+06         1.209131e+06         1.209131e+06         1.209131e+06         1.209131e+06  1.209131e+06\n",
       "mean   1.025426e+05                 1.634347e+01                  8.010228e+00           8.807827e+00             2.027368e+00                4.327571e-02    1.509498e+01     2.437982e-01         2.927936e+01         3.423045e-01         3.347073e-01         3.232594e-01  2.565433e+04\n",
       "std    5.953408e+04                 9.578907e+00                  5.283646e+00           6.776144e+00             1.734785e+00                5.059348e-02    7.836154e+00     4.293726e-01         1.496162e+01         4.744811e-01         4.718882e-01         4.677210e-01  1.413186e+04\n",
       "min    1.000000e+00                 0.000000e+00                  0.000000e+00           1.000000e+00             1.000000e+00                5.561735e-04    1.000000e+00     0.000000e+00         0.000000e+00         0.000000e+00         0.000000e+00         0.000000e+00  1.000000e+00\n",
       "25%    5.114100e+04                 9.000000e+00                  5.000000e+00           4.000000e+00             1.000000e+00                1.515152e-02    9.000000e+00     0.000000e+00         1.700000e+01         0.000000e+00         0.000000e+00         0.000000e+00  1.351700e+04\n",
       "50%    1.019200e+05                 1.400000e+01                  7.000000e+00           7.000000e+00             1.000000e+00                2.857143e-02    1.400000e+01     0.000000e+00         2.800000e+01         0.000000e+00         0.000000e+00         0.000000e+00  2.551300e+04\n",
       "75%    1.541790e+05                 2.100000e+01                  1.000000e+01           1.200000e+01             2.000000e+00                5.263158e-02    1.900000e+01     0.000000e+00         4.100000e+01         1.000000e+00         1.000000e+00         1.000000e+00  3.824100e+04\n",
       "max    2.062000e+05                 6.000000e+01                  3.000000e+01           9.900000e+01             8.000000e+01                1.000000e+00    7.800000e+01     1.000000e+00         6.000000e+01         1.000000e+00         1.000000e+00         1.000000e+00  4.968800e+04"
      ]
     },
     "execution_count": 52,
     "metadata": {},
     "output_type": "execute_result"
    }
   ],
   "source": [
    "df_p.describe()"
   ]
  },
  {
   "cell_type": "code",
   "execution_count": 53,
   "metadata": {},
   "outputs": [],
   "source": [
    "data = df_p"
   ]
  },
  {
   "cell_type": "code",
   "execution_count": 54,
   "metadata": {},
   "outputs": [
    {
     "data": {
      "text/plain": [
       "['user_id',\n",
       " 'user_days_since_prior_order',\n",
       " 'user_prod_purchase_frequency',\n",
       " 'avg_add_to_cart_order',\n",
       " 'userprod_order_count_60',\n",
       " 'userprod_in60_reorder_rate',\n",
       " 'avg_prod_count',\n",
       " 'predicted_purchase_interval',\n",
       " 'is_in_next_cart',\n",
       " 'recency_userproduct',\n",
       " 'is_in_latest1_order',\n",
       " 'is_in_latest2_order',\n",
       " 'is_in_latest3_order',\n",
       " 'product_id']"
      ]
     },
     "execution_count": 54,
     "metadata": {},
     "output_type": "execute_result"
    }
   ],
   "source": [
    "data.columns.tolist()"
   ]
  },
  {
   "cell_type": "code",
   "execution_count": 55,
   "metadata": {},
   "outputs": [],
   "source": [
    "cols = ['user_id',\n",
    " 'product_id',\n",
    " 'user_days_since_prior_order',\n",
    " 'user_prod_purchase_frequency',\n",
    " 'avg_add_to_cart_order',\n",
    " 'userprod_order_count_60',\n",
    " 'userprod_in60_reorder_rate',\n",
    " 'avg_prod_count',\n",
    " 'predicted_purchase_interval',\n",
    " 'recency_userproduct',\n",
    " 'is_in_latest1_order',\n",
    " 'is_in_latest2_order',\n",
    " 'is_in_latest3_order',\n",
    " 'is_in_next_cart'\n",
    " ]"
   ]
  },
  {
   "cell_type": "code",
   "execution_count": 119,
   "metadata": {},
   "outputs": [],
   "source": [
    "data_1 = data[cols]"
   ]
  },
  {
   "cell_type": "code",
   "execution_count": 120,
   "metadata": {},
   "outputs": [],
   "source": [
    "#data_1 = data_1.drop(['user_days_since_prior_order'],axis=1)\n",
    "# label encoding the data \n",
    "from sklearn.preprocessing import LabelEncoder \n",
    "  \n",
    "le = LabelEncoder() \n",
    "  \n",
    "data_1['predicted_purchase_interval']= le.fit_transform(data_1['predicted_purchase_interval']) "
   ]
  },
  {
   "cell_type": "code",
   "execution_count": 121,
   "metadata": {},
   "outputs": [
    {
     "data": {
      "text/html": [
       "<div>\n",
       "<style scoped>\n",
       "    .dataframe tbody tr th:only-of-type {\n",
       "        vertical-align: middle;\n",
       "    }\n",
       "\n",
       "    .dataframe tbody tr th {\n",
       "        vertical-align: top;\n",
       "    }\n",
       "\n",
       "    .dataframe thead th {\n",
       "        text-align: right;\n",
       "    }\n",
       "</style>\n",
       "<table border=\"1\" class=\"dataframe\">\n",
       "  <thead>\n",
       "    <tr style=\"text-align: right;\">\n",
       "      <th></th>\n",
       "      <th>user_id</th>\n",
       "      <th>product_id</th>\n",
       "      <th>user_days_since_prior_order</th>\n",
       "      <th>user_prod_purchase_frequency</th>\n",
       "      <th>avg_add_to_cart_order</th>\n",
       "      <th>userprod_order_count_60</th>\n",
       "      <th>userprod_in60_reorder_rate</th>\n",
       "      <th>avg_prod_count</th>\n",
       "      <th>predicted_purchase_interval</th>\n",
       "      <th>recency_userproduct</th>\n",
       "      <th>is_in_latest1_order</th>\n",
       "      <th>is_in_latest2_order</th>\n",
       "      <th>is_in_latest3_order</th>\n",
       "      <th>is_in_next_cart</th>\n",
       "    </tr>\n",
       "  </thead>\n",
       "  <tbody>\n",
       "    <tr>\n",
       "      <td>count</td>\n",
       "      <td>1.209131e+06</td>\n",
       "      <td>1.209131e+06</td>\n",
       "      <td>1.209131e+06</td>\n",
       "      <td>1.209131e+06</td>\n",
       "      <td>1.209131e+06</td>\n",
       "      <td>1.209131e+06</td>\n",
       "      <td>1.209131e+06</td>\n",
       "      <td>1.209131e+06</td>\n",
       "      <td>1.209131e+06</td>\n",
       "      <td>1.209131e+06</td>\n",
       "      <td>1.209131e+06</td>\n",
       "      <td>1.209131e+06</td>\n",
       "      <td>1.209131e+06</td>\n",
       "      <td>1.209131e+06</td>\n",
       "    </tr>\n",
       "    <tr>\n",
       "      <td>mean</td>\n",
       "      <td>1.025426e+05</td>\n",
       "      <td>2.565433e+04</td>\n",
       "      <td>1.634347e+01</td>\n",
       "      <td>8.010228e+00</td>\n",
       "      <td>8.807827e+00</td>\n",
       "      <td>2.027368e+00</td>\n",
       "      <td>4.327571e-02</td>\n",
       "      <td>1.509498e+01</td>\n",
       "      <td>1.193990e-01</td>\n",
       "      <td>2.927936e+01</td>\n",
       "      <td>3.423045e-01</td>\n",
       "      <td>3.347073e-01</td>\n",
       "      <td>3.232594e-01</td>\n",
       "      <td>2.437982e-01</td>\n",
       "    </tr>\n",
       "    <tr>\n",
       "      <td>std</td>\n",
       "      <td>5.953408e+04</td>\n",
       "      <td>1.413186e+04</td>\n",
       "      <td>9.578907e+00</td>\n",
       "      <td>5.283646e+00</td>\n",
       "      <td>6.776144e+00</td>\n",
       "      <td>1.734785e+00</td>\n",
       "      <td>5.059348e-02</td>\n",
       "      <td>7.836154e+00</td>\n",
       "      <td>3.242575e-01</td>\n",
       "      <td>1.496162e+01</td>\n",
       "      <td>4.744811e-01</td>\n",
       "      <td>4.718882e-01</td>\n",
       "      <td>4.677210e-01</td>\n",
       "      <td>4.293726e-01</td>\n",
       "    </tr>\n",
       "    <tr>\n",
       "      <td>min</td>\n",
       "      <td>1.000000e+00</td>\n",
       "      <td>1.000000e+00</td>\n",
       "      <td>0.000000e+00</td>\n",
       "      <td>0.000000e+00</td>\n",
       "      <td>1.000000e+00</td>\n",
       "      <td>1.000000e+00</td>\n",
       "      <td>5.561735e-04</td>\n",
       "      <td>1.000000e+00</td>\n",
       "      <td>0.000000e+00</td>\n",
       "      <td>0.000000e+00</td>\n",
       "      <td>0.000000e+00</td>\n",
       "      <td>0.000000e+00</td>\n",
       "      <td>0.000000e+00</td>\n",
       "      <td>0.000000e+00</td>\n",
       "    </tr>\n",
       "    <tr>\n",
       "      <td>25%</td>\n",
       "      <td>5.114100e+04</td>\n",
       "      <td>1.351700e+04</td>\n",
       "      <td>9.000000e+00</td>\n",
       "      <td>5.000000e+00</td>\n",
       "      <td>4.000000e+00</td>\n",
       "      <td>1.000000e+00</td>\n",
       "      <td>1.515152e-02</td>\n",
       "      <td>9.000000e+00</td>\n",
       "      <td>0.000000e+00</td>\n",
       "      <td>1.700000e+01</td>\n",
       "      <td>0.000000e+00</td>\n",
       "      <td>0.000000e+00</td>\n",
       "      <td>0.000000e+00</td>\n",
       "      <td>0.000000e+00</td>\n",
       "    </tr>\n",
       "    <tr>\n",
       "      <td>50%</td>\n",
       "      <td>1.019200e+05</td>\n",
       "      <td>2.551300e+04</td>\n",
       "      <td>1.400000e+01</td>\n",
       "      <td>7.000000e+00</td>\n",
       "      <td>7.000000e+00</td>\n",
       "      <td>1.000000e+00</td>\n",
       "      <td>2.857143e-02</td>\n",
       "      <td>1.400000e+01</td>\n",
       "      <td>0.000000e+00</td>\n",
       "      <td>2.800000e+01</td>\n",
       "      <td>0.000000e+00</td>\n",
       "      <td>0.000000e+00</td>\n",
       "      <td>0.000000e+00</td>\n",
       "      <td>0.000000e+00</td>\n",
       "    </tr>\n",
       "    <tr>\n",
       "      <td>75%</td>\n",
       "      <td>1.541790e+05</td>\n",
       "      <td>3.824100e+04</td>\n",
       "      <td>2.100000e+01</td>\n",
       "      <td>1.000000e+01</td>\n",
       "      <td>1.200000e+01</td>\n",
       "      <td>2.000000e+00</td>\n",
       "      <td>5.263158e-02</td>\n",
       "      <td>1.900000e+01</td>\n",
       "      <td>0.000000e+00</td>\n",
       "      <td>4.100000e+01</td>\n",
       "      <td>1.000000e+00</td>\n",
       "      <td>1.000000e+00</td>\n",
       "      <td>1.000000e+00</td>\n",
       "      <td>0.000000e+00</td>\n",
       "    </tr>\n",
       "    <tr>\n",
       "      <td>max</td>\n",
       "      <td>2.062000e+05</td>\n",
       "      <td>4.968800e+04</td>\n",
       "      <td>6.000000e+01</td>\n",
       "      <td>3.000000e+01</td>\n",
       "      <td>9.900000e+01</td>\n",
       "      <td>8.000000e+01</td>\n",
       "      <td>1.000000e+00</td>\n",
       "      <td>7.800000e+01</td>\n",
       "      <td>1.000000e+00</td>\n",
       "      <td>6.000000e+01</td>\n",
       "      <td>1.000000e+00</td>\n",
       "      <td>1.000000e+00</td>\n",
       "      <td>1.000000e+00</td>\n",
       "      <td>1.000000e+00</td>\n",
       "    </tr>\n",
       "  </tbody>\n",
       "</table>\n",
       "</div>"
      ],
      "text/plain": [
       "            user_id    product_id  user_days_since_prior_order  user_prod_purchase_frequency  avg_add_to_cart_order  userprod_order_count_60  userprod_in60_reorder_rate  avg_prod_count  predicted_purchase_interval  recency_userproduct  is_in_latest1_order  is_in_latest2_order  is_in_latest3_order  is_in_next_cart\n",
       "count  1.209131e+06  1.209131e+06                 1.209131e+06                  1.209131e+06           1.209131e+06             1.209131e+06                1.209131e+06    1.209131e+06                 1.209131e+06         1.209131e+06         1.209131e+06         1.209131e+06         1.209131e+06     1.209131e+06\n",
       "mean   1.025426e+05  2.565433e+04                 1.634347e+01                  8.010228e+00           8.807827e+00             2.027368e+00                4.327571e-02    1.509498e+01                 1.193990e-01         2.927936e+01         3.423045e-01         3.347073e-01         3.232594e-01     2.437982e-01\n",
       "std    5.953408e+04  1.413186e+04                 9.578907e+00                  5.283646e+00           6.776144e+00             1.734785e+00                5.059348e-02    7.836154e+00                 3.242575e-01         1.496162e+01         4.744811e-01         4.718882e-01         4.677210e-01     4.293726e-01\n",
       "min    1.000000e+00  1.000000e+00                 0.000000e+00                  0.000000e+00           1.000000e+00             1.000000e+00                5.561735e-04    1.000000e+00                 0.000000e+00         0.000000e+00         0.000000e+00         0.000000e+00         0.000000e+00     0.000000e+00\n",
       "25%    5.114100e+04  1.351700e+04                 9.000000e+00                  5.000000e+00           4.000000e+00             1.000000e+00                1.515152e-02    9.000000e+00                 0.000000e+00         1.700000e+01         0.000000e+00         0.000000e+00         0.000000e+00     0.000000e+00\n",
       "50%    1.019200e+05  2.551300e+04                 1.400000e+01                  7.000000e+00           7.000000e+00             1.000000e+00                2.857143e-02    1.400000e+01                 0.000000e+00         2.800000e+01         0.000000e+00         0.000000e+00         0.000000e+00     0.000000e+00\n",
       "75%    1.541790e+05  3.824100e+04                 2.100000e+01                  1.000000e+01           1.200000e+01             2.000000e+00                5.263158e-02    1.900000e+01                 0.000000e+00         4.100000e+01         1.000000e+00         1.000000e+00         1.000000e+00     0.000000e+00\n",
       "max    2.062000e+05  4.968800e+04                 6.000000e+01                  3.000000e+01           9.900000e+01             8.000000e+01                1.000000e+00    7.800000e+01                 1.000000e+00         6.000000e+01         1.000000e+00         1.000000e+00         1.000000e+00     1.000000e+00"
      ]
     },
     "execution_count": 121,
     "metadata": {},
     "output_type": "execute_result"
    }
   ],
   "source": [
    "data_1.describe()"
   ]
  },
  {
   "cell_type": "code",
   "execution_count": 122,
   "metadata": {},
   "outputs": [
    {
     "data": {
      "text/plain": [
       "14"
      ]
     },
     "execution_count": 122,
     "metadata": {},
     "output_type": "execute_result"
    }
   ],
   "source": [
    "len(data_1.keys())"
   ]
  },
  {
   "cell_type": "code",
   "execution_count": 123,
   "metadata": {},
   "outputs": [
    {
     "data": {
      "text/plain": [
       "Index(['user_id', 'product_id', 'user_days_since_prior_order', 'user_prod_purchase_frequency', 'avg_add_to_cart_order', 'userprod_order_count_60', 'userprod_in60_reorder_rate', 'avg_prod_count', 'predicted_purchase_interval', 'recency_userproduct', 'is_in_latest1_order', 'is_in_latest2_order', 'is_in_latest3_order', 'is_in_next_cart'], dtype='object')"
      ]
     },
     "execution_count": 123,
     "metadata": {},
     "output_type": "execute_result"
    }
   ],
   "source": [
    "data_1.keys()"
   ]
  },
  {
   "cell_type": "code",
   "execution_count": 124,
   "metadata": {},
   "outputs": [],
   "source": [
    "from sklearn.model_selection import GroupShuffleSplit\n",
    "train_ind, test_ind = next(GroupShuffleSplit(test_size=.20, n_splits=2, random_state = 7).split(data_1, groups=data_1['user_id']))\n",
    "\n",
    "train = data_1.iloc[train_ind]\n",
    "test = data_1.iloc[test_ind]"
   ]
  },
  {
   "cell_type": "code",
   "execution_count": 125,
   "metadata": {},
   "outputs": [],
   "source": [
    "array = data_1.values\n",
    "X = array[:,2:13]\n",
    "Y = array[:,13]"
   ]
  },
  {
   "cell_type": "code",
   "execution_count": 126,
   "metadata": {},
   "outputs": [
    {
     "data": {
      "text/plain": [
       "array([0., 0., 0., ..., 0., 1., 0.])"
      ]
     },
     "execution_count": 126,
     "metadata": {},
     "output_type": "execute_result"
    }
   ],
   "source": [
    "Y"
   ]
  },
  {
   "cell_type": "code",
   "execution_count": 127,
   "metadata": {},
   "outputs": [
    {
     "name": "stdout",
     "output_type": "stream",
     "text": [
      "914347\n",
      "294784\n",
      "Estimate: 3.102\n"
     ]
    }
   ],
   "source": [
    "from collections import Counter\n",
    "counter = Counter(Y)\n",
    "print(counter[0])\n",
    "print(counter[1])\n",
    "# estimate scale_pos_weight value\n",
    "estimate = counter[0] / counter[1]\n",
    "print('Estimate: %.3f' % estimate)"
   ]
  },
  {
   "cell_type": "code",
   "execution_count": 128,
   "metadata": {},
   "outputs": [],
   "source": [
    "#array_1 = data_new.values\n",
    "array_1 = train.values\n",
    "X_train = array_1[:,2:13]\n",
    "Y_train = array_1[:,13]\n",
    "array_2 = test.values\n",
    "X_test = array_2[:,2:13]\n",
    "Y_test = array_2[:,13]"
   ]
  },
  {
   "cell_type": "code",
   "execution_count": 129,
   "metadata": {},
   "outputs": [
    {
     "name": "stdout",
     "output_type": "stream",
     "text": [
      "731925\n",
      "235338\n",
      "Estimate: 3.110\n"
     ]
    }
   ],
   "source": [
    "from collections import Counter\n",
    "counter = Counter(Y_train)\n",
    "print(counter[0])\n",
    "print(counter[1])\n",
    "# estimate scale_pos_weight value\n",
    "estimate = counter[0] / counter[1]\n",
    "print('Estimate: %.3f' % estimate)"
   ]
  },
  {
   "cell_type": "code",
   "execution_count": 130,
   "metadata": {},
   "outputs": [
    {
     "data": {
      "text/plain": [
       "array([0., 0., 0., ..., 1., 0., 0.])"
      ]
     },
     "execution_count": 130,
     "metadata": {},
     "output_type": "execute_result"
    }
   ],
   "source": [
    "Y_train"
   ]
  },
  {
   "cell_type": "code",
   "execution_count": 131,
   "metadata": {},
   "outputs": [
    {
     "data": {
      "text/plain": [
       "set()"
      ]
     },
     "execution_count": 131,
     "metadata": {},
     "output_type": "execute_result"
    }
   ],
   "source": [
    "set(train['user_id']).intersection(set(test['user_id']))"
   ]
  },
  {
   "cell_type": "code",
   "execution_count": 132,
   "metadata": {},
   "outputs": [],
   "source": [
    "#inst_weight = array_1[:,10]"
   ]
  },
  {
   "cell_type": "code",
   "execution_count": 133,
   "metadata": {},
   "outputs": [
    {
     "name": "stdout",
     "output_type": "stream",
     "text": [
      "0.7142462804842117\n",
      "[[548506 183419]\n",
      " [ 92980 142358]]\n",
      "              precision    recall  f1-score   support\n",
      "\n",
      "         0.0       0.86      0.75      0.80    731925\n",
      "         1.0       0.44      0.60      0.51    235338\n",
      "\n",
      "    accuracy                           0.71    967263\n",
      "   macro avg       0.65      0.68      0.65    967263\n",
      "weighted avg       0.75      0.71      0.73    967263\n",
      "\n"
     ]
    }
   ],
   "source": [
    "from xgboost import XGBClassifier\n",
    "from sklearn import metrics\n",
    "xgb= XGBClassifier(random_state = 1,scale_pos_weight=3.0)\n",
    "xgbmodel = xgb.fit(X_train, Y_train)\n",
    "prediction_1 = xgbmodel.predict(X_train)\n",
    "\n",
    "# Evaluate predictions\n",
    "print(metrics.accuracy_score(Y_train, prediction_1))\n",
    "print(metrics.confusion_matrix(Y_train, prediction_1))\n",
    "print(metrics.classification_report(Y_train, prediction_1))"
   ]
  },
  {
   "cell_type": "code",
   "execution_count": 134,
   "metadata": {},
   "outputs": [
    {
     "name": "stdout",
     "output_type": "stream",
     "text": [
      "0.7124671308316933\n",
      "[[136314  46108]\n",
      " [ 23437  36009]]\n",
      "              precision    recall  f1-score   support\n",
      "\n",
      "         0.0       0.85      0.75      0.80    182422\n",
      "         1.0       0.44      0.61      0.51     59446\n",
      "\n",
      "    accuracy                           0.71    241868\n",
      "   macro avg       0.65      0.68      0.65    241868\n",
      "weighted avg       0.75      0.71      0.73    241868\n",
      "\n"
     ]
    }
   ],
   "source": [
    "prediction_2 = xgbmodel.predict(X_test)\n",
    "\n",
    "# Evaluate predictions\n",
    "print(metrics.accuracy_score(Y_test, prediction_2))\n",
    "print(metrics.confusion_matrix(Y_test, prediction_2))\n",
    "print(metrics.classification_report(Y_test, prediction_2))"
   ]
  },
  {
   "cell_type": "code",
   "execution_count": null,
   "metadata": {},
   "outputs": [],
   "source": [
    "prediction_together = xgbmodel.predict(X)\n",
    "\n",
    "# Evaluate predictions\n",
    "print(metrics.accuracy_score(Y_test, prediction_together))\n",
    "print(metrics.confusion_matrix(Y_test, prediction_2))\n",
    "print(metrics.classification_report(Y_test, prediction_2))"
   ]
  },
  {
   "cell_type": "code",
   "execution_count": 135,
   "metadata": {},
   "outputs": [
    {
     "name": "stdout",
     "output_type": "stream",
     "text": [
      "[0.12857144 0.07428572 0.09857143 0.13285714 0.12857144 0.13571429\n",
      " 0.02       0.14       0.05571429 0.03857143 0.04714286]\n"
     ]
    },
    {
     "data": {
      "image/png": "[encoded data removed]",
      "text/plain": [
       "<Figure size 432x288 with 1 Axes>"
      ]
     },
     "metadata": {
      "needs_background": "light"
     },
     "output_type": "display_data"
    }
   ],
   "source": [
    "import matplotlib.pyplot as plt\n",
    "# feature importance\n",
    "print(xgbmodel.feature_importances_)\n",
    "# plot\n",
    "plt.bar(range(len(xgbmodel.feature_importances_)), xgbmodel.feature_importances_)\n",
    "plt.show()"
   ]
  },
  {
   "cell_type": "code",
   "execution_count": 136,
   "metadata": {},
   "outputs": [
    {
     "data": {
      "image/png": "[encoded data removed]",
      "text/plain": [
       "<Figure size 432x288 with 1 Axes>"
      ]
     },
     "metadata": {
      "needs_background": "light"
     },
     "output_type": "display_data"
    }
   ],
   "source": [
    "from xgboost import plot_importance\n",
    "# plot feature importance\n",
    "plot_importance(xgbmodel)\n",
    "plt.show()"
   ]
  },
  {
   "cell_type": "code",
   "execution_count": 137,
   "metadata": {},
   "outputs": [
    {
     "name": "stdout",
     "output_type": "stream",
     "text": [
      "Thresh=0.020, n=11, Accuracy: 78.37%\n",
      "Thresh=0.039, n=10, Accuracy: 78.39%\n",
      "Thresh=0.047, n=9, Accuracy: 78.23%\n",
      "Thresh=0.056, n=8, Accuracy: 78.21%\n",
      "Thresh=0.074, n=7, Accuracy: 78.22%\n",
      "Thresh=0.099, n=6, Accuracy: 78.14%\n",
      "Thresh=0.129, n=5, Accuracy: 78.08%\n",
      "Thresh=0.129, n=5, Accuracy: 78.08%\n",
      "Thresh=0.133, n=3, Accuracy: 76.70%\n",
      "Thresh=0.136, n=2, Accuracy: 75.44%\n",
      "Thresh=0.140, n=1, Accuracy: 75.43%\n"
     ]
    }
   ],
   "source": [
    "# Fit model using each importance as a threshold\n",
    "\n",
    "from numpy import sort\n",
    "from sklearn.metrics import accuracy_score\n",
    "from sklearn.feature_selection import SelectFromModel\n",
    "thresholds = sort(xgbmodel.feature_importances_)\n",
    "for thresh in thresholds:\n",
    "    # select features using threshold\n",
    "    selection = SelectFromModel(xgbmodel, threshold=thresh, prefit=True)\n",
    "    select_X_train = selection.transform(X_train)\n",
    "    # train model\n",
    "    selection_model = XGBClassifier()\n",
    "    selection_model.fit(select_X_train, Y_train)\n",
    "    # eval model\n",
    "    select_X_test = selection.transform(X_test)\n",
    "    predictions = selection_model.predict(select_X_test)\n",
    "    accuracy = accuracy_score(Y_test, predictions)\n",
    "    print(\"Thresh=%.3f, n=%d, Accuracy: %.2f%%\" % (thresh, select_X_train.shape[1], accuracy*100.0))"
   ]
  },
  {
   "cell_type": "code",
   "execution_count": 138,
   "metadata": {},
   "outputs": [],
   "source": [
    "# n= 10 gives slight improvement in accuracy so building a model on that threshold"
   ]
  },
  {
   "cell_type": "code",
   "execution_count": 139,
   "metadata": {},
   "outputs": [
    {
     "name": "stdout",
     "output_type": "stream",
     "text": [
      "0.7142462804842117\n",
      "[[548506 183419]\n",
      " [ 92980 142358]]\n",
      "              precision    recall  f1-score   support\n",
      "\n",
      "         0.0       0.86      0.75      0.80    731925\n",
      "         1.0       0.44      0.60      0.51    235338\n",
      "\n",
      "    accuracy                           0.71    967263\n",
      "   macro avg       0.65      0.68      0.65    967263\n",
      "weighted avg       0.75      0.71      0.73    967263\n",
      "\n"
     ]
    }
   ],
   "source": [
    "from xgboost import XGBClassifier\n",
    "from sklearn import metrics\n",
    "xgb= XGBClassifier(random_state = 1,scale_pos_weight=3.0, threshold = 0.037)\n",
    "xgbmodel = xgb.fit(X_train, Y_train)\n",
    "prediction_1 = xgbmodel.predict(X_train)\n",
    "\n",
    "# Evaluate predictions\n",
    "print(metrics.accuracy_score(Y_train, prediction_1))\n",
    "print(metrics.confusion_matrix(Y_train, prediction_1))\n",
    "print(metrics.classification_report(Y_train, prediction_1))"
   ]
  },
  {
   "cell_type": "code",
   "execution_count": 91,
   "metadata": {},
   "outputs": [
    {
     "name": "stdout",
     "output_type": "stream",
     "text": [
      "Accuracy: 71.34% (0.15%)\n"
     ]
    }
   ],
   "source": [
    "#evaluation using K-fold crossvalidation\n",
    "# CV model\n",
    "from sklearn.model_selection import KFold\n",
    "from sklearn.model_selection import cross_val_score\n",
    "kfold = KFold(n_splits=10, random_state=1)\n",
    "results = cross_val_score(xgbmodel, X_train, Y_train, cv=kfold)\n",
    "print(\"Accuracy: %.2f%% (%.2f%%)\" % (results.mean()*100, results.std()*100))\n"
   ]
  },
  {
   "cell_type": "code",
   "execution_count": 141,
   "metadata": {},
   "outputs": [
    {
     "name": "stdout",
     "output_type": "stream",
     "text": [
      "0.7138903890480023\n",
      "[[684820 229527]\n",
      " [116417 178367]]\n",
      "              precision    recall  f1-score   support\n",
      "\n",
      "         0.0       0.85      0.75      0.80    914347\n",
      "         1.0       0.44      0.61      0.51    294784\n",
      "\n",
      "    accuracy                           0.71   1209131\n",
      "   macro avg       0.65      0.68      0.65   1209131\n",
      "weighted avg       0.75      0.71      0.73   1209131\n",
      "\n"
     ]
    }
   ],
   "source": [
    "\n",
    "probability = xgbmodel.predict_proba(X)\n",
    "prediction_together = xgbmodel.predict(X)\n",
    "\n",
    "# Evaluate predictions\n",
    "print(metrics.accuracy_score(Y, prediction_together))\n",
    "print(metrics.confusion_matrix(Y, prediction_together))\n",
    "print(metrics.classification_report(Y, prediction_together))"
   ]
  },
  {
   "cell_type": "code",
   "execution_count": 142,
   "metadata": {},
   "outputs": [],
   "source": [
    "prediction = prediction_together.tolist()\n",
    "probabilities = probability.tolist()\n",
    "data_1['prediction_buying'] = prediction\n",
    "data_1['probability'] = probabilities"
   ]
  },
  {
   "cell_type": "code",
   "execution_count": 147,
   "metadata": {},
   "outputs": [
    {
     "name": "stdout",
     "output_type": "stream",
     "text": [
      "Index(['user_id', 'product_id', 'user_days_since_prior_order', 'user_prod_purchase_frequency', 'avg_add_to_cart_order', 'userprod_order_count_60', 'userprod_in60_reorder_rate', 'avg_prod_count', 'predicted_purchase_interval', 'recency_userproduct', 'is_in_latest1_order', 'is_in_latest2_order', 'is_in_latest3_order', 'is_in_next_cart', 'prediction_buying', 'probability', 'product_name',\n",
      "       'aisle_id', 'department_id', 'department', 'true_vs_label'],\n",
      "      dtype='object')\n"
     ]
    }
   ],
   "source": [
    "import numpy as np\n",
    "dept = pd.read_csv(\"D:\\TN\\Capstone\\Datasets\\departments.csv\")\n",
    "products = pd.read_csv(\"D:\\TN\\Capstone\\Datasets\\products.csv\",encoding=\"ISO-8859-1\")\n",
    "df = data_1.merge(products,on =('product_id'), how = ('left'))\n",
    "df = df.merge(dept,on =('department_id'), how = ('left'))\n",
    "df[\"true_vs_label\"] = np.where(df['prediction_buying']==df['is_in_next_cart'],'Correct_prediction', 'Wrong_prediction')\n",
    "print(df.keys())\n"
   ]
  },
  {
   "cell_type": "code",
   "execution_count": 148,
   "metadata": {},
   "outputs": [
    {
     "data": {
      "image/png": "[encoded data removed]",
      "text/plain": [
       "<Figure size 488x360 with 1 Axes>"
      ]
     },
     "metadata": {
      "needs_background": "light"
     },
     "output_type": "display_data"
    }
   ],
   "source": [
    "p1 = df[df['is_in_next_cart']==1]\n",
    "plt_1 = p1.groupby(['department_id', 'true_vs_label']).size().reset_index(name=\"count\")\n",
    "import seaborn as sns\n",
    "sns.catplot(x=\"department_id\", y=\"count\", hue=\"true_vs_label\", kind=\"bar\", data=plt_1);\n"
   ]
  },
  {
   "cell_type": "code",
   "execution_count": 149,
   "metadata": {},
   "outputs": [
    {
     "data": {
      "image/png": "[encoded data removed]",
      "text/plain": [
       "<Figure size 488x360 with 1 Axes>"
      ]
     },
     "metadata": {
      "needs_background": "light"
     },
     "output_type": "display_data"
    }
   ],
   "source": [
    "p2 = df[df['is_in_next_cart']==0]\n",
    "plt_2 = p2.groupby(['department_id', 'true_vs_label']).size().reset_index(name=\"count\")\n",
    "import seaborn as sns\n",
    "sns.catplot(x=\"department_id\", y=\"count\", hue=\"true_vs_label\", kind=\"bar\", data=plt_2);\n"
   ]
  },
  {
   "cell_type": "code",
   "execution_count": null,
   "metadata": {},
   "outputs": [],
   "source": []
  }
 ],
 "metadata": {
  "kernelspec": {
   "display_name": "Python 3",
   "language": "python",
   "name": "python3"
  },
  "language_info": {
   "codemirror_mode": {
    "name": "ipython",
    "version": 3
   },
   "file_extension": ".py",
   "mimetype": "text/x-python",
   "name": "python",
   "nbconvert_exporter": "python",
   "pygments_lexer": "ipython3",
   "version": "3.7.4"
  }
 },
 "nbformat": 4,
 "nbformat_minor": 2
}
