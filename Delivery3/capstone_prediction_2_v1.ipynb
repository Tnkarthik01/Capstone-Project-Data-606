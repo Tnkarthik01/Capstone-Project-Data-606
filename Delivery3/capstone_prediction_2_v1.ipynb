{
 "cells": [
  {
   "cell_type": "code",
   "execution_count": 1,
   "metadata": {},
   "outputs": [],
   "source": [
    "import findspark\n",
    "\n",
    "findspark.init()\n",
    "import pyspark"
   ]
  },
  {
   "cell_type": "code",
   "execution_count": 2,
   "metadata": {},
   "outputs": [],
   "source": [
    "from pyspark.sql import SparkSession\n",
    "import pandas as pd\n",
    "# Disable warnings, set Matplotlib inline plotting and load Pandas package\n",
    "import warnings\n",
    "warnings.filterwarnings('ignore')\n",
    "import matplotlib.pyplot as plt\n",
    "%matplotlib inline\n"
   ]
  },
  {
   "cell_type": "code",
   "execution_count": 3,
   "metadata": {},
   "outputs": [],
   "source": [
    "import pyspark.sql.functions as F\n",
    "from pyspark.sql.functions import udf\n",
    "from pyspark.sql.types import StringType\n",
    "MAX_MEMORY = \"7g\"\n",
    "pd.set_option('display.width', 400)\n",
    "pd.set_option('display.max_columns', 30)\n",
    "spark = SparkSession.builder.appName('Capstone Project V5').config(\"spark.executor.memory\", MAX_MEMORY).config(\"spark.driver.memory\", MAX_MEMORY).config(\"spark.storage.memoryFraction\",1.0).getOrCreate()\n"
   ]
  },
  {
   "cell_type": "code",
   "execution_count": 4,
   "metadata": {},
   "outputs": [],
   "source": [
    "spark.catalog.clearCache()\n",
    "orders= spark.read.csv(r\"C:\\Users\\Owner\\Downloads\\order_sample.csv\", header = True, inferSchema = True)\n",
    "prior =spark.read.csv(r\"D:\\TN\\Capstone\\Datasets\\order_products__prior.csv\", header = True, inferSchema = True) \n",
    "train =spark.read.csv(r\"D:\\TN\\Capstone\\Datasets\\order_products__train.csv\", header = True, inferSchema = True) \n",
    "products = spark.read.csv(r\"D:\\TN\\Capstone\\Datasets\\products.csv\", header = True, inferSchema = True)\n",
    "#orders.show(2)\n",
    "#prior.show(2)\n",
    "#train.show(2)\n",
    "#products.show(2)"
   ]
  },
  {
   "cell_type": "code",
   "execution_count": 5,
   "metadata": {},
   "outputs": [],
   "source": [
    "prior = prior.select('order_id','add_to_cart_order','reordered',prior.product_id.cast(StringType()).alias('product_id'))\n",
    "train = train.select('order_id','add_to_cart_order','reordered',train.product_id.cast(StringType()).alias('product_id'))"
   ]
  },
  {
   "cell_type": "code",
   "execution_count": 6,
   "metadata": {},
   "outputs": [],
   "source": [
    "orders.drop('eval_set')\n",
    "#orders.show(2)\n",
    "orders_prior_df = prior.join(orders, on = 'order_id', how = 'inner').drop('eval_set')\n",
    "#orders_prior_df = orders_prior_df.where(orders_prior_df[\"reordered\"]=1)\n",
    "#orders_prior_df.show(2)\n",
    "orders_train_df = train.join(orders, on = 'order_id', how = 'inner').drop('eval_set')\n",
    "#orders_train_df.show(2)"
   ]
  },
  {
   "cell_type": "code",
   "execution_count": 7,
   "metadata": {},
   "outputs": [],
   "source": [
    "#orders_prior_df.dtypes\n",
    "#orders_train_df.dtypes"
   ]
  },
  {
   "cell_type": "markdown",
   "metadata": {},
   "source": [
    "User_product features"
   ]
  },
  {
   "cell_type": "code",
   "execution_count": 8,
   "metadata": {},
   "outputs": [],
   "source": [
    "\n",
    "from pyspark.sql.functions import col\n",
    "from pyspark.sql.window import Window\n",
    "column_list = [\"user_id\",\"product_id\"]\n",
    "window = Window.partitionBy([col(x) for x in column_list])"
   ]
  },
  {
   "cell_type": "code",
   "execution_count": 9,
   "metadata": {},
   "outputs": [],
   "source": [
    "user_prod_df=orders_prior_df.select('user_id','product_id', F.round(F.avg('days_since_prior_order').over(window)).alias('user_prod_purchase_frequency'),F.count('order_id').over(window).alias('products_in_number_of_userorders'),F.sum('reordered').over(window).alias('number_of_times_prod_reordered'),F.round(F.avg('add_to_cart_order').over(window)).alias('avg_add_to_cart_order')).orderBy(orders_prior_df['user_id']).dropDuplicates()"
   ]
  },
  {
   "cell_type": "code",
   "execution_count": 10,
   "metadata": {},
   "outputs": [],
   "source": [
    "#user_prod_df.show()"
   ]
  },
  {
   "cell_type": "code",
   "execution_count": 11,
   "metadata": {},
   "outputs": [],
   "source": [
    "train_users = orders_train_df.select('user_id').dropDuplicates()"
   ]
  },
  {
   "cell_type": "code",
   "execution_count": 12,
   "metadata": {},
   "outputs": [],
   "source": [
    "x_df = user_prod_df.join(train_users, on = 'user_id', how='inner')"
   ]
  },
  {
   "cell_type": "code",
   "execution_count": 13,
   "metadata": {},
   "outputs": [
    {
     "name": "stdout",
     "output_type": "stream",
     "text": [
      "+-------+----------+----------------------------+--------------------------------+------------------------------+---------------------+\n",
      "|user_id|product_id|user_prod_purchase_frequency|products_in_number_of_userorders|number_of_times_prod_reordered|avg_add_to_cart_order|\n",
      "+-------+----------+----------------------------+--------------------------------+------------------------------+---------------------+\n",
      "|    148|      1203|                        null|                               1|                             0|                 22.0|\n",
      "|    148|      7870|                         3.0|                               2|                             1|                 25.0|\n",
      "|    148|     18629|                         3.0|                               2|                             1|                  6.0|\n",
      "|    148|      4025|                         1.0|                               1|                             0|                 15.0|\n",
      "|    148|     22721|                        null|                               1|                             0|                 23.0|\n",
      "+-------+----------+----------------------------+--------------------------------+------------------------------+---------------------+\n",
      "only showing top 5 rows\n",
      "\n"
     ]
    }
   ],
   "source": [
    "x_df.show(5)"
   ]
  },
  {
   "cell_type": "code",
   "execution_count": 14,
   "metadata": {},
   "outputs": [],
   "source": [
    "\n",
    "train_user_prod_df=orders_train_df.withColumn(\"list_of_products_in_latest_order\", F.concat_ws(\",\", \"product_id\")).select(\"user_id\", \"days_since_prior_order\",\"list_of_products_in_latest_order\").groupBy(\"user_id\").agg(F.collect_list(\"list_of_products_in_latest_order\").alias(\"latest_ordered_products\"))\n",
    "train_user_prod_df_1 = orders_train_df.join(train_user_prod_df, on ='user_id', how = 'inner')\n",
    "train_user_prod_df_2 = train_user_prod_df_1.select(\"user_id\",\"latest_ordered_products\",\"days_since_prior_order\")\n"
   ]
  },
  {
   "cell_type": "code",
   "execution_count": 15,
   "metadata": {},
   "outputs": [],
   "source": [
    "x_df=x_df.join(train_user_prod_df_2, on = 'user_id',how='inner')\n"
   ]
  },
  {
   "cell_type": "code",
   "execution_count": 16,
   "metadata": {},
   "outputs": [],
   "source": [
    "from pyspark.sql.types import IntegerType\n",
    "\n",
    "def in_cart(product_id,latest_ordered_products):\n",
    "   # Check for the case where there is no Array, otherwise we will get an Error\n",
    "   if latest_ordered_products == None:\n",
    "      return None\n",
    "   # Checking each and every Array element if it exists in 'FullAddress',\n",
    "   # and if a match is found, it's immediately returned.\n",
    "   for x in latest_ordered_products:\n",
    "      if x in product_id:\n",
    "         return 1\n",
    "   return 0\n",
    "simpleudf = udf(in_cart, IntegerType())\n",
    "x_df=x_df.withColumn(\"is_in_next_cart\",simpleudf(col('product_id'),col('latest_ordered_products')))\n"
   ]
  },
  {
   "cell_type": "code",
   "execution_count": 17,
   "metadata": {},
   "outputs": [],
   "source": [
    "#x_df.orderBy(\"user_id\").show()"
   ]
  },
  {
   "cell_type": "code",
   "execution_count": 18,
   "metadata": {},
   "outputs": [],
   "source": [
    "from pyspark.sql.functions import dense_rank,col\n",
    "window_1 = Window.partitionBy(orders_prior_df['user_id']).orderBy(orders_prior_df['order_number'].desc())\n",
    "user_prod_latest4_df= orders_prior_df.withColumn('rank',dense_rank().over(window_1)).filter(col('rank')<=4).orderBy(orders_prior_df['user_id'])"
   ]
  },
  {
   "cell_type": "code",
   "execution_count": 19,
   "metadata": {},
   "outputs": [],
   "source": [
    "#cols = ['user_id','order_number']\n",
    "#user_prod_latest4_df.orderBy(*cols, ascending = True).show(50)"
   ]
  },
  {
   "cell_type": "code",
   "execution_count": 20,
   "metadata": {},
   "outputs": [],
   "source": [
    "\n",
    "user_prod_last4orders = user_prod_latest4_df.select('user_id','product_id',F.round(F.avg('days_since_prior_order').over(window)).alias('user_prod_purchase_frequency_in_latest4orders'),F.count('order_id').over(window).alias('products_reordered_in_latest4orders')).dropDuplicates()\n",
    "\n",
    "#user_prod_last4orders.orderBy('user_id', ascending = True).show()"
   ]
  },
  {
   "cell_type": "code",
   "execution_count": 21,
   "metadata": {},
   "outputs": [],
   "source": [
    "x_df = x_df.join(user_prod_last4orders, on = ['user_id', 'product_id'], how = 'inner')"
   ]
  },
  {
   "cell_type": "code",
   "execution_count": 22,
   "metadata": {},
   "outputs": [],
   "source": [
    "#x_df.show(2)"
   ]
  },
  {
   "cell_type": "markdown",
   "metadata": {},
   "source": [
    "\n",
    "user_prod_last4orders = user_prod_latest4_df.select('user_id','product_id','order_id','rank',F.round(F.avg('days_since_prior_order').over(window)).alias('user_prod_purchase_frequency_in_latest4orders'),F.count('order_id').over(window).alias('products_reordered_in_latest4orders')).dropDuplicates()\n",
    "\n",
    "user_prod_last4orders.orderBy('user_id', ascending = True).show()"
   ]
  },
  {
   "cell_type": "code",
   "execution_count": 23,
   "metadata": {},
   "outputs": [],
   "source": [
    "user_prod_latest4_2 = user_prod_latest4_df.withColumn(\"products\", F.concat_ws(\",\", \"product_id\")).select(\"order_id\",\"user_id\", \"order_number\",'products').groupBy(\"order_id\").agg(F.collect_list(\"products\").alias(\"products\"))\n",
    "#user_prod_latest4_2.show(5)"
   ]
  },
  {
   "cell_type": "code",
   "execution_count": 24,
   "metadata": {},
   "outputs": [],
   "source": [
    "user_prod_latest4_df = user_prod_latest4_df.join(user_prod_latest4_2, on = 'order_id', how = 'inner')\n"
   ]
  },
  {
   "cell_type": "code",
   "execution_count": 25,
   "metadata": {},
   "outputs": [],
   "source": [
    "#user_prod_latest4_df.show()"
   ]
  },
  {
   "cell_type": "code",
   "execution_count": 26,
   "metadata": {},
   "outputs": [],
   "source": [
    "latest_prod = user_prod_latest4_df.select(\"user_id\",\"products\").where(user_prod_latest4_df[\"rank\"] == 1).dropDuplicates()\n",
    "latest_prod = latest_prod.withColumnRenamed(\"products\",\"latest1_products\")\n",
    "latest1_prod = user_prod_latest4_df.select(\"user_id\",\"products\").where(user_prod_latest4_df[\"rank\"] == 2).dropDuplicates()\n",
    "latest1_prod = latest1_prod.withColumnRenamed(\"products\",\"latest2_products\")"
   ]
  },
  {
   "cell_type": "code",
   "execution_count": 27,
   "metadata": {},
   "outputs": [],
   "source": [
    "#latest_prod.show(2)\n",
    "#latest1_prod.show(2)"
   ]
  },
  {
   "cell_type": "markdown",
   "metadata": {},
   "source": [
    "user_prod_latest4 = user_prod_latest4orders.select(\"user_id\",\"product_id\",\"user_prod_purchase_frequency_in_latest4orders\",\"products_reordered_in_latest4orders\")\n",
    "user_prod_latest4.dtypes"
   ]
  },
  {
   "cell_type": "code",
   "execution_count": 28,
   "metadata": {},
   "outputs": [],
   "source": [
    "x_df = x_df.join(latest_prod, on = 'user_id', how = 'inner')\n",
    "x_df = x_df.join(latest1_prod, on = 'user_id', how = 'inner')\n",
    "#x_df.show(2)\n"
   ]
  },
  {
   "cell_type": "code",
   "execution_count": 29,
   "metadata": {},
   "outputs": [
    {
     "data": {
      "text/plain": [
       "[('user_id', 'int'),\n",
       " ('product_id', 'string'),\n",
       " ('user_prod_purchase_frequency', 'double'),\n",
       " ('products_in_number_of_userorders', 'bigint'),\n",
       " ('number_of_times_prod_reordered', 'bigint'),\n",
       " ('avg_add_to_cart_order', 'double'),\n",
       " ('latest_ordered_products', 'array<string>'),\n",
       " ('days_since_prior_order', 'int'),\n",
       " ('is_in_next_cart', 'int'),\n",
       " ('user_prod_purchase_frequency_in_latest4orders', 'double'),\n",
       " ('products_reordered_in_latest4orders', 'bigint'),\n",
       " ('latest1_products', 'array<string>'),\n",
       " ('latest2_products', 'array<string>'),\n",
       " ('is_in_latest1_order', 'int')]"
      ]
     },
     "execution_count": 29,
     "metadata": {},
     "output_type": "execute_result"
    }
   ],
   "source": [
    "x_df=x_df.withColumn(\"is_in_latest1_order\",simpleudf(col('product_id'),col('latest1_products')))\n",
    "x_df.dtypes"
   ]
  },
  {
   "cell_type": "code",
   "execution_count": 30,
   "metadata": {},
   "outputs": [],
   "source": [
    "#x_df.show(2)"
   ]
  },
  {
   "cell_type": "code",
   "execution_count": 31,
   "metadata": {},
   "outputs": [
    {
     "data": {
      "text/plain": [
       "[('user_id', 'int'),\n",
       " ('product_id', 'string'),\n",
       " ('user_prod_purchase_frequency', 'double'),\n",
       " ('products_in_number_of_userorders', 'bigint'),\n",
       " ('number_of_times_prod_reordered', 'bigint'),\n",
       " ('avg_add_to_cart_order', 'double'),\n",
       " ('latest_ordered_products', 'array<string>'),\n",
       " ('days_since_prior_order', 'int'),\n",
       " ('is_in_next_cart', 'int'),\n",
       " ('user_prod_purchase_frequency_in_latest4orders', 'double'),\n",
       " ('products_reordered_in_latest4orders', 'bigint'),\n",
       " ('latest1_products', 'array<string>'),\n",
       " ('latest2_products', 'array<string>'),\n",
       " ('is_in_latest1_order', 'int'),\n",
       " ('is_in_latest2_order', 'int')]"
      ]
     },
     "execution_count": 31,
     "metadata": {},
     "output_type": "execute_result"
    }
   ],
   "source": [
    "x_df=x_df.withColumn(\"is_in_latest2_order\",simpleudf(col('product_id'),col('latest2_products')))\n",
    "x_df.dtypes"
   ]
  },
  {
   "cell_type": "markdown",
   "metadata": {},
   "source": [
    "#x_df.cache()"
   ]
  },
  {
   "cell_type": "markdown",
   "metadata": {},
   "source": [
    "x_df.orderBy(['user_id','product_id'],ascending = True).show()"
   ]
  },
  {
   "cell_type": "code",
   "execution_count": 32,
   "metadata": {},
   "outputs": [],
   "source": [
    "#User features\n",
    "window2 = Window.partitionBy(orders_prior_df['user_id'])\n",
    "user_df = orders_prior_df.select('order_id','user_id','product_id',F.round(F.avg('days_since_prior_order').over(window2)).alias(\"User_purchase_frequency\"),F.max('order_number').over(window2).alias(\"User_total_orders\"))\n",
    "user_df_1 = user_df.groupBy('user_id').agg(F.countDistinct('product_id').alias('user_total_products'))\n",
    "user_df_2 = user_df.groupBy(['user_id','order_id']).agg(F.count('product_id').alias('product_count'))\n",
    "user_df_3 = user_df_2.groupBy('user_id').agg(F.round(F.avg('product_count')).alias('avg_cart_size')).dropDuplicates()"
   ]
  },
  {
   "cell_type": "markdown",
   "metadata": {},
   "source": [
    "#user_df_3.orderBy('user_id').show()"
   ]
  },
  {
   "cell_type": "code",
   "execution_count": 33,
   "metadata": {},
   "outputs": [],
   "source": [
    "userdf = user_df.join(user_df_1, on = 'user_id', how = 'inner')\n",
    "#userdf.show(2)"
   ]
  },
  {
   "cell_type": "code",
   "execution_count": 34,
   "metadata": {},
   "outputs": [],
   "source": [
    "userdf = userdf.join(user_df_3, on ='user_id', how = 'inner').dropDuplicates()"
   ]
  },
  {
   "cell_type": "code",
   "execution_count": 35,
   "metadata": {},
   "outputs": [],
   "source": [
    "userdf=userdf.drop('order_id','product_id').dropDuplicates()"
   ]
  },
  {
   "cell_type": "markdown",
   "metadata": {},
   "source": [
    "#userdf.orderBy('user_id').show()"
   ]
  },
  {
   "cell_type": "code",
   "execution_count": 36,
   "metadata": {},
   "outputs": [
    {
     "data": {
      "text/plain": [
       "[('user_id', 'int'),\n",
       " ('product_id', 'string'),\n",
       " ('user_prod_purchase_frequency', 'double'),\n",
       " ('products_in_number_of_userorders', 'bigint'),\n",
       " ('number_of_times_prod_reordered', 'bigint'),\n",
       " ('avg_add_to_cart_order', 'double'),\n",
       " ('latest_ordered_products', 'array<string>'),\n",
       " ('days_since_prior_order', 'int'),\n",
       " ('is_in_next_cart', 'int'),\n",
       " ('user_prod_purchase_frequency_in_latest4orders', 'double'),\n",
       " ('products_reordered_in_latest4orders', 'bigint'),\n",
       " ('latest1_products', 'array<string>'),\n",
       " ('latest2_products', 'array<string>'),\n",
       " ('is_in_latest1_order', 'int'),\n",
       " ('is_in_latest2_order', 'int'),\n",
       " ('User_purchase_frequency', 'double'),\n",
       " ('User_total_orders', 'int'),\n",
       " ('user_total_products', 'bigint'),\n",
       " ('avg_cart_size', 'double')]"
      ]
     },
     "execution_count": 36,
     "metadata": {},
     "output_type": "execute_result"
    }
   ],
   "source": [
    "x_df = x_df.join(userdf, on = 'user_id', how = 'inner')\n",
    "x_df.dtypes"
   ]
  },
  {
   "cell_type": "code",
   "execution_count": 37,
   "metadata": {},
   "outputs": [],
   "source": [
    "#Product features\n",
    "window3 = Window.partitionBy(orders_prior_df['product_id'])\n",
    "product_df = orders_prior_df.select('product_id',F.round(F.avg('days_since_prior_order').over(window3)).alias(\"products_purchase_frequency\"),F.count('order_id').over(window3).alias(\"NumberOfTimes_product_ordered\")).dropDuplicates()\n",
    "#product_df.orderBy('product_id').show(5)\n",
    "#number of users' ordered the product"
   ]
  },
  {
   "cell_type": "code",
   "execution_count": 38,
   "metadata": {},
   "outputs": [],
   "source": [
    "x_df = x_df.join(product_df, on = 'product_id', how = 'inner')\n"
   ]
  },
  {
   "cell_type": "markdown",
   "metadata": {},
   "source": [
    "x_df.orderBy('user_id').show(10)"
   ]
  },
  {
   "cell_type": "code",
   "execution_count": 39,
   "metadata": {},
   "outputs": [
    {
     "data": {
      "text/plain": [
       "[('product_id', 'string'),\n",
       " ('user_id', 'int'),\n",
       " ('user_prod_purchase_frequency', 'double'),\n",
       " ('products_in_number_of_userorders', 'bigint'),\n",
       " ('number_of_times_prod_reordered', 'bigint'),\n",
       " ('avg_add_to_cart_order', 'double'),\n",
       " ('days_since_prior_order', 'int'),\n",
       " ('is_in_next_cart', 'int'),\n",
       " ('user_prod_purchase_frequency_in_latest4orders', 'double'),\n",
       " ('products_reordered_in_latest4orders', 'bigint'),\n",
       " ('is_in_latest1_order', 'int'),\n",
       " ('is_in_latest2_order', 'int'),\n",
       " ('User_purchase_frequency', 'double'),\n",
       " ('User_total_orders', 'int'),\n",
       " ('user_total_products', 'bigint'),\n",
       " ('avg_cart_size', 'double'),\n",
       " ('products_purchase_frequency', 'double'),\n",
       " ('NumberOfTimes_product_ordered', 'bigint')]"
      ]
     },
     "execution_count": 39,
     "metadata": {},
     "output_type": "execute_result"
    }
   ],
   "source": [
    "x_df=x_df.drop('latest_ordered_products','latest1_products','latest2_products')\n",
    "x_df.dtypes\n"
   ]
  },
  {
   "cell_type": "code",
   "execution_count": 40,
   "metadata": {},
   "outputs": [],
   "source": [
    "\n",
    "x_df = x_df.withColumn(\"User_prod_reorder_rate\", x_df[\"products_in_number_of_userorders\"]/x_df[\"user_total_orders\"])\n"
   ]
  },
  {
   "cell_type": "code",
   "execution_count": 41,
   "metadata": {},
   "outputs": [],
   "source": [
    "#x_df.show(2)"
   ]
  },
  {
   "cell_type": "code",
   "execution_count": 42,
   "metadata": {},
   "outputs": [
    {
     "data": {
      "text/plain": [
       "[('product_id', 'string'),\n",
       " ('user_id', 'int'),\n",
       " ('user_prod_purchase_frequency', 'double'),\n",
       " ('products_in_number_of_userorders', 'bigint'),\n",
       " ('number_of_times_prod_reordered', 'bigint'),\n",
       " ('avg_add_to_cart_order', 'double'),\n",
       " ('days_since_prior_order', 'int'),\n",
       " ('is_in_next_cart', 'int'),\n",
       " ('user_prod_purchase_frequency_in_latest4orders', 'double'),\n",
       " ('products_reordered_in_latest4orders', 'bigint'),\n",
       " ('is_in_latest1_order', 'int'),\n",
       " ('is_in_latest2_order', 'int'),\n",
       " ('User_purchase_frequency', 'double'),\n",
       " ('User_total_orders', 'int'),\n",
       " ('user_total_products', 'bigint'),\n",
       " ('avg_cart_size', 'double'),\n",
       " ('products_purchase_frequency', 'double'),\n",
       " ('NumberOfTimes_product_ordered', 'bigint'),\n",
       " ('User_prod_reorder_rate', 'double')]"
      ]
     },
     "execution_count": 42,
     "metadata": {},
     "output_type": "execute_result"
    }
   ],
   "source": [
    "x_df.dtypes"
   ]
  },
  {
   "cell_type": "code",
   "execution_count": 43,
   "metadata": {},
   "outputs": [],
   "source": [
    "x_df=x_df.withColumn(\"productid\", x_df.product_id.cast(\"int\"))\n"
   ]
  },
  {
   "cell_type": "code",
   "execution_count": 44,
   "metadata": {},
   "outputs": [
    {
     "data": {
      "text/plain": [
       "[('product_id', 'string'),\n",
       " ('user_id', 'int'),\n",
       " ('user_prod_purchase_frequency', 'double'),\n",
       " ('products_in_number_of_userorders', 'bigint'),\n",
       " ('number_of_times_prod_reordered', 'bigint'),\n",
       " ('avg_add_to_cart_order', 'double'),\n",
       " ('days_since_prior_order', 'int'),\n",
       " ('is_in_next_cart', 'int'),\n",
       " ('user_prod_purchase_frequency_in_latest4orders', 'double'),\n",
       " ('products_reordered_in_latest4orders', 'bigint'),\n",
       " ('is_in_latest1_order', 'int'),\n",
       " ('is_in_latest2_order', 'int'),\n",
       " ('User_purchase_frequency', 'double'),\n",
       " ('User_total_orders', 'int'),\n",
       " ('user_total_products', 'bigint'),\n",
       " ('avg_cart_size', 'double'),\n",
       " ('products_purchase_frequency', 'double'),\n",
       " ('NumberOfTimes_product_ordered', 'bigint'),\n",
       " ('User_prod_reorder_rate', 'double'),\n",
       " ('productid', 'int')]"
      ]
     },
     "execution_count": 44,
     "metadata": {},
     "output_type": "execute_result"
    }
   ],
   "source": [
    "x_df.dtypes"
   ]
  },
  {
   "cell_type": "code",
   "execution_count": 45,
   "metadata": {},
   "outputs": [
    {
     "data": {
      "text/plain": [
       "[('user_id', 'int'),\n",
       " ('user_prod_purchase_frequency', 'double'),\n",
       " ('products_in_number_of_userorders', 'bigint'),\n",
       " ('number_of_times_prod_reordered', 'bigint'),\n",
       " ('avg_add_to_cart_order', 'double'),\n",
       " ('days_since_prior_order', 'int'),\n",
       " ('is_in_next_cart', 'int'),\n",
       " ('user_prod_purchase_frequency_in_latest4orders', 'double'),\n",
       " ('products_reordered_in_latest4orders', 'bigint'),\n",
       " ('is_in_latest1_order', 'int'),\n",
       " ('is_in_latest2_order', 'int'),\n",
       " ('User_purchase_frequency', 'double'),\n",
       " ('User_total_orders', 'int'),\n",
       " ('user_total_products', 'bigint'),\n",
       " ('avg_cart_size', 'double'),\n",
       " ('products_purchase_frequency', 'double'),\n",
       " ('NumberOfTimes_product_ordered', 'bigint'),\n",
       " ('User_prod_reorder_rate', 'double'),\n",
       " ('product_id', 'int')]"
      ]
     },
     "execution_count": 45,
     "metadata": {},
     "output_type": "execute_result"
    }
   ],
   "source": [
    "x_df = x_df.drop('product_id')\n",
    "x_df = x_df.withColumnRenamed(\"productid\",\"product_id\")\n",
    "x_df.dtypes"
   ]
  },
  {
   "cell_type": "markdown",
   "metadata": {},
   "source": [
    "x_df.write.csv('instacart_feature.csv',header = True)"
   ]
  },
  {
   "cell_type": "code",
   "execution_count": 46,
   "metadata": {},
   "outputs": [
    {
     "name": "stdout",
     "output_type": "stream",
     "text": [
      "                                               0\n",
      "user_id                                        0\n",
      "user_prod_purchase_frequency                   0\n",
      "products_in_number_of_userorders               0\n",
      "number_of_times_prod_reordered                 0\n",
      "avg_add_to_cart_order                          0\n",
      "days_since_prior_order                         0\n",
      "is_in_next_cart                                0\n",
      "user_prod_purchase_frequency_in_latest4orders  0\n",
      "products_reordered_in_latest4orders            0\n",
      "is_in_latest1_order                            0\n",
      "is_in_latest2_order                            0\n",
      "User_purchase_frequency                        0\n",
      "User_total_orders                              0\n",
      "user_total_products                            0\n",
      "avg_cart_size                                  0\n",
      "products_purchase_frequency                    0\n",
      "NumberOfTimes_product_ordered                  0\n",
      "User_prod_reorder_rate                         0\n",
      "product_id                                     0\n"
     ]
    }
   ],
   "source": [
    "#print(x_df.select([F.count(F.when(F.isnan(c) | F.col(c).isNull(), c)).alias(c) for c in x_df.columns]).toPandas().transpose())\n",
    "x_df = x_df.na.fill(999)\n",
    "print(x_df.select([F.count(F.when(F.isnan(c) | F.col(c).isNull(), c)).alias(c) for c in x_df.columns]).toPandas().transpose())"
   ]
  },
  {
   "cell_type": "code",
   "execution_count": 47,
   "metadata": {},
   "outputs": [
    {
     "name": "stdout",
     "output_type": "stream",
     "text": [
      "Target column is  Column<b'is_in_next_cart'>\n"
     ]
    }
   ],
   "source": [
    "\n",
    "#target column identification\n",
    "target_col = x_df[\"is_in_next_cart\"]\n",
    "print(\"Target column is \",target_col)\n",
    "drptar = x_df.drop(\"is_in_next_cart\")"
   ]
  },
  {
   "cell_type": "code",
   "execution_count": 48,
   "metadata": {},
   "outputs": [],
   "source": [
    "#x_df.show(5)\n",
    "#drptar.show(5)"
   ]
  },
  {
   "cell_type": "code",
   "execution_count": 49,
   "metadata": {},
   "outputs": [
    {
     "data": {
      "text/plain": [
       "[('user_id', 'int'),\n",
       " ('user_prod_purchase_frequency', 'double'),\n",
       " ('products_in_number_of_userorders', 'bigint'),\n",
       " ('number_of_times_prod_reordered', 'bigint'),\n",
       " ('avg_add_to_cart_order', 'double'),\n",
       " ('days_since_prior_order', 'int'),\n",
       " ('user_prod_purchase_frequency_in_latest4orders', 'double'),\n",
       " ('products_reordered_in_latest4orders', 'bigint'),\n",
       " ('is_in_latest1_order', 'int'),\n",
       " ('is_in_latest2_order', 'int'),\n",
       " ('User_purchase_frequency', 'double'),\n",
       " ('User_total_orders', 'int'),\n",
       " ('user_total_products', 'bigint'),\n",
       " ('avg_cart_size', 'double'),\n",
       " ('products_purchase_frequency', 'double'),\n",
       " ('NumberOfTimes_product_ordered', 'bigint'),\n",
       " ('User_prod_reorder_rate', 'double'),\n",
       " ('product_id', 'int')]"
      ]
     },
     "execution_count": 49,
     "metadata": {},
     "output_type": "execute_result"
    }
   ],
   "source": [
    "drptar.dtypes"
   ]
  },
  {
   "cell_type": "code",
   "execution_count": 50,
   "metadata": {},
   "outputs": [
    {
     "name": "stdout",
     "output_type": "stream",
     "text": [
      "numerical columns:  ['user_id', 'user_prod_purchase_frequency', 'products_in_number_of_userorders', 'number_of_times_prod_reordered', 'avg_add_to_cart_order', 'days_since_prior_order', 'user_prod_purchase_frequency_in_latest4orders', 'products_reordered_in_latest4orders', 'is_in_latest1_order', 'is_in_latest2_order', 'User_purchase_frequency', 'User_total_orders', 'user_total_products', 'avg_cart_size', 'products_purchase_frequency', 'NumberOfTimes_product_ordered', 'User_prod_reorder_rate', 'product_id']\n",
      "categorical columns:  []\n"
     ]
    }
   ],
   "source": [
    "num_cols = [t[0] for t in drptar.dtypes if t[1] == 'int' or t[1] == 'double' or t[1]=='bigint']\n",
    "#num_cols = df._get_numeric_data().columns\n",
    "print(\"numerical columns: \",num_cols)\n",
    "cat_cols = [t[0] for t in drptar.dtypes if t[1] == 'string']\n",
    "print(\"categorical columns: \",cat_cols)"
   ]
  },
  {
   "cell_type": "code",
   "execution_count": 51,
   "metadata": {},
   "outputs": [],
   "source": [
    "from pyspark.ml.feature import StringIndexer, VectorAssembler\n",
    "from pyspark.ml.feature import OneHotEncoderEstimator\n",
    "categoricalColumns = cat_cols\n",
    "stages = []\n",
    "for categoricalCol in categoricalColumns:\n",
    "    stringIndexer = StringIndexer(inputCol = categoricalCol, outputCol = categoricalCol + 'Index')\n",
    "    encoder = OneHotEncoderEstimator(inputCols=[stringIndexer.getOutputCol()], outputCols=[categoricalCol + \"classVec\"])\n",
    "    stages += [stringIndexer, encoder]\n",
    "    \n",
    "label_stringIdx = StringIndexer(inputCol = 'is_in_next_cart', outputCol = 'label')\n",
    "stages += [label_stringIdx]\n",
    "#numericCols = ['tenure', 'MonthlyCharges', 'TotalCharges']\n",
    "numericCols = num_cols\n",
    "assemblerInputs = [a + \"classVec\" for a in categoricalColumns] + numericCols\n",
    "assembler = VectorAssembler(inputCols=assemblerInputs, outputCol=\"features\")\n",
    "stages += [assembler]"
   ]
  },
  {
   "cell_type": "code",
   "execution_count": 52,
   "metadata": {},
   "outputs": [
    {
     "name": "stdout",
     "output_type": "stream",
     "text": [
      "root\n",
      " |-- label: double (nullable = false)\n",
      " |-- features: vector (nullable = true)\n",
      " |-- user_id: integer (nullable = true)\n",
      " |-- user_prod_purchase_frequency: double (nullable = false)\n",
      " |-- products_in_number_of_userorders: long (nullable = false)\n",
      " |-- number_of_times_prod_reordered: long (nullable = true)\n",
      " |-- avg_add_to_cart_order: double (nullable = false)\n",
      " |-- days_since_prior_order: integer (nullable = true)\n",
      " |-- is_in_next_cart: integer (nullable = true)\n",
      " |-- user_prod_purchase_frequency_in_latest4orders: double (nullable = false)\n",
      " |-- products_reordered_in_latest4orders: long (nullable = false)\n",
      " |-- is_in_latest1_order: integer (nullable = true)\n",
      " |-- is_in_latest2_order: integer (nullable = true)\n",
      " |-- User_purchase_frequency: double (nullable = false)\n",
      " |-- User_total_orders: integer (nullable = true)\n",
      " |-- user_total_products: long (nullable = false)\n",
      " |-- avg_cart_size: double (nullable = false)\n",
      " |-- products_purchase_frequency: double (nullable = false)\n",
      " |-- NumberOfTimes_product_ordered: long (nullable = false)\n",
      " |-- User_prod_reorder_rate: double (nullable = false)\n",
      " |-- product_id: integer (nullable = true)\n",
      "\n"
     ]
    }
   ],
   "source": [
    "\n",
    "columns = x_df.columns\n",
    "from pyspark.ml import Pipeline\n",
    "pipeline = Pipeline(stages = stages)\n",
    "pipelineModel = pipeline.fit(x_df)\n",
    "df = pipelineModel.transform(x_df)\n",
    "selectedCols = ['label', 'features'] + columns\n",
    "df = df.select(selectedCols)\n",
    "df.printSchema()"
   ]
  },
  {
   "cell_type": "code",
   "execution_count": 53,
   "metadata": {},
   "outputs": [],
   "source": [
    "df = df.select('label','features','user_id','product_id','days_since_prior_order')"
   ]
  },
  {
   "cell_type": "markdown",
   "metadata": {},
   "source": [
    "df.cache()\n",
    "df.show(2)"
   ]
  },
  {
   "cell_type": "code",
   "execution_count": 54,
   "metadata": {},
   "outputs": [
    {
     "name": "stdout",
     "output_type": "stream",
     "text": [
      "+-------+\n",
      "|user_id|\n",
      "+-------+\n",
      "|      1|\n",
      "|      2|\n",
      "|      5|\n",
      "|      7|\n",
      "|      8|\n",
      "+-------+\n",
      "only showing top 5 rows\n",
      "\n"
     ]
    }
   ],
   "source": [
    "users = df.select('user_id').distinct()\n",
    "users.orderBy('user_id').show(5)"
   ]
  },
  {
   "cell_type": "code",
   "execution_count": 55,
   "metadata": {},
   "outputs": [
    {
     "name": "stdout",
     "output_type": "stream",
     "text": [
      "+-------+\n",
      "|user_id|\n",
      "+-------+\n",
      "|     23|\n",
      "|     29|\n",
      "|     34|\n",
      "|     42|\n",
      "|     47|\n",
      "|     64|\n",
      "|     67|\n",
      "|     70|\n",
      "|     79|\n",
      "|     84|\n",
      "|     97|\n",
      "|    114|\n",
      "|    117|\n",
      "|    120|\n",
      "|    155|\n",
      "|    161|\n",
      "|    176|\n",
      "|    193|\n",
      "|    198|\n",
      "|    203|\n",
      "+-------+\n",
      "only showing top 20 rows\n",
      "\n"
     ]
    }
   ],
   "source": [
    "test_users = users.sample(False, 0.2, 42)\n",
    "test_users.orderBy('user_id').show()"
   ]
  },
  {
   "cell_type": "code",
   "execution_count": 56,
   "metadata": {},
   "outputs": [],
   "source": [
    "user_list = list(test_users.select('user_id').toPandas()['user_id'])"
   ]
  },
  {
   "cell_type": "code",
   "execution_count": 57,
   "metadata": {},
   "outputs": [
    {
     "data": {
      "text/plain": [
       "[('label', 'double'),\n",
       " ('features', 'vector'),\n",
       " ('user_id', 'int'),\n",
       " ('product_id', 'int'),\n",
       " ('days_since_prior_order', 'int')]"
      ]
     },
     "execution_count": 57,
     "metadata": {},
     "output_type": "execute_result"
    }
   ],
   "source": [
    "test = df.where(df[\"user_id\"].isin (user_list))\n",
    "test.dtypes\n",
    "\n"
   ]
  },
  {
   "cell_type": "code",
   "execution_count": 58,
   "metadata": {},
   "outputs": [
    {
     "data": {
      "text/plain": [
       "[('label', 'double'),\n",
       " ('features', 'vector'),\n",
       " ('user_id', 'int'),\n",
       " ('product_id', 'int'),\n",
       " ('days_since_prior_order', 'int')]"
      ]
     },
     "execution_count": 58,
     "metadata": {},
     "output_type": "execute_result"
    }
   ],
   "source": [
    "train = df.where(~df[\"user_id\"].isin (user_list))\n",
    "train.dtypes"
   ]
  },
  {
   "cell_type": "code",
   "execution_count": 59,
   "metadata": {},
   "outputs": [
    {
     "name": "stdout",
     "output_type": "stream",
     "text": [
      "Training accuracy: 0.7466957565916846\n",
      "Test Accuracy: 0.7470932128962567\n",
      "Test Area Under PR:  0.4810912193009412\n"
     ]
    }
   ],
   "source": [
    "from pyspark.ml.evaluation import BinaryClassificationEvaluator\n",
    "from pyspark.ml.classification import RandomForestClassifier\n",
    "rf = RandomForestClassifier(labelCol=\"label\", featuresCol=\"features\", numTrees=10)\n",
    "RFmodel = rf.fit(train)\n",
    "predictions = RFmodel.transform(test)\n",
    "Train_predictions = RFmodel.transform(train)\n",
    "evaluator = BinaryClassificationEvaluator(metricName = 'areaUnderPR')\n",
    "print('Training accuracy: ' + str(evaluator.evaluate(Train_predictions, {evaluator.metricName: \"areaUnderROC\"})))\n",
    "print(\"Test Accuracy: \" + str(evaluator.evaluate(predictions, {evaluator.metricName: \"areaUnderROC\"})))\n",
    "predictions_pandas = predictions.toPandas() \n",
    "print('Test Area Under PR: ', evaluator.evaluate(predictions))\n",
    "\n"
   ]
  },
  {
   "cell_type": "code",
   "execution_count": 60,
   "metadata": {},
   "outputs": [
    {
     "name": "stdout",
     "output_type": "stream",
     "text": [
      "F1-Score: 0.3571837090996659, Recall: 0.25148000056515535, Precision: 0.6161808488541162\n"
     ]
    }
   ],
   "source": [
    "from sklearn.metrics import f1_score, recall_score, precision_score\n",
    "f1 = f1_score(predictions_pandas.label, predictions_pandas.prediction) \n",
    "recall = recall_score(predictions_pandas.label, predictions_pandas.prediction) \n",
    "precision = precision_score(predictions_pandas.label, predictions_pandas.prediction)\n",
    "print('F1-Score: {}, Recall: {}, Precision: {}'.format(f1, recall, precision))"
   ]
  },
  {
   "cell_type": "markdown",
   "metadata": {},
   "source": [
    "print(\"Not buy: \",train.filter(train['label']==0).count())\n",
    "print(\"Buy: \",train.filter(train['label']==1).count())"
   ]
  },
  {
   "cell_type": "markdown",
   "metadata": {},
   "source": [
    "print(\"Training Dataset Count: \" + str(train.count()))\n",
    "print(\"Test Dataset Count: \" + str(test.count()))"
   ]
  },
  {
   "cell_type": "code",
   "execution_count": 61,
   "metadata": {},
   "outputs": [],
   "source": [
    "spark.catalog.clearCache()\n",
    "from pyspark.ml.classification import LogisticRegression\n",
    "from pyspark.ml.evaluation import BinaryClassificationEvaluator\n",
    "LR = LogisticRegression(featuresCol = 'features', labelCol = 'label', maxIter = 10)\n",
    "# Train model with Training Data\n",
    "LRmodel = LR.fit(train)\n"
   ]
  },
  {
   "cell_type": "code",
   "execution_count": 62,
   "metadata": {},
   "outputs": [
    {
     "name": "stdout",
     "output_type": "stream",
     "text": [
      "FPR:  0      0.000000\n",
      "1      0.001169\n",
      "2      0.002560\n",
      "3      0.003892\n",
      "4      0.006659\n",
      "         ...   \n",
      "197    0.983383\n",
      "198    0.988416\n",
      "199    0.993633\n",
      "200    1.000000\n",
      "201    1.000000\n",
      "Name: FPR, Length: 202, dtype: float64\n",
      "TPR:  0      0.000000\n",
      "1      0.016326\n",
      "2      0.035703\n",
      "3      0.051370\n",
      "4      0.073623\n",
      "         ...   \n",
      "197    0.997001\n",
      "198    0.998434\n",
      "199    0.999178\n",
      "200    1.000000\n",
      "201    1.000000\n",
      "Name: TPR, Length: 202, dtype: float64\n"
     ]
    },
    {
     "data": {
      "image/png": "[encoded data removed]",
      "text/plain": [
       "<Figure size 432x288 with 1 Axes>"
      ]
     },
     "metadata": {
      "needs_background": "light"
     },
     "output_type": "display_data"
    },
    {
     "name": "stdout",
     "output_type": "stream",
     "text": [
      "Training accuracy: 0.7417531193122249\n"
     ]
    }
   ],
   "source": [
    "#Summarizing model on training data and obtaining the receiver-operating characteristic and areaUnderROC.\n",
    "trainingSummary = LRmodel.summary\n",
    "roc = trainingSummary.roc.toPandas()\n",
    "print('FPR: ',roc['FPR'])\n",
    "print('TPR: ',roc['TPR'])\n",
    "plt.plot(roc['FPR'],roc['TPR'])\n",
    "plt.ylabel('False Positive Rate')\n",
    "plt.xlabel('True Positive Rate')\n",
    "plt.title('ROC Curve')\n",
    "plt.show()\n",
    "\n",
    "print('Training accuracy: ' + str(trainingSummary.areaUnderROC))\n"
   ]
  },
  {
   "cell_type": "code",
   "execution_count": 63,
   "metadata": {},
   "outputs": [
    {
     "name": "stdout",
     "output_type": "stream",
     "text": [
      "precision:  0      0.802556\n",
      "1      0.802556\n",
      "2      0.802322\n",
      "3      0.793415\n",
      "4      0.762880\n",
      "         ...   \n",
      "196    0.228614\n",
      "197    0.227805\n",
      "198    0.227160\n",
      "199    0.226367\n",
      "200    0.225394\n",
      "Name: precision, Length: 201, dtype: float64\n",
      "recall : 0      0.000000\n",
      "1      0.016326\n",
      "2      0.035703\n",
      "3      0.051370\n",
      "4      0.073623\n",
      "         ...   \n",
      "196    0.995688\n",
      "197    0.997001\n",
      "198    0.998434\n",
      "199    0.999178\n",
      "200    1.000000\n",
      "Name: recall, Length: 201, dtype: float64\n"
     ]
    },
    {
     "data": {
      "image/png": "[encoded data removed]",
      "text/plain": [
       "<Figure size 432x288 with 1 Axes>"
      ]
     },
     "metadata": {
      "needs_background": "light"
     },
     "output_type": "display_data"
    }
   ],
   "source": [
    "#Precision and recall.\n",
    "\n",
    "pr = trainingSummary.pr.toPandas()\n",
    "print('precision: ',pr['precision'])\n",
    "print('recall :' ,pr['recall'])\n",
    "plt.plot(pr['recall'],pr['precision'])\n",
    "plt.ylabel('Precision')\n",
    "plt.xlabel('Recall')\n",
    "plt.show()"
   ]
  },
  {
   "cell_type": "code",
   "execution_count": 64,
   "metadata": {},
   "outputs": [
    {
     "name": "stdout",
     "output_type": "stream",
     "text": [
      "fMeasure:  DataFrame[threshold: double, F-Measure: double]\n"
     ]
    }
   ],
   "source": [
    "fMeasure = trainingSummary.fMeasureByThreshold\n",
    "print('fMeasure: ',fMeasure)\n",
    "maxFMeasure = fMeasure.groupBy().max('F-Measure').select('max(F-Measure)').head()\n",
    "bestThreshold = fMeasure.where(fMeasure['F-Measure'] == maxFMeasure['max(F-Measure)']) \\\n",
    "    .select('threshold').head()['threshold']\n",
    "LR = LR.setThreshold(bestThreshold)\n",
    "LRmodel = LR.fit(train)\n"
   ]
  },
  {
   "cell_type": "code",
   "execution_count": 65,
   "metadata": {},
   "outputs": [
    {
     "name": "stdout",
     "output_type": "stream",
     "text": [
      "Max fmeasure:  Row(max(F-Measure)=0.4970603474174452)\n"
     ]
    }
   ],
   "source": [
    "print('Max fmeasure: ',maxFMeasure)"
   ]
  },
  {
   "cell_type": "code",
   "execution_count": 66,
   "metadata": {},
   "outputs": [
    {
     "data": {
      "image/png": "[encoded data removed]",
      "text/plain": [
       "<Figure size 432x288 with 1 Axes>"
      ]
     },
     "metadata": {
      "needs_background": "light"
     },
     "output_type": "display_data"
    }
   ],
   "source": [
    "pr = trainingSummary.pr.toPandas()\n",
    "plt.plot(pr['recall'],pr['precision'])\n",
    "plt.ylabel('Precision')\n",
    "plt.xlabel('Recall')\n",
    "plt.show()"
   ]
  },
  {
   "cell_type": "code",
   "execution_count": 67,
   "metadata": {},
   "outputs": [
    {
     "name": "stdout",
     "output_type": "stream",
     "text": [
      "Training accuracy: 0.7417693496894918\n",
      "Test Accuracy: 0.744014830361391\n"
     ]
    }
   ],
   "source": [
    "predictions = LRmodel.transform(test)\n",
    "Train_predictions = LRmodel.transform(train)\n",
    "evaluator = BinaryClassificationEvaluator()\n",
    "print('Training accuracy: ' + str(evaluator.evaluate(Train_predictions)))\n",
    "print(\"Test Accuracy: \" + str(evaluator.evaluate(predictions)))\n"
   ]
  },
  {
   "cell_type": "code",
   "execution_count": null,
   "metadata": {},
   "outputs": [],
   "source": []
  }
 ],
 "metadata": {
  "kernelspec": {
   "display_name": "Python 3",
   "language": "python",
   "name": "python3"
  },
  "language_info": {
   "codemirror_mode": {
    "name": "ipython",
    "version": 3
   },
   "file_extension": ".py",
   "mimetype": "text/x-python",
   "name": "python",
   "nbconvert_exporter": "python",
   "pygments_lexer": "ipython3",
   "version": "3.7.4"
  }
 },
 "nbformat": 4,
 "nbformat_minor": 2
}
